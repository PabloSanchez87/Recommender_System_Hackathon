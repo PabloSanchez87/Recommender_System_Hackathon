{
 "cells": [
  {
   "cell_type": "markdown",
   "metadata": {},
   "source": [
    "# Model dataset"
   ]
  },
  {
   "cell_type": "markdown",
   "metadata": {},
   "source": [
    "## Cargamos los dataset preprocesados:\n",
    "\n",
    "---> [Notebook de exploración y submuestreo](dataset_exploration.ipynb)"
   ]
  },
  {
   "cell_type": "code",
   "execution_count": 1,
   "metadata": {},
   "outputs": [
    {
     "name": "stdout",
     "output_type": "stream",
     "text": [
      "Train: (36858893, 9)\n",
      "Test: (29275, 8)\n",
      "Train sample: (368589, 9)\n",
      "Train set: (294871, 9)\n",
      "Validation set: (73718, 9)\n"
     ]
    }
   ],
   "source": [
    "import pandas as pd\n",
    "\n",
    "# Definir rutas\n",
    "train_path = \"/home/pablost/Hackathon_inditex_data_science/hackathon-inditex-data-recommender/data/processed/hybrid_model/train_preprocessed.pkl\"\n",
    "test_path = \"/home/pablost/Hackathon_inditex_data_science/hackathon-inditex-data-recommender/data/processed/hybrid_model/test_preprocessed.pkl\"\n",
    "sample_path = \"/home/pablost/Hackathon_inditex_data_science/hackathon-inditex-data-recommender/data/processed/hybrid_model/train_sample_preprocessed.pkl\"\n",
    "train_set_path = \"/home/pablost/Hackathon_inditex_data_science/hackathon-inditex-data-recommender/data/processed/hybrid_model/train_set.pkl\"\n",
    "val_set_path = \"/home/pablost/Hackathon_inditex_data_science/hackathon-inditex-data-recommender/data/processed/hybrid_model/val_set.pkl\"\n",
    "\n",
    "# Cargar los datasets\n",
    "train = pd.read_pickle(train_path)\n",
    "test = pd.read_pickle(test_path)\n",
    "train_sample = pd.read_pickle(sample_path)\n",
    "train_set = pd.read_pickle(train_set_path)\n",
    "val_set = pd.read_pickle(val_set_path)\n",
    "\n",
    "# Confirmar que los datos se han cargado correctamente\n",
    "print(f\"Train: {train.shape}\")\n",
    "print(f\"Test: {test.shape}\")\n",
    "print(f\"Train sample: {train_sample.shape}\")\n",
    "print(f\"Train set: {train_set.shape}\")\n",
    "print(f\"Validation set: {val_set.shape}\")\n"
   ]
  },
  {
   "cell_type": "markdown",
   "metadata": {},
   "source": [
    "---"
   ]
  },
  {
   "cell_type": "markdown",
   "metadata": {},
   "source": [
    "## Análisis de columnas comunes"
   ]
  },
  {
   "cell_type": "markdown",
   "metadata": {},
   "source": [
    "Para proceder con el enriquecimiento, primero confirmemos las columnas comunes entre Train y Test:"
   ]
  },
  {
   "cell_type": "code",
   "execution_count": 2,
   "metadata": {},
   "outputs": [
    {
     "name": "stdout",
     "output_type": "stream",
     "text": [
      "Columnas comunes entre Train y Test: {'timestamp_local', 'user_id', 'pagetype', 'device_type', 'partnumber', 'session_id', 'country', 'date'}\n"
     ]
    }
   ],
   "source": [
    "# Identificar columnas comunes entre Train y Test\n",
    "common_columns = set(train.columns).intersection(set(test.columns))\n",
    "print(f\"Columnas comunes entre Train y Test: {common_columns}\")\n"
   ]
  },
  {
   "cell_type": "markdown",
   "metadata": {},
   "source": [
    "### **Análisis de las columnas comunes**\n",
    "\n",
    "#### **Columnas comunes identificadas:**\n",
    "1. **`country`**: Representa el país asociado a la interacción.\n",
    "   - **Potencial**: Segmentación geográfica para recomendaciones basadas en tendencias locales.\n",
    "2. **`user_id`**: Identificador único del usuario (puede ser `-1` para no logueados).\n",
    "   - **Potencial**: Diferenciación de estrategias para usuarios logueados y no logueados.\n",
    "3. **`session_id`**: Identificador único de la sesión.\n",
    "   - **Potencial**: Agrupación y análisis por sesión.\n",
    "4. **`date`**: Fecha de la interacción.\n",
    "   - **Potencial**: Análisis temporal, detección de patrones de compra por días o periodos.\n",
    "5. **`device_type`**: Tipo de dispositivo utilizado.\n",
    "   - **Potencial**: Personalización basada en dispositivo.\n",
    "6. **`pagetype`**: Tipo de página visitada.\n",
    "   - **Potencial**: Contexto de la interacción (e.g., página de producto vs. categoría).\n",
    "7. **`partnumber`**: Identificador único del producto.\n",
    "   - **Potencial**: Relación directa con el producto interactuado.\n",
    "8. **`timestamp_local`**: Marca temporal detallada.\n",
    "   - **Potencial**: Análisis de comportamiento dentro de sesiones."
   ]
  },
  {
   "cell_type": "markdown",
   "metadata": {},
   "source": [
    "### **Propuestas de enriquecimiento**\n",
    "\n",
    "1. **Enriquecimiento temporal**:\n",
    "   - Crear nuevas características basadas en `date` y `timestamp_local`:\n",
    "     - Día de la semana, franja horaria (mañana, tarde, noche).\n",
    "     - Tiempo desde la última interacción dentro de una sesión.\n",
    "\n",
    "2. **Agrupaciones por `session_id` y `user_id`**:\n",
    "   - Número total de interacciones en la sesión.\n",
    "   - Diversidad de productos interactuados en una sesión.\n",
    "\n",
    "3. **Segmentación geográfica (`country`)**:\n",
    "   - Análisis de productos más populares por país.\n",
    "   - Crear un indicador de \"producto popular en este país\" para `partnumber`.\n",
    "\n",
    "4. **Segmentación por `device_type` y `pagetype`**:\n",
    "   - Identificar tendencias de interacción según el tipo de dispositivo.\n",
    "   - Detectar patrones específicos en páginas de producto o categorías.\n",
    "\n",
    "---"
   ]
  },
  {
   "cell_type": "markdown",
   "metadata": {},
   "source": [
    "## Enriquecimiento de los datasets\n",
    "Para alinear las propuestas de enriquecimiento con nuestro enfoque **híbrido** (colaborativo, basado en contenido y popularidad) y los **4 tipos de usuarios**, avancemos con un plan que priorice cada técnica según su relevancia."
   ]
  },
  {
   "cell_type": "markdown",
   "metadata": {},
   "source": [
    "### **Plan de enriquecimiento alineado al enfoque**"
   ]
  },
  {
   "cell_type": "markdown",
   "metadata": {},
   "source": [
    "1. **Colaborativo**:\n",
    "   - **Agrupaciones por `user_id` y `session_id`**:\n",
    "     - Contar interacciones por sesión (`session_length`).\n",
    "     - Diversidad de productos interactuados por sesión (`unique_products_count`).\n",
    "     - Popularidad del producto (`product_popularity`), basado en la frecuencia de interacción en `train`.\n",
    "\n",
    "2. **Basado en contenido**:\n",
    "   - **Relación producto-sesión**:\n",
    "     - Indicador de productos similares dentro de una sesión (`similar_products_count`).\n",
    "   - **Tiempo de interacción**:\n",
    "     - Añadir características derivadas de `timestamp_local`:\n",
    "       - Franja horaria de interacción (`time_of_day`).\n",
    "       - Diferencia entre interacciones consecutivas (`time_diff`).\n",
    "\n",
    "3. **Popularidad**:\n",
    "   - **Segmentación geográfica (`country`)**:\n",
    "     - Crear un indicador para \"producto popular en este país\" (`country_popularity`).\n",
    "   - **Dispositivo (`device_type`)**:\n",
    "     - Detectar tendencias de popularidad según el dispositivo."
   ]
  },
  {
   "cell_type": "markdown",
   "metadata": {},
   "source": [
    "---"
   ]
  },
  {
   "cell_type": "markdown",
   "metadata": {},
   "source": [
    "### **Enriquecimiento colaborativo**"
   ]
  },
  {
   "cell_type": "markdown",
   "metadata": {},
   "source": [
    "#### 1. Número de interacciones por sesión (session_length)"
   ]
  },
  {
   "cell_type": "code",
   "execution_count": 3,
   "metadata": {},
   "outputs": [],
   "source": [
    "# Calcular el número de interacciones por sesión\n",
    "train['session_length'] = train.groupby('session_id')['session_id'].transform('count')\n",
    "test['session_length'] = test.groupby('session_id')['session_id'].transform('count')"
   ]
  },
  {
   "cell_type": "markdown",
   "metadata": {},
   "source": [
    "#### 2. Diversidad de productos interactuados (unique_products_count)"
   ]
  },
  {
   "cell_type": "code",
   "execution_count": 4,
   "metadata": {},
   "outputs": [],
   "source": [
    "# Calcular la cantidad de productos únicos por sesión\n",
    "train['unique_products_count'] = train.groupby('session_id')['partnumber'].transform('nunique')\n",
    "test['unique_products_count'] = test.groupby('session_id')['partnumber'].transform('nunique')\n"
   ]
  },
  {
   "cell_type": "markdown",
   "metadata": {},
   "source": [
    "#### 3. Popularidad del producto (product_popularity)"
   ]
  },
  {
   "cell_type": "code",
   "execution_count": 5,
   "metadata": {},
   "outputs": [],
   "source": [
    "# Calcular la frecuencia de interacción de cada producto en Train\n",
    "product_popularity = train['partnumber'].value_counts().to_dict()\n",
    "\n",
    "# Mapear la popularidad de los productos en Train y Test\n",
    "train['product_popularity'] = train['partnumber'].map(product_popularity)\n",
    "test['product_popularity'] = test['partnumber'].map(product_popularity)\n"
   ]
  },
  {
   "cell_type": "markdown",
   "metadata": {},
   "source": [
    "#### Validación de enriquecimientos"
   ]
  },
  {
   "cell_type": "code",
   "execution_count": 6,
   "metadata": {},
   "outputs": [
    {
     "name": "stdout",
     "output_type": "stream",
     "text": [
      "          session_id  session_length  unique_products_count  \\\n",
      "10725642     4696487              40                     40   \n",
      "35628113     4572779              69                     69   \n",
      "35628118     4572779              69                     69   \n",
      "9475628      3239459             110                    110   \n",
      "9475555      3239459             110                    110   \n",
      "\n",
      "          product_popularity  \n",
      "10725642                1001  \n",
      "35628113                 510  \n",
      "35628118                 593  \n",
      "9475628                 6896  \n",
      "9475555                 5398  \n",
      "   session_id  session_length  unique_products_count  product_popularity\n",
      "0         746               7                      7              5439.0\n",
      "1         746               7                      7             19686.0\n",
      "2         746               7                      7              1823.0\n",
      "3         746               7                      7              9457.0\n",
      "4         746               7                      7                12.0\n"
     ]
    }
   ],
   "source": [
    "# Revisar las primeras filas para confirmar los enriquecimientos\n",
    "print(train[['session_id', 'session_length', 'unique_products_count', 'product_popularity']].head())\n",
    "print(test[['session_id', 'session_length', 'unique_products_count', 'product_popularity']].head())\n"
   ]
  },
  {
   "cell_type": "markdown",
   "metadata": {},
   "source": [
    "#### Análisis de los resultados de los enriquecimientos colaborativos"
   ]
  },
  {
   "cell_type": "markdown",
   "metadata": {},
   "source": [
    "##### **1. `session_length`**\n",
    "- **Train**:\n",
    "  - Ejemplo: `session_id = 4696487` tiene `session_length = 40`, lo que indica 40 interacciones en esta sesión.\n",
    "- **Test**:\n",
    "  - Ejemplo: `session_id = 746` tiene `session_length = 7`, consistente con el número de interacciones en las filas de este `session_id`.\n",
    "\n",
    "**Conclusión**: \n",
    "- La columna `session_length` está correctamente calculada en ambos datasets y es coherente con el agrupamiento por `session_id`.\n",
    "\n",
    "---\n",
    "\n",
    "##### **2. `unique_products_count`**\n",
    "- **Train**:\n",
    "  - Ejemplo: `session_id = 4696487` tiene `unique_products_count = 40`, igual a `session_length`. Esto implica que todas las interacciones son con productos distintos en esta sesión.\n",
    "- **Test**:\n",
    "  - Ejemplo: `session_id = 746` tiene `unique_products_count = 7`, igual a `session_length`. Todas las interacciones son con productos diferentes.\n",
    "\n",
    "**Conclusión**:\n",
    "- La columna `unique_products_count` refleja correctamente la diversidad de productos por sesión.\n",
    "\n",
    "---\n",
    "\n",
    "##### **3. `product_popularity`**\n",
    "- **Train**:\n",
    "  - Ejemplo: `partnumber = 1001` tiene una popularidad de `1001`, lo que indica que este producto fue interactuado 1001 veces en el dataset de entrenamiento.\n",
    "- **Test**:\n",
    "  - Ejemplo: `partnumber = 5439` tiene una popularidad de `5439` mapeada correctamente desde el `train`.\n",
    "\n",
    "**Observación en `Test`**:\n",
    "- Algunos productos (`partnumber`) tendrán valores nulos en `product_popularity` si no están presentes en `train`. Esto es esperable, ya que `Test` puede incluir productos nuevos."
   ]
  },
  {
   "cell_type": "code",
   "execution_count": 7,
   "metadata": {},
   "outputs": [],
   "source": [
    "# Manejar valores nulos en product_popularity de Test\n",
    "test['product_popularity'] = test['product_popularity'].fillna(1)"
   ]
  },
  {
   "cell_type": "markdown",
   "metadata": {},
   "source": [
    "---"
   ]
  },
  {
   "cell_type": "markdown",
   "metadata": {},
   "source": [
    "### **Enriquecimientos basados en contenido**"
   ]
  },
  {
   "cell_type": "markdown",
   "metadata": {},
   "source": [
    "1. `similar_products_count`\n",
    "\n",
    "    Cálculo:\n",
    "    - Determinamos la cantidad de veces que un producto específico es interactuado en la misma sesión.\n",
    "    - Esto puede indicar si un producto es especialmente relevante dentro de esa sesión."
   ]
  },
  {
   "cell_type": "code",
   "execution_count": 8,
   "metadata": {},
   "outputs": [],
   "source": [
    "# Calcular número de veces que un producto específico es interactuado en la misma sesión\n",
    "train['similar_products_count'] = train.groupby(['session_id', 'partnumber'])['partnumber'].transform('count')\n",
    "test['similar_products_count'] = test.groupby(['session_id', 'partnumber'])['partnumber'].transform('count')\n"
   ]
  },
  {
   "cell_type": "markdown",
   "metadata": {},
   "source": [
    "2. `time_of_day`\n",
    "    Cálculo:\n",
    "\n",
    "    Convertimos timestamp_local a una franja horaria categórica:\n",
    "    - Mañana: 06:00 - 12:00\n",
    "    - Tarde: 12:00 - 18:00\n",
    "    - Noche: 18:00 - 00:00\n",
    "    - Madrugada: 00:00 - 06:00"
   ]
  },
  {
   "cell_type": "code",
   "execution_count": 9,
   "metadata": {},
   "outputs": [],
   "source": [
    "# Convertir timestamp_local a tipo datetime si es necesario\n",
    "train['timestamp_local'] = pd.to_datetime(train['timestamp_local'])\n",
    "test['timestamp_local'] = pd.to_datetime(test['timestamp_local'])"
   ]
  },
  {
   "cell_type": "code",
   "execution_count": 10,
   "metadata": {},
   "outputs": [],
   "source": [
    "# Crear función para asignar franjas horarias\n",
    "def assign_time_of_day(timestamp):\n",
    "    hour = timestamp.hour\n",
    "    if 6 <= hour < 12:\n",
    "        return 'morning'\n",
    "    elif 12 <= hour < 18:\n",
    "        return 'afternoon'\n",
    "    elif 18 <= hour < 24:\n",
    "        return 'evening'\n",
    "    else:\n",
    "        return 'night'\n",
    "\n",
    "# Aplicar la función al dataset\n",
    "# Aplicar la función al dataset\n",
    "train['time_of_day'] = train['timestamp_local'].apply(assign_time_of_day)\n",
    "test['time_of_day'] = test['timestamp_local'].apply(assign_time_of_day)\n",
    "\n"
   ]
  },
  {
   "cell_type": "markdown",
   "metadata": {},
   "source": [
    "3. `time_diff`\n",
    "    Cálculo:\n",
    "\n",
    "    - Diferencia de tiempo entre interacciones consecutivas dentro de la misma sesión."
   ]
  },
  {
   "cell_type": "code",
   "execution_count": 11,
   "metadata": {},
   "outputs": [],
   "source": [
    "# Calcular diferencia de tiempo entre interacciones consecutivas en la misma sesión\n",
    "train['time_diff'] = train.groupby('session_id')['timestamp_local'].diff().dt.total_seconds()\n",
    "test['time_diff'] = test.groupby('session_id')['timestamp_local'].diff().dt.total_seconds()\n",
    "\n",
    "# Llenar valores faltantes con un valor específico (e.g., 0)\n",
    "train['time_diff'] = train['time_diff'].fillna(0)\n",
    "test['time_diff'] = test['time_diff'].fillna(0)\n"
   ]
  },
  {
   "cell_type": "code",
   "execution_count": 13,
   "metadata": {},
   "outputs": [
    {
     "name": "stdout",
     "output_type": "stream",
     "text": [
      "                 timestamp_local time_of_day\n",
      "10725642 2024-06-15 11:02:27.710     morning\n",
      "35628113 2024-06-15 03:43:20.699       night\n",
      "35628118 2024-06-15 03:43:08.240       night\n",
      "9475628  2024-06-15 03:37:24.111       night\n",
      "9475555  2024-06-15 03:37:03.935       night\n",
      "          timestamp_local time_of_day\n",
      "0 2024-06-15 18:36:47.390     evening\n",
      "1 2024-06-15 18:37:04.052     evening\n",
      "2 2024-06-15 18:37:48.159     evening\n",
      "3 2024-06-15 18:38:19.899     evening\n",
      "4 2024-06-15 18:38:46.492     evening\n"
     ]
    }
   ],
   "source": [
    "# Verificar las primeras filas para confirmar la franja horaria\n",
    "print(train[['timestamp_local', 'time_of_day']].head())\n",
    "print(test[['timestamp_local', 'time_of_day']].head())"
   ]
  },
  {
   "cell_type": "markdown",
   "metadata": {},
   "source": [
    "#### Validación"
   ]
  },
  {
   "cell_type": "markdown",
   "metadata": {},
   "source": [
    "Observación: \n",
    "\n",
    "En este caso, similar_products_count = 1 podría indicar que la característica no tiene variabilidad. Podría ser útil validar si hay sesiones donde el mismo producto aparece repetido para confirmar su utilidad."
   ]
  },
  {
   "cell_type": "code",
   "execution_count": 14,
   "metadata": {},
   "outputs": [
    {
     "data": {
      "text/plain": [
       "1    36858893\n",
       "Name: count, dtype: int64"
      ]
     },
     "execution_count": 14,
     "metadata": {},
     "output_type": "execute_result"
    }
   ],
   "source": [
    "# Revisar si hay productos repetidos en una misma sesión\n",
    "train.groupby(['session_id', 'partnumber']).size().value_counts()\n"
   ]
  },
  {
   "cell_type": "markdown",
   "metadata": {},
   "source": [
    "Observación:\n",
    "\n",
    "Los valores negativos en time_diff en Train sugieren que las interacciones no están ordenadas por tiempo dentro de las sesiones. Esto puede ser solucionado ordenando los datos antes de calcular la diferencia."
   ]
  },
  {
   "cell_type": "code",
   "execution_count": 15,
   "metadata": {},
   "outputs": [],
   "source": [
    "# Reordenar por sesión y tiempo antes de calcular time_diff\n",
    "train = train.sort_values(by=['session_id', 'timestamp_local'])\n",
    "train['time_diff'] = train.groupby('session_id')['timestamp_local'].diff().dt.total_seconds().fillna(0)\n",
    "\n",
    "test = test.sort_values(by=['session_id', 'timestamp_local'])\n",
    "test['time_diff'] = test.groupby('session_id')['timestamp_local'].diff().dt.total_seconds().fillna(0)\n"
   ]
  },
  {
   "cell_type": "code",
   "execution_count": 16,
   "metadata": {},
   "outputs": [
    {
     "name": "stdout",
     "output_type": "stream",
     "text": [
      "          session_id  similar_products_count time_of_day  time_diff\n",
      "16169047           1                       1   afternoon      0.000\n",
      "35654420           3                       1     evening      0.000\n",
      "35654419           3                       1     evening     11.399\n",
      "17808629           4                       1   afternoon      0.000\n",
      "17808628           4                       1   afternoon      3.042\n",
      "   session_id  similar_products_count time_of_day  time_diff\n",
      "0         746                       1     evening      0.000\n",
      "1         746                       1     evening     16.662\n",
      "2         746                       1     evening     44.107\n",
      "3         746                       1     evening     31.740\n",
      "4         746                       1     evening     26.593\n"
     ]
    }
   ],
   "source": [
    "# Validar las nuevas columnas en Train\n",
    "print(train[['session_id', 'similar_products_count', 'time_of_day', 'time_diff']].head())\n",
    "\n",
    "# Validar las nuevas columnas en Test\n",
    "print(test[['session_id', 'similar_products_count', 'time_of_day', 'time_diff']].head())\n"
   ]
  },
  {
   "cell_type": "markdown",
   "metadata": {},
   "source": [
    "#### **Análisis**\n"
   ]
  },
  {
   "cell_type": "markdown",
   "metadata": {},
   "source": [
    "**1. `similar_products_count`**\n",
    "- **Resultado**:\n",
    "  - Todos los valores de `similar_products_count` siguen siendo **1** para todas las filas de `Train` y `Test`.\n",
    "  - Esto indica que no hay sesiones donde el mismo producto haya sido interactuado más de una vez.\n",
    "\n",
    "**Conclusión**:\n",
    "- **`similar_products_count` no aporta variabilidad** en este caso. Por tanto, puede no ser una característica útil para el modelo, y es razonable descartarla para no introducir ruido.\n",
    "\n",
    "---\n",
    "\n",
    "**2. `time_of_day`**\n",
    "- **Train**:\n",
    "  - Ejemplo: `session_id = 16169047` tiene un valor de **`afternoon`** que coincide con la hora de la interacción.\n",
    "  - Todos los valores están correctamente calculados y siguen reflejando las franjas horarias asignadas.\n",
    "- **Test**:\n",
    "  - Similarmente, los valores como **`evening`** son coherentes con los horarios en `timestamp_local`.\n",
    "\n",
    "**Conclusión**:\n",
    "- **`time_of_day` está validada y lista para usarse.**\n",
    "\n",
    "---\n",
    "**3. `time_diff`**\n",
    "- **Train**:\n",
    "  - Ejemplo: `session_id = 16169047` tiene un `time_diff = 0.000` para la primera interacción, mientras que las siguientes tienen valores como `11.399` (segundos entre interacciones consecutivas).\n",
    "  - Los valores ahora son positivos tras ordenar los datos por `session_id` y `timestamp_local`, lo que asegura consistencia.\n",
    "- **Test**:\n",
    "  - Ejemplo: `session_id = 746` tiene diferencias de tiempo como `16.662`, `44.107`, lo que también refleja correctamente los intervalos entre interacciones.\n",
    "\n",
    "**Conclusión**:\n",
    "- **`time_diff` está correctamente calculada** y puede ser una característica valiosa para modelar comportamientos dentro de una sesión."
   ]
  },
  {
   "cell_type": "markdown",
   "metadata": {},
   "source": [
    "#### Descartamos `similar_products_count` en ambos datasets"
   ]
  },
  {
   "cell_type": "code",
   "execution_count": 17,
   "metadata": {},
   "outputs": [
    {
     "name": "stdout",
     "output_type": "stream",
     "text": [
      "Columnas en Train después de eliminar similar_products_count:\n",
      "Index(['session_id', 'date', 'timestamp_local', 'add_to_cart', 'user_id',\n",
      "       'country', 'partnumber', 'device_type', 'pagetype', 'session_length',\n",
      "       'unique_products_count', 'product_popularity', 'time_of_day',\n",
      "       'time_diff'],\n",
      "      dtype='object')\n",
      "\n",
      "Columnas en Test después de eliminar similar_products_count:\n",
      "Index(['session_id', 'date', 'timestamp_local', 'user_id', 'country',\n",
      "       'partnumber', 'device_type', 'pagetype', 'session_length',\n",
      "       'unique_products_count', 'product_popularity', 'time_of_day',\n",
      "       'time_diff'],\n",
      "      dtype='object')\n"
     ]
    }
   ],
   "source": [
    "# Eliminar similar_products_count de Train y Test\n",
    "train.drop(columns=['similar_products_count'], inplace=True)\n",
    "test.drop(columns=['similar_products_count'], inplace=True)\n",
    "\n",
    "# Confirmar que la columna ha sido eliminada\n",
    "print(\"Columnas en Train después de eliminar similar_products_count:\")\n",
    "print(train.columns)\n",
    "print(\"\\nColumnas en Test después de eliminar similar_products_count:\")\n",
    "print(test.columns)\n"
   ]
  },
  {
   "cell_type": "markdown",
   "metadata": {},
   "source": [
    "---"
   ]
  },
  {
   "cell_type": "markdown",
   "metadata": {},
   "source": [
    "### **Enriquecimientos basados en popularidad**\n",
    "Estos enriquecimientos están diseñados para capturar tendencias globales o segmentadas en los datos, particularmente útiles para usuarios nuevos y usuarios no logueados."
   ]
  },
  {
   "cell_type": "markdown",
   "metadata": {},
   "source": [
    "#### **Propuestas de enriquecimiento**\n",
    "- **`country_popularity`**:\n",
    "   - Calcular la popularidad de cada producto en función del país (`country`).\n",
    "   - Utilizar la frecuencia de interacción en el `train` agrupada por `country` y `partnumber`.\n",
    "\n",
    "- **`device_popularity`**:\n",
    "   - Calcular la popularidad de cada producto en función del dispositivo (`device_type`).\n",
    "   - Similar al cálculo de popularidad por país, pero segmentado por dispositivo.\n",
    "\n"
   ]
  },
  {
   "cell_type": "markdown",
   "metadata": {},
   "source": [
    "1. `country_popularity`"
   ]
  },
  {
   "cell_type": "code",
   "execution_count": 18,
   "metadata": {},
   "outputs": [],
   "source": [
    "# Calcular la popularidad de cada producto por país en Train\n",
    "country_popularity = train.groupby(['country', 'partnumber']).size().reset_index(name='country_popularity')\n",
    "\n",
    "# Mapear la popularidad al Train y Test\n",
    "train = train.merge(country_popularity, on=['country', 'partnumber'], how='left')\n",
    "test = test.merge(country_popularity, on=['country', 'partnumber'], how='left')\n",
    "\n",
    "# Llenar valores faltantes en Test con 0\n",
    "test['country_popularity'] = test['country_popularity'].fillna(0)\n"
   ]
  },
  {
   "cell_type": "markdown",
   "metadata": {},
   "source": [
    "2. `device_popularity`"
   ]
  },
  {
   "cell_type": "code",
   "execution_count": 19,
   "metadata": {},
   "outputs": [],
   "source": [
    "# Calcular la popularidad de cada producto por dispositivo en Train\n",
    "device_popularity = train.groupby(['device_type', 'partnumber']).size().reset_index(name='device_popularity')\n",
    "\n",
    "# Mapear la popularidad al Train y Test\n",
    "train = train.merge(device_popularity, on=['device_type', 'partnumber'], how='left')\n",
    "test = test.merge(device_popularity, on=['device_type', 'partnumber'], how='left')\n",
    "\n",
    "# Llenar valores faltantes en Test con 0\n",
    "test['device_popularity'] = test['device_popularity'].fillna(0)\n"
   ]
  },
  {
   "cell_type": "markdown",
   "metadata": {},
   "source": [
    "#### Validación"
   ]
  },
  {
   "cell_type": "code",
   "execution_count": 20,
   "metadata": {},
   "outputs": [
    {
     "name": "stdout",
     "output_type": "stream",
     "text": [
      "   country  partnumber  country_popularity  device_type  device_popularity\n",
      "0       57       31751                 204            1                623\n",
      "1       29       35349                 497            1               1964\n",
      "2       29        7701                 399            1               1481\n",
      "3       57        5092                1579            1               4800\n",
      "4       57       15276                2609            1              22711\n",
      "   country  partnumber  country_popularity  device_type  device_popularity\n",
      "0       57        1254              1474.0            1             5201.0\n",
      "1       57       32544              5340.0            1            18906.0\n",
      "2       57       12639               225.0            1             1666.0\n",
      "3       57       18048              1593.0            1             8966.0\n",
      "4       57       13295                 4.0            1               11.0\n"
     ]
    }
   ],
   "source": [
    "# Validar nuevas columnas en Train\n",
    "print(train[['country', 'partnumber', 'country_popularity', 'device_type', 'device_popularity']].head())\n",
    "\n",
    "# Validar nuevas columnas en Test\n",
    "print(test[['country', 'partnumber', 'country_popularity', 'device_type', 'device_popularity']].head())\n"
   ]
  },
  {
   "cell_type": "markdown",
   "metadata": {},
   "source": [
    "#### Análisis"
   ]
  },
  {
   "cell_type": "markdown",
   "metadata": {},
   "source": [
    "##### **1. `country_popularity`**\n",
    "- **Train**:\n",
    "  - Ejemplo: Para `country = 57` y `partnumber = 31751`, la popularidad es **204**. Esto refleja la cantidad de veces que este producto fue interactuado en este país dentro del conjunto de entrenamiento.\n",
    "  - Otros valores como **1579** (`partnumber = 5092`) y **2609** (`partnumber = 15276`) indican productos más populares en este país.\n",
    "\n",
    "- **Test**:\n",
    "  - Los valores como **1474.0** (`partnumber = 1254`) y **5340.0** (`partnumber = 32544`) reflejan las mismas métricas de popularidad basadas en el mapeo desde `Train`.\n",
    "\n",
    "##### Observaciones:\n",
    "- Los valores se asignan correctamente en `Test` para productos presentes en `Train`.\n",
    "- Para productos nuevos (no presentes en `Train`), la popularidad sería **0**.\n",
    "\n",
    "---\n",
    "\n",
    "##### **2. `device_popularity`**\n",
    "- **Train**:\n",
    "  - Ejemplo: Para `device_type = 1` y `partnumber = 31751`, la popularidad es **623**. Esto indica cuántas veces este producto fue interactuado desde este tipo de dispositivo.\n",
    "  - Valores más altos, como **22711** (`partnumber = 15276`), sugieren productos más populares para este tipo de dispositivo.\n",
    "\n",
    "- **Test**:\n",
    "  - Los valores mapeados, como **5201.0** (`partnumber = 1254`) y **18906.0** (`partnumber = 32544`), son coherentes con las interacciones en `Train`.\n",
    "\n",
    "##### Observaciones:\n",
    "- Al igual que con `country_popularity`, los valores se asignan correctamente en `Test`, y los productos nuevos tienen una popularidad predeterminada de **0**.\n",
    "\n",
    "---\n",
    "\n",
    "##### **Conclusión de los enriquecimientos basados en popularidad**\n",
    "1. **`country_popularity`**:\n",
    "   - Calculada y mapeada correctamente.\n",
    "   - Captura tendencias de popularidad a nivel geográfico, útil para recomendaciones para usuarios no logueados.\n",
    "\n",
    "2. **`device_popularity`**:\n",
    "   - Calculada y mapeada correctamente.\n",
    "   - Útil para capturar patrones específicos de dispositivos, como móviles vs. escritorio.\n",
    "\n",
    "3. **Productos nuevos en `Test`**:\n",
    "   - La asignación de popularidad predeterminada de **0** es adecuada, ya que refleja que no hay datos previos en `Train`.\n",
    "\n",
    "---"
   ]
  },
  {
   "cell_type": "markdown",
   "metadata": {},
   "source": [
    "## Persistencia de dataset enriquecidos basados en la estratégia del modelo de recomendaciones"
   ]
  },
  {
   "cell_type": "code",
   "execution_count": 21,
   "metadata": {},
   "outputs": [
    {
     "name": "stdout",
     "output_type": "stream",
     "text": [
      "Datasets enriquecidos guardados correctamente.\n"
     ]
    }
   ],
   "source": [
    "# Definir rutas para guardar los datasets enriquecidos\n",
    "train_enriched_path = \"/home/pablost/Hackathon_inditex_data_science/hackathon-inditex-data-recommender/data/processed/hybrid_model/train_enriched_model.pkl\"\n",
    "test_enriched_path = \"/home/pablost/Hackathon_inditex_data_science/hackathon-inditex-data-recommender/data/processed/hybrid_model/test_enriched_model.pkl\"\n",
    "\n",
    "# Guardar los datasets enriquecidos\n",
    "train.to_pickle(train_enriched_path)\n",
    "test.to_pickle(test_enriched_path)\n",
    "\n",
    "print(\"Datasets enriquecidos guardados correctamente.\")\n"
   ]
  },
  {
   "cell_type": "markdown",
   "metadata": {},
   "source": [
    "---"
   ]
  },
  {
   "cell_type": "markdown",
   "metadata": {},
   "source": []
  }
 ],
 "metadata": {
  "kernelspec": {
   "display_name": ".env",
   "language": "python",
   "name": "python3"
  },
  "language_info": {
   "codemirror_mode": {
    "name": "ipython",
    "version": 3
   },
   "file_extension": ".py",
   "mimetype": "text/x-python",
   "name": "python",
   "nbconvert_exporter": "python",
   "pygments_lexer": "ipython3",
   "version": "3.10.12"
  }
 },
 "nbformat": 4,
 "nbformat_minor": 2
}
