{
 "cells": [
  {
   "cell_type": "markdown",
   "metadata": {},
   "source": [
    "## Exploración datasets."
   ]
  },
  {
   "cell_type": "code",
   "execution_count": 6,
   "metadata": {},
   "outputs": [
    {
     "name": "stdout",
     "output_type": "stream",
     "text": [
      "Train cargado: (36858893, 9)\n",
      "Test cargado: (29275, 8)\n",
      "Products cargado: (43692, 6)\n",
      "Users cargado: (557006, 5)\n",
      "Primeras filas de Train:\n",
      "          session_id       date         timestamp_local  add_to_cart  user_id  \\\n",
      "10725642     4696487 2024-06-15 2024-06-15 11:02:27.710            1       -1   \n",
      "35628113     4572779 2024-06-15 2024-06-15 03:43:20.699            1       -1   \n",
      "35628118     4572779 2024-06-15 2024-06-15 03:43:08.240            1       -1   \n",
      "9475628      3239459 2024-06-15 2024-06-15 03:37:24.111            1       -1   \n",
      "9475555      3239459 2024-06-15 2024-06-15 03:37:03.935            1       -1   \n",
      "\n",
      "          country  partnumber  device_type pagetype  \n",
      "10725642       29        7473            3       24  \n",
      "35628113       34       38861            1       24  \n",
      "35628118       34        1208            1       24  \n",
      "9475628        34       34842            3       24  \n",
      "9475555        34       41976            3       24  \n",
      "\n",
      "Primeras filas de Test:\n",
      "   session_id       date         timestamp_local  user_id  country  \\\n",
      "0         746 2024-06-15 2024-06-15 18:36:47.390       -1       57   \n",
      "1         746 2024-06-15 2024-06-15 18:37:04.052       -1       57   \n",
      "2         746 2024-06-15 2024-06-15 18:37:48.159       -1       57   \n",
      "3         746 2024-06-15 2024-06-15 18:38:19.899       -1       57   \n",
      "4         746 2024-06-15 2024-06-15 18:38:46.492       -1       57   \n",
      "\n",
      "   partnumber  device_type  pagetype  \n",
      "0        1254            1        24  \n",
      "1       32544            1        24  \n",
      "2       12639            1        24  \n",
      "3       18048            1        24  \n",
      "4       13295            1        24  \n",
      "\n",
      "Primeras filas de Products:\n",
      "   discount                                          embedding  partnumber  \\\n",
      "0         0  [-0.13401361, -0.1200429, -0.016117405, -0.167...       32776   \n",
      "1         0  [-0.0949274, -0.107294075, -0.16559914, -0.174...       41431   \n",
      "2         0  [-0.12904441, -0.07724628, -0.09799071, -0.164...       39419   \n",
      "3         1  [-0.12783332, -0.133868, -0.10101265, -0.18888...       36087   \n",
      "4         1  [-0.14092924, -0.1258284, -0.10809927, -0.1765...       34132   \n",
      "\n",
      "   color_id  cod_section  family  \n",
      "0        85            4      73  \n",
      "1       135            4      73  \n",
      "2       339            4      73  \n",
      "3       135            4      73  \n",
      "4         3            4      73  \n",
      "\n",
      "Primeras filas de Users:\n",
      "   user_id  country         R         F         M\n",
      "0   430096       25  0.016438  0.000558  0.000001\n",
      "1   134018       25  0.060274  0.002976  0.000003\n",
      "2    53750       25  0.001826  0.005951  0.000003\n",
      "3   180665       25  0.020091  0.002046  0.000003\n",
      "4   134209       25  0.006393  0.000186  0.000003\n"
     ]
    }
   ],
   "source": [
    "import pandas as pd\n",
    "\n",
    "product_path = '/home/pablost/Hackathon_inditex_data_science/hackathon-inditex-data-recommender/data/processed/new_processed/products_data.pkl'\n",
    "user_path = '/home/pablost/Hackathon_inditex_data_science/hackathon-inditex-data-recommender/data/processed/new_processed/user_data.csv'\n",
    "train_enriched_path = \"/home/pablost/Hackathon_inditex_data_science/hackathon-inditex-data-recommender/data/processed/hybrid_model/train_preprocessed.pkl\"\n",
    "test_enriched_path = \"/home/pablost/Hackathon_inditex_data_science/hackathon-inditex-data-recommender/data/processed/hybrid_model/test_preprocessed.pkl\"\n",
    "\n",
    "\n",
    "# Cargar los datasets\n",
    "products = pd.read_pickle(product_path)\n",
    "users = pd.read_csv(user_path)\n",
    "train = pd.read_pickle(train_enriched_path)\n",
    "test = pd.read_pickle(test_enriched_path)\n",
    "\n",
    "# Confirmar las formas de los datasets cargados\n",
    "print(f\"Train cargado: {train.shape}\")\n",
    "print(f\"Test cargado: {test.shape}\")\n",
    "print(f\"Products cargado: {products.shape}\")\n",
    "print(f\"Users cargado: {users.shape}\")\n",
    "\n",
    "\n",
    "# Verificar algunas filas para validar las columnas enriquecidas\n",
    "print(\"Primeras filas de Train:\")\n",
    "print(train.head())\n",
    "print(\"\\nPrimeras filas de Test:\")\n",
    "print(test.head())\n",
    "print(\"\\nPrimeras filas de Products:\")\n",
    "print(products.head())\n",
    "print(\"\\nPrimeras filas de Users:\")\n",
    "print(users.head())"
   ]
  },
  {
   "cell_type": "code",
   "execution_count": 7,
   "metadata": {},
   "outputs": [
    {
     "name": "stdout",
     "output_type": "stream",
     "text": [
      "Describe de Train:\n",
      "         session_id                           date  \\\n",
      "count  3.685889e+07                       36858893   \n",
      "mean   2.582648e+06  2024-06-07 06:52:07.372645120   \n",
      "min    1.000000e+00            2024-06-01 00:00:00   \n",
      "25%    1.289949e+06            2024-06-04 00:00:00   \n",
      "50%    2.579431e+06            2024-06-07 00:00:00   \n",
      "75%    3.875503e+06            2024-06-11 00:00:00   \n",
      "max    5.171848e+06            2024-06-16 00:00:00   \n",
      "std    1.493410e+06                            NaN   \n",
      "\n",
      "                     timestamp_local   add_to_cart       user_id  \\\n",
      "count                       36858893  3.685889e+07  3.685889e+07   \n",
      "mean   2024-06-07 21:52:41.659990528  7.147149e-02  4.145846e+04   \n",
      "min       2024-06-01 02:00:00.051000  0.000000e+00 -1.000000e+00   \n",
      "25%    2024-06-04 09:57:36.129999872  0.000000e+00 -1.000000e+00   \n",
      "50%    2024-06-07 19:51:58.401999872  0.000000e+00 -1.000000e+00   \n",
      "75%       2024-06-11 08:05:48.704000  0.000000e+00 -1.000000e+00   \n",
      "max       2024-06-16 22:11:17.725000  1.000000e+00  5.570060e+05   \n",
      "std                              NaN  2.576108e-01  1.169851e+05   \n",
      "\n",
      "            country    partnumber   device_type  \n",
      "count  3.685889e+07  3.685889e+07  3.685889e+07  \n",
      "mean   3.634966e+01  2.172330e+04  1.147166e+00  \n",
      "min    2.500000e+01  1.000000e+00  1.000000e+00  \n",
      "25%    2.900000e+01  1.107000e+04  1.000000e+00  \n",
      "50%    2.900000e+01  2.164900e+04  1.000000e+00  \n",
      "75%    5.700000e+01  3.242300e+04  1.000000e+00  \n",
      "max    5.700000e+01  4.369200e+04  3.000000e+00  \n",
      "std    1.242508e+01  1.247678e+04  5.130229e-01  \n",
      "\n",
      "Describe de Test:\n",
      "         session_id                           date  \\\n",
      "count  2.927500e+04                          29275   \n",
      "mean   2.602346e+06  2024-06-15 12:09:13.373185280   \n",
      "min    7.460000e+02            2024-06-15 00:00:00   \n",
      "25%    1.318920e+06            2024-06-15 00:00:00   \n",
      "50%    2.619119e+06            2024-06-16 00:00:00   \n",
      "75%    3.904801e+06            2024-06-16 00:00:00   \n",
      "max    5.168933e+06            2024-06-16 00:00:00   \n",
      "std    1.496322e+06                            NaN   \n",
      "\n",
      "                     timestamp_local        user_id       country  \\\n",
      "count                          29275   29275.000000  29275.000000   \n",
      "mean   2024-06-16 01:07:58.761897472   52420.586268     34.260495   \n",
      "min       2024-06-15 00:00:35.309000      -1.000000     25.000000   \n",
      "25%    2024-06-15 13:45:43.255499776      -1.000000     25.000000   \n",
      "50%    2024-06-16 00:16:00.219000064      -1.000000     34.000000   \n",
      "75%       2024-06-16 14:08:17.384000      -1.000000     34.000000   \n",
      "max       2024-06-16 23:55:50.519000  555819.000000     57.000000   \n",
      "std                              NaN  126904.770441     10.539929   \n",
      "\n",
      "         partnumber   device_type      pagetype  \n",
      "count  29275.000000  29275.000000  29275.000000  \n",
      "mean   22085.171238      1.213185     23.137865  \n",
      "min        3.000000      1.000000      1.000000  \n",
      "25%    11544.500000      1.000000     24.000000  \n",
      "50%    21777.000000      1.000000     24.000000  \n",
      "75%    32864.000000      1.000000     24.000000  \n",
      "max    43679.000000      3.000000     26.000000  \n",
      "std    12502.857230      0.603799      3.671977  \n",
      "\n",
      "Describe de Products:\n",
      "           discount    partnumber      color_id   cod_section        family\n",
      "count  43692.000000  43692.000000  43692.000000  43692.000000  43692.000000\n",
      "mean       0.031539  21846.500000    176.133320      2.207429     95.949922\n",
      "std        0.174771  12612.938317    147.611806      1.190771     57.816870\n",
      "min        0.000000      1.000000      1.000000      1.000000      1.000000\n",
      "25%        0.000000  10923.750000     64.000000      1.000000     51.000000\n",
      "50%        0.000000  21846.500000    135.000000      2.000000     74.000000\n",
      "75%        0.000000  32769.250000    307.000000      3.000000    153.000000\n",
      "max        1.000000  43692.000000    638.000000      4.000000    217.000000\n",
      "\n",
      "Describe de Users:\n",
      "             user_id        country              R              F  \\\n",
      "count  557006.000000  557006.000000  557006.000000  557006.000000   \n",
      "mean   278503.500000      25.129246       0.057873       0.003435   \n",
      "std    160793.926358       2.781777       0.117508       0.005338   \n",
      "min         1.000000       1.000000       0.000000       0.000000   \n",
      "25%    139252.250000      25.000000       0.004566       0.000744   \n",
      "50%    278503.500000      25.000000       0.016438       0.002046   \n",
      "75%    417754.750000      25.000000       0.052968       0.004370   \n",
      "max    557006.000000      93.000000       1.000000       1.000000   \n",
      "\n",
      "                   M  \n",
      "count  557006.000000  \n",
      "mean        0.000026  \n",
      "std         0.002493  \n",
      "min         0.000000  \n",
      "25%         0.000002  \n",
      "50%         0.000003  \n",
      "75%         0.000003  \n",
      "max         1.000000  \n"
     ]
    }
   ],
   "source": [
    "# Verificar algunas filas para validar las columnas enriquecidas\n",
    "print(\"Describe de Train:\")\n",
    "print(train.describe())\n",
    "print(\"\\nDescribe de Test:\")\n",
    "print(test.describe())\n",
    "print(\"\\nDescribe de Products:\")\n",
    "print(products.describe())\n",
    "print(\"\\nDescribe de Users:\")\n",
    "print(users.describe())"
   ]
  },
  {
   "cell_type": "code",
   "execution_count": 8,
   "metadata": {},
   "outputs": [
    {
     "name": "stdout",
     "output_type": "stream",
     "text": [
      "Primeras filas de Train:\n",
      "<class 'pandas.core.frame.DataFrame'>\n",
      "Index: 36858893 entries, 10725642 to 35407364\n",
      "Data columns (total 9 columns):\n",
      " #   Column           Dtype         \n",
      "---  ------           -----         \n",
      " 0   session_id       int32         \n",
      " 1   date             datetime64[ns]\n",
      " 2   timestamp_local  datetime64[ns]\n",
      " 3   add_to_cart      int8          \n",
      " 4   user_id          int32         \n",
      " 5   country          int16         \n",
      " 6   partnumber       int32         \n",
      " 7   device_type      int8          \n",
      " 8   pagetype         object        \n",
      "dtypes: datetime64[ns](2), int16(1), int32(3), int8(2), object(1)\n",
      "memory usage: 1.6+ GB\n",
      "None\n",
      "\n",
      "Primeras filas de Test:\n",
      "<class 'pandas.core.frame.DataFrame'>\n",
      "RangeIndex: 29275 entries, 0 to 29274\n",
      "Data columns (total 8 columns):\n",
      " #   Column           Non-Null Count  Dtype         \n",
      "---  ------           --------------  -----         \n",
      " 0   session_id       29275 non-null  int32         \n",
      " 1   date             29275 non-null  datetime64[ns]\n",
      " 2   timestamp_local  29275 non-null  datetime64[ns]\n",
      " 3   user_id          29275 non-null  int32         \n",
      " 4   country          29275 non-null  int16         \n",
      " 5   partnumber       29275 non-null  int32         \n",
      " 6   device_type      29275 non-null  int8          \n",
      " 7   pagetype         29275 non-null  int16         \n",
      "dtypes: datetime64[ns](2), int16(2), int32(3), int8(1)\n",
      "memory usage: 943.6 KB\n",
      "None\n",
      "\n",
      "Primeras filas de Products:\n",
      "<class 'pandas.core.frame.DataFrame'>\n",
      "RangeIndex: 43692 entries, 0 to 43691\n",
      "Data columns (total 6 columns):\n",
      " #   Column       Non-Null Count  Dtype \n",
      "---  ------       --------------  ----- \n",
      " 0   discount     43692 non-null  int8  \n",
      " 1   embedding    43692 non-null  object\n",
      " 2   partnumber   43692 non-null  int32 \n",
      " 3   color_id     43692 non-null  int32 \n",
      " 4   cod_section  43692 non-null  int16 \n",
      " 5   family       43692 non-null  int32 \n",
      "dtypes: int16(1), int32(3), int8(1), object(1)\n",
      "memory usage: 981.5+ KB\n",
      "None\n",
      "\n",
      "Primeras filas de Users:\n",
      "<class 'pandas.core.frame.DataFrame'>\n",
      "RangeIndex: 557006 entries, 0 to 557005\n",
      "Data columns (total 5 columns):\n",
      " #   Column   Non-Null Count   Dtype  \n",
      "---  ------   --------------   -----  \n",
      " 0   user_id  557006 non-null  int64  \n",
      " 1   country  557006 non-null  int64  \n",
      " 2   R        557006 non-null  float64\n",
      " 3   F        557006 non-null  float64\n",
      " 4   M        557006 non-null  float64\n",
      "dtypes: float64(3), int64(2)\n",
      "memory usage: 21.2 MB\n",
      "None\n"
     ]
    }
   ],
   "source": [
    "# Verificar algunas filas para validar las columnas enriquecidas\n",
    "print(\"Primeras filas de Train:\")\n",
    "print(train.info())\n",
    "print(\"\\nPrimeras filas de Test:\")\n",
    "print(test.info())\n",
    "print(\"\\nPrimeras filas de Products:\")\n",
    "print(products.info())\n",
    "print(\"\\nPrimeras filas de Users:\")\n",
    "print(users.info())"
   ]
  },
  {
   "cell_type": "code",
   "execution_count": 9,
   "metadata": {},
   "outputs": [
    {
     "name": "stdout",
     "output_type": "stream",
     "text": [
      "Primeras filas de Train:\n",
      "Index(['session_id', 'date', 'timestamp_local', 'add_to_cart', 'user_id',\n",
      "       'country', 'partnumber', 'device_type', 'pagetype'],\n",
      "      dtype='object')\n",
      "\n",
      "Primeras filas de Test:\n",
      "Index(['session_id', 'date', 'timestamp_local', 'user_id', 'country',\n",
      "       'partnumber', 'device_type', 'pagetype'],\n",
      "      dtype='object')\n",
      "\n",
      "Primeras filas de Products:\n",
      "Index(['discount', 'embedding', 'partnumber', 'color_id', 'cod_section',\n",
      "       'family'],\n",
      "      dtype='object')\n",
      "\n",
      "Primeras filas de Users:\n",
      "Index(['user_id', 'country', 'R', 'F', 'M'], dtype='object')\n"
     ]
    }
   ],
   "source": [
    "# Verificar algunas filas para validar las columnas enriquecidas\n",
    "print(\"Primeras filas de Train:\")\n",
    "print(train.columns)\n",
    "print(\"\\nPrimeras filas de Test:\")\n",
    "print(test.columns)\n",
    "print(\"\\nPrimeras filas de Products:\")\n",
    "print(products.columns)\n",
    "print(\"\\nPrimeras filas de Users:\")\n",
    "print(users.columns)"
   ]
  },
  {
   "cell_type": "markdown",
   "metadata": {},
   "source": [
    "## Pipeline\n"
   ]
  },
  {
   "cell_type": "markdown",
   "metadata": {},
   "source": [
    "### **Estrategias de Recomendación por Clase de Usuario**"
   ]
  },
  {
   "cell_type": "markdown",
   "metadata": {},
   "source": [
    "\n",
    "| **Clase de Usuario**            | **Características**                                     | **Estrategia**                                         |\n",
    "|---------------------------------|---------------------------------------------------------|--------------------------------------------------------|\n",
    "| **Usuario Nuevo Logueado**      | Presente en `train`, sin interacciones recientes        | - Filtrado colaborativo<br>- Basado en contenido       |\n",
    "| **Usuario Nuevo No Logueado**   | Ausente en `train`, sin historial ni interacciones      | - Recomendación por popularidad                        |\n",
    "| **Usuario Recurrente Logueado** | Presente en `train` y con interacciones actuales        | - Híbrido: Colaborativo + Contenido + Contextual       |\n",
    "| **Usuario Recurrente No Logueado** | Ausente en `train`, con interacciones en sesión    | - Basado en contenido<br>- Contextual según interacciones actuales |\n"
   ]
  },
  {
   "cell_type": "markdown",
   "metadata": {},
   "source": [
    "---"
   ]
  },
  {
   "cell_type": "markdown",
   "metadata": {},
   "source": [
    "### Exploración y procesado"
   ]
  },
  {
   "cell_type": "code",
   "execution_count": null,
   "metadata": {},
   "outputs": [],
   "source": [
    "print(train['pagetype'].unique())\n",
    "train['pagetype'] = pd.to_numeric(train['pagetype'], errors='coerce')\n",
    "train['pagetype'].fillna(-1, inplace=True)\n",
    "train['pagetype'] = train['pagetype'].astype('int16')"
   ]
  },
  {
   "cell_type": "code",
   "execution_count": 22,
   "metadata": {},
   "outputs": [
    {
     "name": "stdout",
     "output_type": "stream",
     "text": [
      "session_id                  int32\n",
      "date               datetime64[ns]\n",
      "timestamp_local    datetime64[ns]\n",
      "add_to_cart                  int8\n",
      "user_id                     int32\n",
      "country                     int16\n",
      "partnumber                  int32\n",
      "device_type                  int8\n",
      "pagetype                    int16\n",
      "dtype: object\n",
      "---\n",
      "session_id                  int32\n",
      "date               datetime64[ns]\n",
      "timestamp_local    datetime64[ns]\n",
      "user_id                     int32\n",
      "country                     int16\n",
      "partnumber                  int32\n",
      "device_type                  int8\n",
      "pagetype                    int16\n",
      "dtype: object\n",
      "---\n",
      "discount         int8\n",
      "embedding      object\n",
      "partnumber      int32\n",
      "color_id        int32\n",
      "cod_section     int16\n",
      "family          int32\n",
      "dtype: object\n",
      "---\n",
      "user_id      int64\n",
      "country      int64\n",
      "R          float64\n",
      "F          float64\n",
      "M          float64\n",
      "dtype: object\n"
     ]
    }
   ],
   "source": [
    "print(train.dtypes)\n",
    "print('---')\n",
    "print(test.dtypes)\n",
    "print('---')\n",
    "print(products.dtypes)\n",
    "print('---')\n",
    "print(users.dtypes)"
   ]
  },
  {
   "cell_type": "markdown",
   "metadata": {},
   "source": [
    "Paso 2: Clasificación de Sesiones por Clase de Usuario"
   ]
  },
  {
   "cell_type": "code",
   "execution_count": 27,
   "metadata": {},
   "outputs": [],
   "source": [
    "train_user_ids = set(train['user_id'].unique())\n",
    "train_user_ids.discard(-1)  # Remover -1 si representa usuarios no logueados"
   ]
  },
  {
   "cell_type": "markdown",
   "metadata": {},
   "source": [
    "Identificar las sesiones con interacciones en test:"
   ]
  },
  {
   "cell_type": "code",
   "execution_count": 28,
   "metadata": {},
   "outputs": [],
   "source": [
    "# Asumimos que si hay 'partnumber', hay interacción\n",
    "test_sessions_with_interactions = set(test[test['partnumber'].notnull()]['session_id'].unique())"
   ]
  },
  {
   "cell_type": "markdown",
   "metadata": {},
   "source": [
    "Definir la Función de Clasificación"
   ]
  },
  {
   "cell_type": "code",
   "execution_count": 29,
   "metadata": {},
   "outputs": [],
   "source": [
    "def classify_session(row):\n",
    "    user_id = row['user_id']\n",
    "    session_id = row['session_id']\n",
    "    \n",
    "    if user_id == -1:\n",
    "        # Usuario no logueado\n",
    "        if session_id in test_sessions_with_interactions:\n",
    "            return 'Usuario recurrente no logueado'\n",
    "        else:\n",
    "            return 'Usuario nuevo no logueado'\n",
    "    else:\n",
    "        # Usuario logueado\n",
    "        if user_id in train_user_ids:\n",
    "            return 'Usuario recurrente logueado'\n",
    "        else:\n",
    "            return 'Usuario nuevo logueado'"
   ]
  },
  {
   "cell_type": "markdown",
   "metadata": {},
   "source": [
    "Aplicar la Clasificación al Conjunto de test"
   ]
  },
  {
   "cell_type": "code",
   "execution_count": 30,
   "metadata": {},
   "outputs": [],
   "source": [
    "test['user_class'] = test.apply(classify_session, axis=1)"
   ]
  },
  {
   "cell_type": "code",
   "execution_count": 31,
   "metadata": {},
   "outputs": [
    {
     "name": "stdout",
     "output_type": "stream",
     "text": [
      "user_class\n",
      "Usuario recurrente no logueado    23509\n",
      "Usuario nuevo logueado             3768\n",
      "Usuario recurrente logueado        1998\n",
      "Name: count, dtype: int64\n"
     ]
    }
   ],
   "source": [
    "print(test['user_class'].value_counts())"
   ]
  },
  {
   "cell_type": "markdown",
   "metadata": {},
   "source": [
    "### Preparación de los modelos"
   ]
  },
  {
   "cell_type": "markdown",
   "metadata": {},
   "source": [
    "#### Modelo de Popularidad"
   ]
  },
  {
   "cell_type": "markdown",
   "metadata": {},
   "source": [
    "Calcular la Popularidad de los Productos"
   ]
  },
  {
   "cell_type": "code",
   "execution_count": 32,
   "metadata": {},
   "outputs": [],
   "source": [
    "# Calcular la popularidad de los productos en el conjunto de entrenamiento\n",
    "product_popularity = train.groupby('partnumber')['add_to_cart'].sum().reset_index()\n",
    "product_popularity.rename(columns={'add_to_cart': 'popularity'}, inplace=True)\n",
    "\n",
    "# Ordenar los productos por popularidad descendente\n",
    "product_popularity.sort_values(by='popularity', ascending=False, inplace=True)\n",
    "\n",
    "# Obtener la lista de productos populares\n",
    "popular_products = product_popularity['partnumber'].tolist()"
   ]
  },
  {
   "cell_type": "markdown",
   "metadata": {},
   "source": [
    "Verificar los Resultados"
   ]
  },
  {
   "cell_type": "code",
   "execution_count": 33,
   "metadata": {},
   "outputs": [
    {
     "name": "stdout",
     "output_type": "stream",
     "text": [
      "Los 10 productos más populares son:\n",
      "[40779, 24271, 2763, 5222, 8778, 37733, 25032, 22168, 12808, 21128]\n"
     ]
    }
   ],
   "source": [
    "print(\"Los 10 productos más populares son:\")\n",
    "print(popular_products[:10])"
   ]
  },
  {
   "cell_type": "markdown",
   "metadata": {},
   "source": [
    "#### Preparación del Modelo Basado en Contenido"
   ]
  },
  {
   "cell_type": "markdown",
   "metadata": {},
   "source": [
    "Preparar los Embeddings de los Productos"
   ]
  },
  {
   "cell_type": "code",
   "execution_count": 35,
   "metadata": {},
   "outputs": [],
   "source": [
    "# Convertir los embeddings a arrays NumPy:\n",
    "\n",
    "import numpy as np\n",
    "\n",
    "# Asegurarnos de que los embeddings son arrays de NumPy\n",
    "products['embedding'] = products['embedding'].apply(np.array)"
   ]
  },
  {
   "cell_type": "markdown",
   "metadata": {},
   "source": [
    "Crear un diccionario para acceder rápidamente a los embeddings por partnumber:"
   ]
  },
  {
   "cell_type": "code",
   "execution_count": 36,
   "metadata": {},
   "outputs": [],
   "source": [
    "# Crear un diccionario {partnumber: embedding}\n",
    "embeddings_dict = dict(zip(products['partnumber'], products['embedding']))"
   ]
  },
  {
   "cell_type": "markdown",
   "metadata": {},
   "source": [
    "Definir la Función para Encontrar Productos Similares"
   ]
  },
  {
   "cell_type": "code",
   "execution_count": 37,
   "metadata": {},
   "outputs": [],
   "source": [
    "from sklearn.metrics.pairwise import cosine_similarity"
   ]
  },
  {
   "cell_type": "code",
   "execution_count": 40,
   "metadata": {},
   "outputs": [],
   "source": [
    "def find_similar_products(partnumber, top_n=5):\n",
    "    target_embedding = embeddings_dict.get(partnumber)\n",
    "    if not isinstance(target_embedding, np.ndarray):\n",
    "        print(f\"Advertencia: El embedding del producto {partnumber} es inválido.\")\n",
    "        return []\n",
    "\n",
    "    # Obtener todas las embeddings y los partnumbers correspondientes\n",
    "    all_partnumbers = []\n",
    "    all_embeddings = []\n",
    "    for pnum, emb in embeddings_dict.items():\n",
    "        if isinstance(emb, np.ndarray) and emb.shape == target_embedding.shape:\n",
    "            all_partnumbers.append(pnum)\n",
    "            all_embeddings.append(emb)\n",
    "\n",
    "    # Convertir a arrays de NumPy\n",
    "    all_embeddings = np.stack(all_embeddings)\n",
    "\n",
    "    # Calcular la similitud de coseno\n",
    "    similarities = cosine_similarity([target_embedding], all_embeddings)[0]\n",
    "\n",
    "    # Obtener los índices de los productos más similares (excluyendo el propio producto)\n",
    "    similar_indices = similarities.argsort()[::-1]\n",
    "    similar_partnumbers = []\n",
    "    for idx in similar_indices:\n",
    "        if all_partnumbers[idx] != partnumber:\n",
    "            similar_partnumbers.append(all_partnumbers[idx])\n",
    "        if len(similar_partnumbers) == top_n:\n",
    "            break\n",
    "\n",
    "    return similar_partnumbers"
   ]
  },
  {
   "cell_type": "code",
   "execution_count": 41,
   "metadata": {},
   "outputs": [
    {
     "name": "stdout",
     "output_type": "stream",
     "text": [
      "Productos similares a 40779: [33094, 40564, 13227, 24700, 8128]\n"
     ]
    }
   ],
   "source": [
    "# Seleccionar un producto para probar, por ejemplo, el más popular\n",
    "test_partnumber = popular_products[0]  # Primer producto de la lista de populares\n",
    "\n",
    "# Obtener productos similares\n",
    "similar_products = find_similar_products(test_partnumber, top_n=5)\n",
    "\n",
    "print(f\"Productos similares a {test_partnumber}: {similar_products}\")"
   ]
  },
  {
   "cell_type": "markdown",
   "metadata": {},
   "source": [
    "Verificar la Corrección:\n"
   ]
  },
  {
   "cell_type": "code",
   "execution_count": 42,
   "metadata": {},
   "outputs": [
    {
     "name": "stdout",
     "output_type": "stream",
     "text": [
      "       partnumber  cod_section  family  color_id\n",
      "3054        40564            1     156        64\n",
      "3080        33094            1     156        64\n",
      "11654       13227            1     156        64\n",
      "22805       24700            1      51        64\n",
      "36542        8128            1     156        64\n"
     ]
    }
   ],
   "source": [
    "# Consultar Atributos de los Productos:\n",
    "similar_products_info = products[products['partnumber'].isin(similar_products)]\n",
    "print(similar_products_info[['partnumber', 'cod_section', 'family', 'color_id']])"
   ]
  },
  {
   "cell_type": "code",
   "execution_count": 43,
   "metadata": {},
   "outputs": [
    {
     "name": "stdout",
     "output_type": "stream",
     "text": [
      "      partnumber  cod_section  family  color_id\n",
      "3081       40779            1     156        64\n"
     ]
    }
   ],
   "source": [
    "# Comparar con el Producto Original:\n",
    "original_product_info = products[products['partnumber'] == test_partnumber]\n",
    "print(original_product_info[['partnumber', 'cod_section', 'family', 'color_id']])"
   ]
  },
  {
   "cell_type": "markdown",
   "metadata": {},
   "source": [
    "####  Preparación del Modelo de Filtrado Colaborativo"
   ]
  },
  {
   "cell_type": "markdown",
   "metadata": {},
   "source": [
    "Preparar los Datos de Interacción"
   ]
  },
  {
   "cell_type": "code",
   "execution_count": 88,
   "metadata": {},
   "outputs": [],
   "source": [
    "# Filtrar interacciones de usuarios logueados y crear una copia\n",
    "train_logged_in = train[train['user_id'] != -1].copy()"
   ]
  },
  {
   "cell_type": "code",
   "execution_count": 89,
   "metadata": {},
   "outputs": [
    {
     "name": "stdout",
     "output_type": "stream",
     "text": [
      "Shape de train_logged_in: (5488678, 9)\n"
     ]
    }
   ],
   "source": [
    "print(f\"Shape de train_logged_in: {train_logged_in.shape}\")"
   ]
  },
  {
   "cell_type": "code",
   "execution_count": 90,
   "metadata": {},
   "outputs": [
    {
     "name": "stdout",
     "output_type": "stream",
     "text": [
      "Valores nulos en 'user_id': 0\n",
      "Valores nulos en 'partnumber': 0\n"
     ]
    }
   ],
   "source": [
    "print(\"Valores nulos en 'user_id':\", train_logged_in['user_id'].isnull().sum())\n",
    "print(\"Valores nulos en 'partnumber':\", train_logged_in['partnumber'].isnull().sum())"
   ]
  },
  {
   "cell_type": "code",
   "execution_count": 91,
   "metadata": {},
   "outputs": [
    {
     "name": "stdout",
     "output_type": "stream",
     "text": [
      "Tipo de 'user_id': int32\n",
      "Tipo de 'partnumber': int32\n"
     ]
    }
   ],
   "source": [
    "print(\"Tipo de 'user_id':\", train_logged_in['user_id'].dtype)\n",
    "print(\"Tipo de 'partnumber':\", train_logged_in['partnumber'].dtype)"
   ]
  },
  {
   "cell_type": "code",
   "execution_count": 92,
   "metadata": {},
   "outputs": [
    {
     "name": "stdout",
     "output_type": "stream",
     "text": [
      "Número de usuarios únicos: 380052\n"
     ]
    }
   ],
   "source": [
    "# Obtener user_ids únicos\n",
    "unique_user_ids = train_logged_in['user_id'].unique()\n",
    "print(f\"Número de usuarios únicos: {len(unique_user_ids)}\")\n",
    "\n",
    "# Crear diccionarios de mapeo\n",
    "user_id_to_index = {user_id: idx for idx, user_id in enumerate(unique_user_ids)}\n",
    "index_to_user_id = {idx: user_id for user_id, idx in user_id_to_index.items()}"
   ]
  },
  {
   "cell_type": "code",
   "execution_count": 93,
   "metadata": {},
   "outputs": [
    {
     "name": "stdout",
     "output_type": "stream",
     "text": [
      "Primeros 5 mapeos de user_id a user_idx: [(129541, 0), (7936, 1), (448339, 2), (353199, 3), (543036, 4)]\n"
     ]
    }
   ],
   "source": [
    "print(f\"Primeros 5 mapeos de user_id a user_idx: {list(user_id_to_index.items())[:5]}\")"
   ]
  },
  {
   "cell_type": "code",
   "execution_count": 94,
   "metadata": {},
   "outputs": [],
   "source": [
    "# Mapear 'user_id' a 'user_idx' en train_logged_in\n",
    "train_logged_in['user_idx'] = train_logged_in['user_id'].map(user_id_to_index)"
   ]
  },
  {
   "cell_type": "code",
   "execution_count": 95,
   "metadata": {},
   "outputs": [
    {
     "name": "stdout",
     "output_type": "stream",
     "text": [
      "Valores nulos en 'user_idx': 0\n"
     ]
    }
   ],
   "source": [
    "print(\"Valores nulos en 'user_idx':\", train_logged_in['user_idx'].isnull().sum())"
   ]
  },
  {
   "cell_type": "code",
   "execution_count": 96,
   "metadata": {},
   "outputs": [
    {
     "name": "stdout",
     "output_type": "stream",
     "text": [
      "Tipo de 'user_idx': int64\n"
     ]
    }
   ],
   "source": [
    "print(\"Tipo de 'user_idx':\", train_logged_in['user_idx'].dtype)"
   ]
  },
  {
   "cell_type": "code",
   "execution_count": 97,
   "metadata": {},
   "outputs": [
    {
     "name": "stdout",
     "output_type": "stream",
     "text": [
      "Número de items únicos: 24651\n"
     ]
    }
   ],
   "source": [
    "# Obtener partnumbers únicos\n",
    "unique_partnumbers = train_logged_in['partnumber'].unique()\n",
    "print(f\"Número de items únicos: {len(unique_partnumbers)}\")\n",
    "\n",
    "# Crear diccionarios de mapeo\n",
    "partnumber_to_index = {partnumber: idx for idx, partnumber in enumerate(unique_partnumbers)}\n",
    "index_to_partnumber = {idx: partnumber for partnumber, idx in partnumber_to_index.items()}"
   ]
  },
  {
   "cell_type": "code",
   "execution_count": 98,
   "metadata": {},
   "outputs": [
    {
     "name": "stdout",
     "output_type": "stream",
     "text": [
      "Primeros 5 mapeos de partnumber a item_idx: [(42052, 0), (16507, 1), (19727, 2), (8493, 3), (23218, 4)]\n"
     ]
    }
   ],
   "source": [
    "print(f\"Primeros 5 mapeos de partnumber a item_idx: {list(partnumber_to_index.items())[:5]}\")"
   ]
  },
  {
   "cell_type": "code",
   "execution_count": 99,
   "metadata": {},
   "outputs": [],
   "source": [
    "# Mapear 'partnumber' a 'item_idx' en train_logged_in\n",
    "train_logged_in['item_idx'] = train_logged_in['partnumber'].map(partnumber_to_index)"
   ]
  },
  {
   "cell_type": "code",
   "execution_count": 100,
   "metadata": {},
   "outputs": [
    {
     "name": "stdout",
     "output_type": "stream",
     "text": [
      "Valores nulos en 'item_idx': 0\n"
     ]
    }
   ],
   "source": [
    "print(\"Valores nulos en 'item_idx':\", train_logged_in['item_idx'].isnull().sum())"
   ]
  },
  {
   "cell_type": "code",
   "execution_count": 101,
   "metadata": {},
   "outputs": [
    {
     "name": "stdout",
     "output_type": "stream",
     "text": [
      "Tipo de 'item_idx': int64\n"
     ]
    }
   ],
   "source": [
    "print(\"Tipo de 'item_idx':\", train_logged_in['item_idx'].dtype)"
   ]
  },
  {
   "cell_type": "code",
   "execution_count": 102,
   "metadata": {},
   "outputs": [],
   "source": [
    "from scipy.sparse import csr_matrix\n",
    "\n",
    "# Construir la matriz de interacciones (usuarios x items)\n",
    "interaction_matrix = csr_matrix(\n",
    "    (train_logged_in['add_to_cart'], (train_logged_in['user_idx'], train_logged_in['item_idx'])),\n",
    "    shape=(len(unique_user_ids), len(unique_partnumbers))\n",
    ")"
   ]
  },
  {
   "cell_type": "code",
   "execution_count": 103,
   "metadata": {},
   "outputs": [
    {
     "name": "stdout",
     "output_type": "stream",
     "text": [
      "Dimensiones de la matriz de interacciones: (380052, 24651)\n"
     ]
    }
   ],
   "source": [
    "print(f\"Dimensiones de la matriz de interacciones: {interaction_matrix.shape}\")"
   ]
  },
  {
   "cell_type": "code",
   "execution_count": 104,
   "metadata": {},
   "outputs": [
    {
     "name": "stderr",
     "output_type": "stream",
     "text": [
      "100%|██████████| 10/10 [00:08<00:00,  1.13it/s]\n"
     ]
    }
   ],
   "source": [
    "import implicit\n",
    "\n",
    "# Configurar el modelo (no transponemos la matriz)\n",
    "model = implicit.als.AlternatingLeastSquares(factors=50, iterations=10, regularization=0.1)\n",
    "\n",
    "# Entrenar el modelo\n",
    "model.fit(interaction_matrix)"
   ]
  },
  {
   "cell_type": "code",
   "execution_count": 105,
   "metadata": {},
   "outputs": [
    {
     "name": "stdout",
     "output_type": "stream",
     "text": [
      "Número de items en el modelo: 24651\n",
      "Número de items en 'index_to_partnumber': 24651\n"
     ]
    }
   ],
   "source": [
    "print(f\"Número de items en el modelo: {model.item_factors.shape[0]}\")\n",
    "print(f\"Número de items en 'index_to_partnumber': {len(index_to_partnumber)}\")"
   ]
  },
  {
   "cell_type": "code",
   "execution_count": 106,
   "metadata": {},
   "outputs": [],
   "source": [
    "# Seleccionar un user_idx de prueba\n",
    "user_idx = 0  # Puedes elegir cualquier índice válido\n",
    "user_id = index_to_user_id[user_idx]\n",
    "\n",
    "# Obtener las interacciones del usuario\n",
    "user_items = interaction_matrix[user_idx]\n",
    "\n",
    "# Obtener recomendaciones\n",
    "recommended = model.recommend(user_idx, user_items, N=5)"
   ]
  },
  {
   "cell_type": "code",
   "execution_count": 107,
   "metadata": {},
   "outputs": [
    {
     "name": "stdout",
     "output_type": "stream",
     "text": [
      "Tipo de 'recommended': <class 'tuple'>\n",
      "Contenido de 'recommended': (array([1814,  325, 2314,  135,  349], dtype=int32), array([0.02068493, 0.01921196, 0.01479182, 0.01379662, 0.01205562],\n",
      "      dtype=float32))\n"
     ]
    }
   ],
   "source": [
    "print(\"Tipo de 'recommended':\", type(recommended))\n",
    "print(\"Contenido de 'recommended':\", recommended)"
   ]
  },
  {
   "cell_type": "code",
   "execution_count": 108,
   "metadata": {},
   "outputs": [],
   "source": [
    "# Ajustar según el tipo de 'recommended'\n",
    "if isinstance(recommended, list):\n",
    "    # recommended es una lista de tuplas (item_idx, score)\n",
    "    recommended_indices = [item_idx for item_idx, score in recommended]\n",
    "elif isinstance(recommended, tuple) and len(recommended) == 2:\n",
    "    # recommended es una tupla de (indices, scores)\n",
    "    recommended_indices = recommended[0].tolist()\n",
    "elif isinstance(recommended, np.ndarray):\n",
    "    # recommended es un array de índices\n",
    "    recommended_indices = recommended.tolist()\n",
    "else:\n",
    "    print(\"Formato de 'recommended' no reconocido.\")\n",
    "    recommended_indices = []"
   ]
  },
  {
   "cell_type": "code",
   "execution_count": 109,
   "metadata": {},
   "outputs": [
    {
     "name": "stdout",
     "output_type": "stream",
     "text": [
      "Todos los índices recomendados están en 'index_to_partnumber'\n"
     ]
    }
   ],
   "source": [
    "# Verificar si los índices existen en 'index_to_partnumber'\n",
    "missing_indices = [idx for idx in recommended_indices if idx not in index_to_partnumber]\n",
    "\n",
    "if missing_indices:\n",
    "    print(f\"Los siguientes índices no se encuentran en 'index_to_partnumber': {missing_indices}\")\n",
    "else:\n",
    "    print(\"Todos los índices recomendados están en 'index_to_partnumber'\")"
   ]
  },
  {
   "cell_type": "code",
   "execution_count": 110,
   "metadata": {},
   "outputs": [
    {
     "name": "stdout",
     "output_type": "stream",
     "text": [
      "Recomendaciones para el usuario 129541: [12359, 10578, 15834, 40784, 9962]\n"
     ]
    }
   ],
   "source": [
    "# Mapear los índices a 'partnumber'\n",
    "recommended_partnumbers = [index_to_partnumber[idx] for idx in recommended_indices]\n",
    "\n",
    "# Imprimir las recomendaciones\n",
    "print(f\"Recomendaciones para el usuario {user_id}: {recommended_partnumbers}\")"
   ]
  },
  {
   "cell_type": "markdown",
   "metadata": {},
   "source": [
    "### Modelo híbrido de recomendaciones"
   ]
  },
  {
   "cell_type": "markdown",
   "metadata": {},
   "source": [
    "#### `Usuario recurrente logueado`"
   ]
  },
  {
   "cell_type": "code",
   "execution_count": 113,
   "metadata": {},
   "outputs": [
    {
     "name": "stdout",
     "output_type": "stream",
     "text": [
      "Número total de filas: 1998\n",
      "Número de sesiones únicas: 497\n"
     ]
    }
   ],
   "source": [
    "# Filtrar las sesiones de 'Usuario recurrente logueado'\n",
    "group = test[test['user_class'] == 'Usuario recurrente logueado']\n",
    "total_rows = group.shape[0]\n",
    "num_sessions = group['session_id'].nunique()\n",
    "\n",
    "print(f\"Número total de filas: {total_rows}\")\n",
    "print(f\"Número de sesiones únicas: {num_sessions}\")"
   ]
  },
  {
   "cell_type": "code",
   "execution_count": 114,
   "metadata": {},
   "outputs": [
    {
     "name": "stdout",
     "output_type": "stream",
     "text": [
      "Número de sesiones únicas de 'Usuario recurrente logueado': 497\n"
     ]
    }
   ],
   "source": [
    "# Filtrar las sesiones de 'Usuario recurrente logueado'\n",
    "group = test[test['user_class'] == 'Usuario recurrente logueado']\n",
    "\n",
    "# Obtener las sesiones únicas y los user_id asociados\n",
    "session_user_mapping = group[['session_id', 'user_id']].drop_duplicates()\n",
    "\n",
    "print(f\"Número de sesiones únicas de 'Usuario recurrente logueado': {len(session_user_mapping)}\")"
   ]
  },
  {
   "cell_type": "markdown",
   "metadata": {},
   "source": [
    "Generar las Recomendaciones\n",
    "\n",
    "Esta función nos permitirá obtener recomendaciones utilizando el modelo colaborativo para un usuario dado."
   ]
  },
  {
   "cell_type": "code",
   "execution_count": 118,
   "metadata": {},
   "outputs": [],
   "source": [
    "def recommend_by_collaborative(user_id, top_n=5):\n",
    "    # Obtener el índice del usuario\n",
    "    user_idx = user_id_to_index.get(user_id)\n",
    "    \n",
    "    if user_idx is None:\n",
    "        # Si el usuario no está en el modelo, retornamos una lista vacía o usamos popularidad\n",
    "        print(f\"Usuario {user_id} no encontrado en el modelo colaborativo.\")\n",
    "        return []\n",
    "    \n",
    "    # Obtener las interacciones del usuario\n",
    "    user_items = interaction_matrix[user_idx]\n",
    "    \n",
    "    # Obtener recomendaciones del modelo\n",
    "    recommended = model.recommend(user_idx, user_items, N=top_n)\n",
    "    \n",
    "    # Ajustar según el tipo de 'recommended'\n",
    "    if isinstance(recommended, list):\n",
    "        # recommended es una lista de tuplas (item_idx, score)\n",
    "        recommended_indices = [item_idx for item_idx, score in recommended]\n",
    "    elif isinstance(recommended, tuple) and len(recommended) == 2:\n",
    "        # recommended es una tupla de (indices, scores)\n",
    "        recommended_indices = recommended[0].tolist()\n",
    "    elif isinstance(recommended, np.ndarray):\n",
    "        # recommended es un array de índices\n",
    "        recommended_indices = recommended.tolist()\n",
    "    else:\n",
    "        print(\"Formato de 'recommended' no reconocido.\")\n",
    "        recommended_indices = []\n",
    "    \n",
    "    # Verificar si los índices existen en 'index_to_partnumber'\n",
    "    recommended_indices = [idx for idx in recommended_indices if idx in index_to_partnumber]\n",
    "    \n",
    "    # Mapear los índices a 'partnumber'\n",
    "    recommended_partnumbers = [index_to_partnumber[idx] for idx in recommended_indices]\n",
    "    \n",
    "    return recommended_partnumbers"
   ]
  },
  {
   "cell_type": "code",
   "execution_count": 119,
   "metadata": {},
   "outputs": [
    {
     "name": "stdout",
     "output_type": "stream",
     "text": [
      "Recomendaciones para el usuario 129541: [12359, 10578, 15834, 40784, 9962]\n"
     ]
    }
   ],
   "source": [
    "# Seleccionar un user_id de prueba (asegúrate de que el user_id existe en user_id_to_index)\n",
    "user_id = unique_user_ids[0]\n",
    "recommended_partnumbers = recommend_by_collaborative(user_id, top_n=5)\n",
    "\n",
    "print(f\"Recomendaciones para el usuario {user_id}: {recommended_partnumbers}\")"
   ]
  },
  {
   "cell_type": "code",
   "execution_count": 120,
   "metadata": {},
   "outputs": [],
   "source": [
    "# Mantener el diccionario 'user_recommendations' si ya lo tienes definido\n",
    "# De lo contrario, inicialízalo\n",
    "user_recommendations = {}\n",
    "\n",
    "# Iterar sobre cada sesión y user_id asociados\n",
    "for _, row in session_user_mapping.iterrows():\n",
    "    session_id = row['session_id']\n",
    "    user_id = row['user_id']\n",
    "    \n",
    "    # Obtener recomendaciones colaborativas\n",
    "    recs = recommend_by_collaborative(user_id, top_n=10)  # Usamos top_n=10 para tener margen\n",
    "    \n",
    "    # Obtener productos ya interactuados por el usuario en el conjunto de entrenamiento\n",
    "    user_interacted_items = train_logged_in[train_logged_in['user_id'] == user_id]['partnumber'].unique()\n",
    "    \n",
    "    # Eliminar productos ya vistos\n",
    "    recs = [p for p in recs if p not in user_interacted_items]\n",
    "    \n",
    "    # Si después de filtrar no tenemos suficientes recomendaciones, complementamos con popularidad\n",
    "    if len(recs) < 5:\n",
    "        more_recs = [p for p in popular_products if p not in recs and p not in user_interacted_items]\n",
    "        recs.extend(more_recs[:5 - len(recs)])\n",
    "    \n",
    "    # Aseguramos 5 recomendaciones únicas\n",
    "    recs = list(dict.fromkeys(recs))[:5]\n",
    "    \n",
    "    # Almacenar las recomendaciones\n",
    "    user_recommendations[session_id] = recs"
   ]
  },
  {
   "cell_type": "code",
   "execution_count": 121,
   "metadata": {},
   "outputs": [
    {
     "name": "stdout",
     "output_type": "stream",
     "text": [
      "Sesión 4711 - Recomendaciones: [39026, 28178, 27593, 3061, 31301]\n",
      "Sesión 15073 - Recomendaciones: [32844, 29139, 22105, 31301, 31362]\n",
      "Sesión 27081 - Recomendaciones: [32700, 15834, 40784, 9464, 22287]\n",
      "Sesión 36033 - Recomendaciones: [13811, 2999, 31301, 31362, 26216]\n",
      "Sesión 45390 - Recomendaciones: [12359, 15834, 24925, 5218, 948]\n"
     ]
    }
   ],
   "source": [
    "# Mostrar las recomendaciones para las primeras 5 sesiones\n",
    "session_ids = list(user_recommendations.keys())\n",
    "for session_id in session_ids[:5]:\n",
    "    recs = user_recommendations[session_id]\n",
    "    print(f\"Sesión {session_id} - Recomendaciones: {recs}\")"
   ]
  },
  {
   "cell_type": "markdown",
   "metadata": {},
   "source": [
    "Verificación"
   ]
  },
  {
   "cell_type": "code",
   "execution_count": 123,
   "metadata": {},
   "outputs": [
    {
     "name": "stdout",
     "output_type": "stream",
     "text": [
      "Todos los productos recomendados están en el catálogo.\n"
     ]
    }
   ],
   "source": [
    "# Obtener todos los 'partnumber' recomendados\n",
    "all_recommended_partnumbers = set()\n",
    "for recs in user_recommendations.values():\n",
    "    all_recommended_partnumbers.update(recs)\n",
    "\n",
    "# Verificar si todos los 'partnumber' recomendados existen en 'products'\n",
    "missing_products = all_recommended_partnumbers - set(products['partnumber'].unique())\n",
    "if missing_products:\n",
    "    print(f\"Hay {len(missing_products)} productos recomendados que no están en el catálogo.\")\n",
    "else:\n",
    "    print(\"Todos los productos recomendados están en el catálogo.\")"
   ]
  },
  {
   "cell_type": "code",
   "execution_count": 124,
   "metadata": {},
   "outputs": [],
   "source": [
    "for session_id, recs in user_recommendations.items():\n",
    "    if len(recs) != len(set(recs)):\n",
    "        print(f\"Sesión {session_id} tiene recomendaciones duplicadas.\")"
   ]
  },
  {
   "cell_type": "code",
   "execution_count": 126,
   "metadata": {},
   "outputs": [],
   "source": [
    "# Seleccionar algunos 'user_id' de prueba\n",
    "sample_user_ids = [129541]  # Puedes agregar más IDs\n",
    "\n",
    "for user_id in sample_user_ids:\n",
    "    user_idx = user_id_to_index.get(user_id)\n",
    "    if user_idx is not None:\n",
    "        user_interacted_items = train_logged_in[train_logged_in['user_id'] == user_id]['partnumber'].unique()\n",
    "        session_ids = session_user_mapping[session_user_mapping['user_id'] == user_id]['session_id']\n",
    "        for session_id in session_ids:\n",
    "            recs = user_recommendations.get(session_id, [])\n",
    "            overlap = set(recs) & set(user_interacted_items)\n",
    "            if overlap:\n",
    "                print(f\"Para el usuario {user_id} en la sesión {session_id}, las recomendaciones incluyen productos ya vistos: {overlap}\")\n",
    "            else:\n",
    "                print(f\"Para el usuario {user_id} en la sesión {session_id}, las recomendaciones no incluyen productos ya vistos.\")"
   ]
  },
  {
   "cell_type": "markdown",
   "metadata": {},
   "source": [
    "Verificar que Todas las Sesiones Tienen sus Recomendaciones"
   ]
  },
  {
   "cell_type": "code",
   "execution_count": 127,
   "metadata": {},
   "outputs": [
    {
     "name": "stdout",
     "output_type": "stream",
     "text": [
      "Total de sesiones en el conjunto de prueba: 7349\n",
      "Total de sesiones con recomendaciones: 497\n",
      "Faltan recomendaciones para 6852 sesiones.\n"
     ]
    }
   ],
   "source": [
    "# Obtener el número total de sesiones en el conjunto de prueba\n",
    "total_sessions_in_test = test['session_id'].nunique()\n",
    "\n",
    "# Obtener el número total de sesiones para las que hemos generado recomendaciones\n",
    "total_sessions_with_recommendations = len(user_recommendations)\n",
    "\n",
    "print(f\"Total de sesiones en el conjunto de prueba: {total_sessions_in_test}\")\n",
    "print(f\"Total de sesiones con recomendaciones: {total_sessions_with_recommendations}\")\n",
    "\n",
    "if total_sessions_in_test == total_sessions_with_recommendations:\n",
    "    print(\"Todas las sesiones tienen recomendaciones.\")\n",
    "else:\n",
    "    print(f\"Faltan recomendaciones para {total_sessions_in_test - total_sessions_with_recommendations} sesiones.\")"
   ]
  },
  {
   "cell_type": "markdown",
   "metadata": {},
   "source": [
    "#### `Usuario recurrente no logueado`\n"
   ]
  },
  {
   "cell_type": "markdown",
   "metadata": {},
   "source": [
    "Filtrar las Sesiones Correspondientes"
   ]
  },
  {
   "cell_type": "code",
   "execution_count": 128,
   "metadata": {},
   "outputs": [
    {
     "name": "stdout",
     "output_type": "stream",
     "text": [
      "Número de sesiones únicas de 'Usuario recurrente no logueado': 5932\n"
     ]
    }
   ],
   "source": [
    "# Filtrar las sesiones de 'Usuario recurrente no logueado'\n",
    "group = test[test['user_class'] == 'Usuario recurrente no logueado']\n",
    "\n",
    "# Obtener las sesiones únicas\n",
    "unique_sessions = group['session_id'].unique()\n",
    "print(f\"Número de sesiones únicas de 'Usuario recurrente no logueado': {len(unique_sessions)}\")"
   ]
  },
  {
   "cell_type": "markdown",
   "metadata": {},
   "source": [
    "- Definir la Función `recommend_by_content` Utilizando find_similar_products\n",
    "- Usaremos la función find_similar_products que ya hemos desarrollado para definir recommend_by_content."
   ]
  },
  {
   "cell_type": "code",
   "execution_count": 129,
   "metadata": {},
   "outputs": [],
   "source": [
    "def recommend_by_content(partnumbers_interacted, top_n=5):\n",
    "    recommendations = []\n",
    "    for partnumber in partnumbers_interacted:\n",
    "        # Obtener productos similares\n",
    "        similar_products = find_similar_products(partnumber, top_n=top_n)\n",
    "        # Añadir los productos similares a la lista de recomendaciones\n",
    "        recommendations.extend(similar_products)\n",
    "    \n",
    "    # Eliminar productos ya vistos y duplicados\n",
    "    recommendations = [p for p in recommendations if p not in partnumbers_interacted]\n",
    "    recommendations = list(dict.fromkeys(recommendations))\n",
    "    \n",
    "    return recommendations[:top_n]"
   ]
  },
  {
   "cell_type": "markdown",
   "metadata": {},
   "source": [
    "Verificar la Función recommend_by_content"
   ]
  },
  {
   "cell_type": "code",
   "execution_count": 131,
   "metadata": {},
   "outputs": [
    {
     "name": "stdout",
     "output_type": "stream",
     "text": [
      "Recomendaciones basadas en contenido para [40779]: [33094, 40564, 13227, 24700, 8128]\n"
     ]
    }
   ],
   "source": [
    "# Seleccionar un 'partnumber' de ejemplo con el que haya interactuado un usuario\n",
    "test_partnumbers_interacted = [40779]  # Este es el 'partnumber' más popular según nuestro dato previo\n",
    "\n",
    "# Generar recomendaciones basadas en contenido\n",
    "recs_content = recommend_by_content(test_partnumbers_interacted, top_n=5)\n",
    "\n",
    "print(f\"Recomendaciones basadas en contenido para {test_partnumbers_interacted}: {recs_content}\")"
   ]
  },
  {
   "cell_type": "markdown",
   "metadata": {},
   "source": [
    "- Definir la Función `recommend_by_popularity`\n",
    "- Utilizando la lista popular_products que ya hemos generado anteriormente, podemos definir la función recommend_by_popularity."
   ]
  },
  {
   "cell_type": "code",
   "execution_count": 133,
   "metadata": {},
   "outputs": [],
   "source": [
    "def recommend_by_popularity(top_n=5):\n",
    "    return popular_products[:top_n]"
   ]
  },
  {
   "cell_type": "code",
   "execution_count": 135,
   "metadata": {},
   "outputs": [
    {
     "name": "stdout",
     "output_type": "stream",
     "text": [
      "Recomendaciones basadas en popularidad: [40779, 24271, 2763, 5222, 8778]\n"
     ]
    }
   ],
   "source": [
    "# Probar la función\n",
    "popular_recs = recommend_by_popularity(top_n=5)\n",
    "print(\"Recomendaciones basadas en popularidad:\", popular_recs)"
   ]
  },
  {
   "cell_type": "markdown",
   "metadata": {},
   "source": [
    "Integrar recommend_by_content en el Bucle Principal"
   ]
  },
  {
   "cell_type": "code",
   "execution_count": 136,
   "metadata": {},
   "outputs": [],
   "source": [
    "# Continuamos usando el diccionario 'user_recommendations' existente\n",
    "\n",
    "for session_id in unique_sessions:\n",
    "    # Obtener los 'partnumber' con los que interactuó en la sesión\n",
    "    session_data = group[group['session_id'] == session_id]\n",
    "    partnumbers_interacted = session_data['partnumber'].unique()\n",
    "    \n",
    "    if len(partnumbers_interacted) > 0:\n",
    "        # Generar recomendaciones basadas en contenido\n",
    "        recs = recommend_by_content(partnumbers_interacted, top_n=10)\n",
    "    else:\n",
    "        # Si no hay interacciones, usar popularidad\n",
    "        recs = recommend_by_popularity(top_n=5)\n",
    "    \n",
    "    # Aseguramos 5 recomendaciones únicas\n",
    "    recs = list(dict.fromkeys(recs))[:5]\n",
    "    \n",
    "    # Almacenar las recomendaciones en el diccionario existente\n",
    "    user_recommendations[session_id] = recs"
   ]
  },
  {
   "cell_type": "markdown",
   "metadata": {},
   "source": [
    "Verificar las Recomendaciones Generadas"
   ]
  },
  {
   "cell_type": "code",
   "execution_count": 137,
   "metadata": {},
   "outputs": [
    {
     "name": "stdout",
     "output_type": "stream",
     "text": [
      "Total de sesiones con recomendaciones: 6429\n"
     ]
    }
   ],
   "source": [
    "# Verificar el Número Total de Sesiones con Recomendaciones\n",
    "total_sessions_with_recommendations = len(user_recommendations)\n",
    "print(f\"Total de sesiones con recomendaciones: {total_sessions_with_recommendations}\")"
   ]
  },
  {
   "cell_type": "code",
   "execution_count": 138,
   "metadata": {},
   "outputs": [
    {
     "name": "stdout",
     "output_type": "stream",
     "text": [
      "Sesión 746 - Recomendaciones: [38002, 12468, 834, 35603, 19816]\n",
      "Sesión 1306 - Recomendaciones: [693, 42576, 23029, 33261, 42429]\n",
      "Sesión 1364 - Recomendaciones: [15604, 32851, 13891, 33546, 24034]\n",
      "Sesión 2344 - Recomendaciones: [42206, 39102, 21085, 3267, 8558]\n",
      "Sesión 3125 - Recomendaciones: [26254, 31263, 40141, 15798, 35688]\n"
     ]
    }
   ],
   "source": [
    "# Mostrar las recomendaciones para las primeras 5 sesiones de este grupo\n",
    "session_ids_sample = list(unique_sessions)[:5]\n",
    "for session_id in session_ids_sample:\n",
    "    recs = user_recommendations.get(session_id, [])\n",
    "    print(f\"Sesión {session_id} - Recomendaciones: {recs}\")"
   ]
  },
  {
   "cell_type": "markdown",
   "metadata": {},
   "source": [
    "#### `Usuario nuevo logueado`"
   ]
  },
  {
   "cell_type": "markdown",
   "metadata": {},
   "source": [
    "- Estos usuarios están registrados pero no tienen historial en el conjunto de entrenamiento. \n",
    "- Por lo tanto, utilizaremos recomendaciones basadas en popularidad para ellos."
   ]
  },
  {
   "cell_type": "code",
   "execution_count": 139,
   "metadata": {},
   "outputs": [
    {
     "name": "stdout",
     "output_type": "stream",
     "text": [
      "Número de sesiones únicas de 'Usuario nuevo logueado': 920\n"
     ]
    }
   ],
   "source": [
    "# Filtrar las sesiones de 'Usuario nuevo logueado'\n",
    "group_new_logged_in = test[test['user_class'] == 'Usuario nuevo logueado']\n",
    "\n",
    "# Obtener las sesiones únicas y los 'user_id' asociados\n",
    "session_user_mapping_new_logged_in = group_new_logged_in[['session_id', 'user_id']].drop_duplicates()\n",
    "\n",
    "print(f\"Número de sesiones únicas de 'Usuario nuevo logueado': {len(session_user_mapping_new_logged_in)}\")"
   ]
  },
  {
   "cell_type": "markdown",
   "metadata": {},
   "source": [
    "Generar las Recomendaciones"
   ]
  },
  {
   "cell_type": "code",
   "execution_count": 140,
   "metadata": {},
   "outputs": [],
   "source": [
    "# Continuamos utilizando el diccionario 'user_recommendations'\n",
    "\n",
    "for _, row in session_user_mapping_new_logged_in.iterrows():\n",
    "    session_id = row['session_id']\n",
    "    user_id = row['user_id']\n",
    "    \n",
    "    # Generar recomendaciones basadas en popularidad\n",
    "    recs = recommend_by_popularity(top_n=5)\n",
    "    \n",
    "    # Almacenar las recomendaciones\n",
    "    user_recommendations[session_id] = recs"
   ]
  },
  {
   "cell_type": "markdown",
   "metadata": {},
   "source": [
    "Verificar que Todas las Sesiones Tienen Recomendaciones"
   ]
  },
  {
   "cell_type": "code",
   "execution_count": 141,
   "metadata": {},
   "outputs": [
    {
     "name": "stdout",
     "output_type": "stream",
     "text": [
      "Total de sesiones en el conjunto de prueba: 7349\n",
      "Total de sesiones con recomendaciones: 7349\n",
      "Todas las sesiones tienen recomendaciones.\n"
     ]
    }
   ],
   "source": [
    "total_sessions_in_test = test['session_id'].nunique()\n",
    "total_sessions_with_recommendations = len(user_recommendations)\n",
    "\n",
    "print(f\"Total de sesiones en el conjunto de prueba: {total_sessions_in_test}\")\n",
    "print(f\"Total de sesiones con recomendaciones: {total_sessions_with_recommendations}\")\n",
    "\n",
    "if total_sessions_in_test == total_sessions_with_recommendations:\n",
    "    print(\"Todas las sesiones tienen recomendaciones.\")\n",
    "else:\n",
    "    print(f\"Faltan recomendaciones para {total_sessions_in_test - total_sessions_with_recommendations} sesiones.\")"
   ]
  },
  {
   "cell_type": "markdown",
   "metadata": {},
   "source": [
    "#### `Usuario nuevo no logueado`"
   ]
  },
  {
   "cell_type": "markdown",
   "metadata": {},
   "source": [
    "Es posible que en el conjunto de datos no haya usuarios clasificados como 'Usuario nuevo no logueado'. Sin embargo, podemos preparar el código por si acaso."
   ]
  },
  {
   "cell_type": "code",
   "execution_count": 142,
   "metadata": {},
   "outputs": [
    {
     "name": "stdout",
     "output_type": "stream",
     "text": [
      "No hay sesiones clasificadas como 'Usuario nuevo no logueado'.\n"
     ]
    }
   ],
   "source": [
    "# Filtrar las sesiones de 'Usuario nuevo no logueado'\n",
    "group_new_not_logged_in = test[test['user_class'] == 'Usuario nuevo no logueado']\n",
    "\n",
    "if not group_new_not_logged_in.empty:\n",
    "    # Obtener las sesiones únicas\n",
    "    unique_sessions_new_not_logged_in = group_new_not_logged_in['session_id'].unique()\n",
    "    print(f\"Número de sesiones únicas de 'Usuario nuevo no logueado': {len(unique_sessions_new_not_logged_in)}\")\n",
    "    \n",
    "    for session_id in unique_sessions_new_not_logged_in:\n",
    "        # Generar recomendaciones basadas en popularidad\n",
    "        recs = recommend_by_popularity(top_n=5)\n",
    "        \n",
    "        # Almacenar las recomendaciones\n",
    "        user_recommendations[session_id] = recs\n",
    "\n",
    "    # Verificar el total de sesiones con recomendaciones\n",
    "    total_sessions_with_recommendations = len(user_recommendations)\n",
    "    print(f\"Total de sesiones con recomendaciones después de 'Usuario nuevo no logueado': {total_sessions_with_recommendations}\")\n",
    "else:\n",
    "    print(\"No hay sesiones clasificadas como 'Usuario nuevo no logueado'.\")"
   ]
  },
  {
   "cell_type": "markdown",
   "metadata": {},
   "source": [
    "#### **Validaciones Finales**"
   ]
  },
  {
   "cell_type": "markdown",
   "metadata": {},
   "source": [
    "Verificar que Todas las Sesiones Tienen 5 Recomendaciones Únicas"
   ]
  },
  {
   "cell_type": "code",
   "execution_count": 143,
   "metadata": {},
   "outputs": [],
   "source": [
    "for session_id, recs in user_recommendations.items():\n",
    "    if len(recs) != 5:\n",
    "        print(f\"Sesión {session_id} tiene {len(recs)} recomendaciones.\")\n",
    "    if len(recs) != len(set(recs)):\n",
    "        print(f\"Sesión {session_id} tiene recomendaciones duplicadas.\")"
   ]
  },
  {
   "cell_type": "markdown",
   "metadata": {},
   "source": [
    "Asegurarnos de que los Productos Recomendados Existen en el Catálogo"
   ]
  },
  {
   "cell_type": "code",
   "execution_count": 144,
   "metadata": {},
   "outputs": [
    {
     "name": "stdout",
     "output_type": "stream",
     "text": [
      "Todos los productos recomendados están en el catálogo.\n"
     ]
    }
   ],
   "source": [
    "all_recommended_partnumbers = set()\n",
    "for recs in user_recommendations.values():\n",
    "    all_recommended_partnumbers.update(recs)\n",
    "\n",
    "missing_products = all_recommended_partnumbers - set(products['partnumber'].unique())\n",
    "if missing_products:\n",
    "    print(f\"Hay {len(missing_products)} productos recomendados que no están en el catálogo.\")\n",
    "else:\n",
    "    print(\"Todos los productos recomendados están en el catálogo.\")"
   ]
  },
  {
   "cell_type": "markdown",
   "metadata": {},
   "source": [
    "#### **Generación del JSON predictions_3**"
   ]
  },
  {
   "cell_type": "code",
   "execution_count": 149,
   "metadata": {},
   "outputs": [
    {
     "name": "stdout",
     "output_type": "stream",
     "text": [
      "Archivo 'predictions_3_pipeline_v2.json' generado con éxito.\n"
     ]
    }
   ],
   "source": [
    "import json\n",
    "# Convertir las claves de 'user_recommendations' a cadenas\n",
    "user_recommendations_str_keys = {str(session_id): recs for session_id, recs in user_recommendations.items()}\n",
    "\n",
    "# Convertir los elementos de las listas de recomendaciones a enteros nativos de Python\n",
    "for session_id, recs in user_recommendations_str_keys.items():\n",
    "    user_recommendations_str_keys[session_id] = [int(p) for p in recs]\n",
    "\n",
    "# Crear el dictado de salida\n",
    "output = {'target': user_recommendations_str_keys}\n",
    "\n",
    "# Guardar el archivo JSON\n",
    "with open('/home/pablost/Hackathon_inditex_data_science/hackathon-inditex-data-recommender/predictions/predictions_3_pipeline_v2.json', 'w') as f:\n",
    "    json.dump(output, f)\n",
    "\n",
    "print(\"Archivo 'predictions_3_pipeline_v2.json' generado con éxito.\")"
   ]
  },
  {
   "cell_type": "markdown",
   "metadata": {},
   "source": [
    "Verificar el Formato del Archivo JSON"
   ]
  },
  {
   "cell_type": "code",
   "execution_count": 151,
   "metadata": {},
   "outputs": [
    {
     "name": "stdout",
     "output_type": "stream",
     "text": [
      "Número de sesiones en el JSON: 7349\n",
      "Primeras 5 sesiones en el JSON:\n",
      "Sesión 4711: [39026, 28178, 27593, 3061, 31301]\n",
      "Sesión 15073: [32844, 29139, 22105, 31301, 31362]\n",
      "Sesión 27081: [32700, 15834, 40784, 9464, 22287]\n",
      "Sesión 36033: [13811, 2999, 31301, 31362, 26216]\n",
      "Sesión 45390: [12359, 15834, 24925, 5218, 948]\n"
     ]
    }
   ],
   "source": [
    "with open('/home/pablost/Hackathon_inditex_data_science/hackathon-inditex-data-recommender/predictions_save/predictions_3_pipeline_v2.json', 'r') as f:\n",
    "    data = json.load(f)\n",
    "\n",
    "# Verificar el número de sesiones\n",
    "num_sessions_in_json = len(data['target'])\n",
    "print(f\"Número de sesiones en el JSON: {num_sessions_in_json}\")\n",
    "\n",
    "# Mostrar algunas recomendaciones\n",
    "print(\"Primeras 5 sesiones en el JSON:\")\n",
    "for session_id in list(data['target'].keys())[:5]:\n",
    "    recs = data['target'][session_id]\n",
    "    print(f\"Sesión {session_id}: {recs}\")"
   ]
  }
 ],
 "metadata": {
  "kernelspec": {
   "display_name": ".env",
   "language": "python",
   "name": "python3"
  },
  "language_info": {
   "codemirror_mode": {
    "name": "ipython",
    "version": 3
   },
   "file_extension": ".py",
   "mimetype": "text/x-python",
   "name": "python",
   "nbconvert_exporter": "python",
   "pygments_lexer": "ipython3",
   "version": "3.10.12"
  }
 },
 "nbformat": 4,
 "nbformat_minor": 2
}
