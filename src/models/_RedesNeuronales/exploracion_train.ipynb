{
 "cells": [
  {
   "cell_type": "code",
   "execution_count": 1,
   "metadata": {},
   "outputs": [],
   "source": [
    "import pandas as pd\n",
    "import json\n",
    "\n",
    "test_data_path = '/home/pablost/Hackathon_inditex_data_science/hackathon-inditex-data-recommender/data/raw/test.csv'\n",
    "train_data_path = '/home/pablost/Hackathon_inditex_data_science/hackathon-inditex-data-recommender/data/raw/train.csv'\n",
    "products_data_path = '/home/pablost/Hackathon_inditex_data_science/hackathon-inditex-data-recommender/data/raw/products.pkl'\n",
    "user_details_path = '/home/pablost/Hackathon_inditex_data_science/hackathon-inditex-data-recommender/data/raw/format_user_details.json'"
   ]
  },
  {
   "cell_type": "markdown",
   "metadata": {},
   "source": [
    "# Train"
   ]
  },
  {
   "cell_type": "code",
   "execution_count": 2,
   "metadata": {},
   "outputs": [
    {
     "name": "stdout",
     "output_type": "stream",
     "text": [
      "Información general del dataset:\n",
      "<class 'pandas.core.frame.DataFrame'>\n",
      "RangeIndex: 46551445 entries, 0 to 46551444\n",
      "Data columns (total 9 columns):\n",
      " #   Column           Dtype  \n",
      "---  ------           -----  \n",
      " 0   session_id       int64  \n",
      " 1   date             object \n",
      " 2   timestamp_local  object \n",
      " 3   add_to_cart      int64  \n",
      " 4   user_id          float64\n",
      " 5   country          int64  \n",
      " 6   partnumber       int64  \n",
      " 7   device_type      int64  \n",
      " 8   pagetype         float64\n",
      "dtypes: float64(2), int64(5), object(2)\n",
      "memory usage: 3.1+ GB\n",
      "None\n",
      "\n",
      "Primeras filas del dataset:\n",
      "   session_id        date          timestamp_local  add_to_cart   user_id  \\\n",
      "0          64  2024-06-06  2024-06-06 16:43:17.389            0       NaN   \n",
      "1         117  2024-06-08  2024-06-08 15:11:02.782            0       NaN   \n",
      "2         117  2024-06-08  2024-06-08 15:11:44.797            0       NaN   \n",
      "3         579  2024-06-05  2024-06-05 19:24:48.397            0       NaN   \n",
      "4        1220  2024-06-04  2024-06-04 08:21:13.476            0  480729.0   \n",
      "\n",
      "   country  partnumber  device_type  pagetype  \n",
      "0       29       14327            1      24.0  \n",
      "1       57       38422            1      24.0  \n",
      "2       57       19763            1      24.0  \n",
      "3       29       30253            1      24.0  \n",
      "4       25        1592            1      24.0  \n"
     ]
    }
   ],
   "source": [
    "train_df = pd.read_csv(train_data_path)\n",
    "    \n",
    "# Información general del dataset\n",
    "print(\"Información general del dataset:\")\n",
    "print(train_df.info())\n",
    "\n",
    "# Primeras filas del dataset\n",
    "print(\"\\nPrimeras filas del dataset:\")\n",
    "print(train_df.head())\n",
    "\n",
    "# Estadísticas descriptivas\n",
    "# print(\"\\nEstadísticas descriptivas:\")\n",
    "# print(train_df.describe(include='all'))\n",
    "    "
   ]
  },
  {
   "cell_type": "code",
   "execution_count": 3,
   "metadata": {},
   "outputs": [
    {
     "data": {
      "text/html": [
       "<div>\n",
       "<style scoped>\n",
       "    .dataframe tbody tr th:only-of-type {\n",
       "        vertical-align: middle;\n",
       "    }\n",
       "\n",
       "    .dataframe tbody tr th {\n",
       "        vertical-align: top;\n",
       "    }\n",
       "\n",
       "    .dataframe thead th {\n",
       "        text-align: right;\n",
       "    }\n",
       "</style>\n",
       "<table border=\"1\" class=\"dataframe\">\n",
       "  <thead>\n",
       "    <tr style=\"text-align: right;\">\n",
       "      <th></th>\n",
       "      <th>session_id</th>\n",
       "      <th>date</th>\n",
       "      <th>timestamp_local</th>\n",
       "      <th>add_to_cart</th>\n",
       "      <th>user_id</th>\n",
       "      <th>country</th>\n",
       "      <th>partnumber</th>\n",
       "      <th>device_type</th>\n",
       "      <th>pagetype</th>\n",
       "    </tr>\n",
       "  </thead>\n",
       "  <tbody>\n",
       "    <tr>\n",
       "      <th>0</th>\n",
       "      <td>64</td>\n",
       "      <td>2024-06-06</td>\n",
       "      <td>2024-06-06 16:43:17.389</td>\n",
       "      <td>0</td>\n",
       "      <td>NaN</td>\n",
       "      <td>29</td>\n",
       "      <td>14327</td>\n",
       "      <td>1</td>\n",
       "      <td>24.0</td>\n",
       "    </tr>\n",
       "    <tr>\n",
       "      <th>1</th>\n",
       "      <td>117</td>\n",
       "      <td>2024-06-08</td>\n",
       "      <td>2024-06-08 15:11:02.782</td>\n",
       "      <td>0</td>\n",
       "      <td>NaN</td>\n",
       "      <td>57</td>\n",
       "      <td>38422</td>\n",
       "      <td>1</td>\n",
       "      <td>24.0</td>\n",
       "    </tr>\n",
       "    <tr>\n",
       "      <th>2</th>\n",
       "      <td>117</td>\n",
       "      <td>2024-06-08</td>\n",
       "      <td>2024-06-08 15:11:44.797</td>\n",
       "      <td>0</td>\n",
       "      <td>NaN</td>\n",
       "      <td>57</td>\n",
       "      <td>19763</td>\n",
       "      <td>1</td>\n",
       "      <td>24.0</td>\n",
       "    </tr>\n",
       "    <tr>\n",
       "      <th>3</th>\n",
       "      <td>579</td>\n",
       "      <td>2024-06-05</td>\n",
       "      <td>2024-06-05 19:24:48.397</td>\n",
       "      <td>0</td>\n",
       "      <td>NaN</td>\n",
       "      <td>29</td>\n",
       "      <td>30253</td>\n",
       "      <td>1</td>\n",
       "      <td>24.0</td>\n",
       "    </tr>\n",
       "    <tr>\n",
       "      <th>4</th>\n",
       "      <td>1220</td>\n",
       "      <td>2024-06-04</td>\n",
       "      <td>2024-06-04 08:21:13.476</td>\n",
       "      <td>0</td>\n",
       "      <td>480729.0</td>\n",
       "      <td>25</td>\n",
       "      <td>1592</td>\n",
       "      <td>1</td>\n",
       "      <td>24.0</td>\n",
       "    </tr>\n",
       "  </tbody>\n",
       "</table>\n",
       "</div>"
      ],
      "text/plain": [
       "   session_id        date          timestamp_local  add_to_cart   user_id  \\\n",
       "0          64  2024-06-06  2024-06-06 16:43:17.389            0       NaN   \n",
       "1         117  2024-06-08  2024-06-08 15:11:02.782            0       NaN   \n",
       "2         117  2024-06-08  2024-06-08 15:11:44.797            0       NaN   \n",
       "3         579  2024-06-05  2024-06-05 19:24:48.397            0       NaN   \n",
       "4        1220  2024-06-04  2024-06-04 08:21:13.476            0  480729.0   \n",
       "\n",
       "   country  partnumber  device_type  pagetype  \n",
       "0       29       14327            1      24.0  \n",
       "1       57       38422            1      24.0  \n",
       "2       57       19763            1      24.0  \n",
       "3       29       30253            1      24.0  \n",
       "4       25        1592            1      24.0  "
      ]
     },
     "execution_count": 3,
     "metadata": {},
     "output_type": "execute_result"
    }
   ],
   "source": [
    "train_df.head()"
   ]
  },
  {
   "cell_type": "markdown",
   "metadata": {},
   "source": [
    "## session_id"
   ]
  },
  {
   "cell_type": "code",
   "execution_count": 4,
   "metadata": {},
   "outputs": [
    {
     "name": "stdout",
     "output_type": "stream",
     "text": [
      "Análisis de session_id:\n",
      "count    4.655144e+07\n",
      "mean     2.582898e+06\n",
      "std      1.493335e+06\n",
      "min      1.000000e+00\n",
      "25%      1.289981e+06\n",
      "50%      2.580033e+06\n",
      "75%      3.875410e+06\n",
      "max      5.171848e+06\n",
      "Name: session_id, dtype: float64\n",
      "int64\n"
     ]
    }
   ],
   "source": [
    "# Revisar los valores en session_id\n",
    "print(\"Análisis de session_id:\")\n",
    "print(train_df['session_id'].describe())\n",
    "print(train_df['session_id'].dtype)"
   ]
  },
  {
   "cell_type": "code",
   "execution_count": 5,
   "metadata": {},
   "outputs": [
    {
     "name": "stdout",
     "output_type": "stream",
     "text": [
      "Nuevo tipo de session_id: int32\n"
     ]
    }
   ],
   "source": [
    "# Ajustar el tipo de dato\n",
    "train_df['session_id'] = pd.to_numeric(train_df['session_id'], downcast='integer')\n",
    "print(\"Nuevo tipo de session_id:\", train_df['session_id'].dtype)"
   ]
  },
  {
   "cell_type": "markdown",
   "metadata": {},
   "source": [
    "## date"
   ]
  },
  {
   "cell_type": "code",
   "execution_count": 6,
   "metadata": {},
   "outputs": [
    {
     "name": "stdout",
     "output_type": "stream",
     "text": [
      "Análisis de date:\n",
      "0    2024-06-06\n",
      "1    2024-06-08\n",
      "2    2024-06-08\n",
      "3    2024-06-05\n",
      "4    2024-06-04\n",
      "Name: date, dtype: object\n",
      "object\n"
     ]
    }
   ],
   "source": [
    "# Revisar los valores en date\n",
    "print(\"Análisis de date:\")\n",
    "print(train_df['date'].head())\n",
    "print(train_df['date'].dtype)"
   ]
  },
  {
   "cell_type": "code",
   "execution_count": 7,
   "metadata": {},
   "outputs": [
    {
     "name": "stdout",
     "output_type": "stream",
     "text": [
      "Nuevo tipo de date: datetime64[ns]\n"
     ]
    }
   ],
   "source": [
    "# Convertir a datetime\n",
    "train_df['date'] = pd.to_datetime(train_df['date'])\n",
    "print(\"Nuevo tipo de date:\", train_df['date'].dtype)"
   ]
  },
  {
   "cell_type": "markdown",
   "metadata": {},
   "source": [
    "## timestamp_local"
   ]
  },
  {
   "cell_type": "code",
   "execution_count": 8,
   "metadata": {},
   "outputs": [
    {
     "name": "stdout",
     "output_type": "stream",
     "text": [
      "Análisis de timestamp_local:\n",
      "0    2024-06-06 16:43:17.389\n",
      "1    2024-06-08 15:11:02.782\n",
      "2    2024-06-08 15:11:44.797\n",
      "3    2024-06-05 19:24:48.397\n",
      "4    2024-06-04 08:21:13.476\n",
      "Name: timestamp_local, dtype: object\n",
      "object\n"
     ]
    }
   ],
   "source": [
    "# Revisar los valores en timestamp_local\n",
    "print(\"Análisis de timestamp_local:\")\n",
    "print(train_df['timestamp_local'].head())\n",
    "print(train_df['timestamp_local'].dtype)"
   ]
  },
  {
   "cell_type": "code",
   "execution_count": 9,
   "metadata": {},
   "outputs": [
    {
     "name": "stdout",
     "output_type": "stream",
     "text": [
      "Nuevo tipo de timestamp_local: datetime64[ns]\n"
     ]
    }
   ],
   "source": [
    "# Convertir a datetime\n",
    "train_df['timestamp_local'] = pd.to_datetime(train_df['timestamp_local'])\n",
    "print(\"Nuevo tipo de timestamp_local:\", train_df['timestamp_local'].dtype)"
   ]
  },
  {
   "cell_type": "markdown",
   "metadata": {},
   "source": [
    "## add_to_cart\n"
   ]
  },
  {
   "cell_type": "code",
   "execution_count": 10,
   "metadata": {},
   "outputs": [
    {
     "name": "stdout",
     "output_type": "stream",
     "text": [
      "Análisis de add_to_cart:\n",
      "add_to_cart\n",
      "0    43805662\n",
      "1     2745783\n",
      "Name: count, dtype: int64\n",
      "int64\n"
     ]
    }
   ],
   "source": [
    "# Revisar los valores en add_to_cart\n",
    "print(\"Análisis de add_to_cart:\")\n",
    "print(train_df['add_to_cart'].value_counts())\n",
    "print(train_df['add_to_cart'].dtype)"
   ]
  },
  {
   "cell_type": "code",
   "execution_count": 11,
   "metadata": {},
   "outputs": [
    {
     "name": "stdout",
     "output_type": "stream",
     "text": [
      "Nuevo tipo de add_to_cart: int8\n"
     ]
    }
   ],
   "source": [
    "# Convertir a int8\n",
    "train_df['add_to_cart'] = pd.to_numeric(train_df['add_to_cart'], downcast='integer')\n",
    "print(\"Nuevo tipo de add_to_cart:\", train_df['add_to_cart'].dtype)"
   ]
  },
  {
   "cell_type": "markdown",
   "metadata": {},
   "source": [
    "## user_id\n"
   ]
  },
  {
   "cell_type": "code",
   "execution_count": 12,
   "metadata": {},
   "outputs": [
    {
     "name": "stdout",
     "output_type": "stream",
     "text": [
      "Análisis de user_id:\n",
      "count    6.856730e+06\n",
      "mean     2.785741e+05\n",
      "std      1.610572e+05\n",
      "min      1.000000e+00\n",
      "25%      1.382670e+05\n",
      "50%      2.784610e+05\n",
      "75%      4.179960e+05\n",
      "max      5.570060e+05\n",
      "Name: user_id, dtype: float64\n",
      "39694715\n",
      "float64\n"
     ]
    }
   ],
   "source": [
    "# Revisar los valores en user_id\n",
    "print(\"Análisis de user_id:\")\n",
    "print(train_df['user_id'].describe())\n",
    "print(train_df['user_id'].isnull().sum())\n",
    "print(train_df['user_id'].dtype)"
   ]
  },
  {
   "cell_type": "code",
   "execution_count": 13,
   "metadata": {},
   "outputs": [
    {
     "name": "stdout",
     "output_type": "stream",
     "text": [
      "int32\n",
      "user_id\n",
      "-1         39694715\n",
      " 436999        3431\n",
      " 304018        2433\n",
      " 88890         2103\n",
      " 447794        2090\n",
      "             ...   \n",
      " 461590           1\n",
      " 66266            1\n",
      " 519189           1\n",
      " 507428           1\n",
      " 328107           1\n",
      "Name: count, Length: 380053, dtype: int64\n"
     ]
    }
   ],
   "source": [
    "# Manejar valores faltantes y optimizar el tipo\n",
    "train_df['user_id'] = train_df['user_id'].fillna(-1)\n",
    "\n",
    "# Convertir a entero (int32)\n",
    "train_df['user_id'] = train_df['user_id'].astype('int32')\n",
    "\n",
    "# Verificar los cambios\n",
    "print(train_df['user_id'].dtype)\n",
    "print(train_df['user_id'].value_counts())"
   ]
  },
  {
   "cell_type": "markdown",
   "metadata": {},
   "source": []
  },
  {
   "cell_type": "markdown",
   "metadata": {},
   "source": [
    "## country"
   ]
  },
  {
   "cell_type": "code",
   "execution_count": 14,
   "metadata": {},
   "outputs": [
    {
     "name": "stdout",
     "output_type": "stream",
     "text": [
      "Análisis de country:\n",
      "count    4.655144e+07\n",
      "mean     3.644275e+01\n",
      "std      1.245243e+01\n",
      "min      2.500000e+01\n",
      "25%      2.900000e+01\n",
      "50%      2.900000e+01\n",
      "75%      5.700000e+01\n",
      "max      5.700000e+01\n",
      "Name: country, dtype: float64\n",
      "int64\n"
     ]
    }
   ],
   "source": [
    "# Revisar los valores en country\n",
    "print(\"Análisis de country:\")\n",
    "print(train_df['country'].describe())\n",
    "print(train_df['country'].dtype)"
   ]
  },
  {
   "cell_type": "code",
   "execution_count": 15,
   "metadata": {},
   "outputs": [
    {
     "name": "stdout",
     "output_type": "stream",
     "text": [
      "Nuevo tipo de country: int8\n"
     ]
    }
   ],
   "source": [
    "# Convertir a integer\n",
    "train_df['country'] = pd.to_numeric(train_df['country'], downcast='integer')\n",
    "print(\"Nuevo tipo de country:\", train_df['country'].dtype)"
   ]
  },
  {
   "cell_type": "markdown",
   "metadata": {},
   "source": [
    "## partnumber"
   ]
  },
  {
   "cell_type": "code",
   "execution_count": 16,
   "metadata": {},
   "outputs": [
    {
     "name": "stdout",
     "output_type": "stream",
     "text": [
      "Análisis de partnumber:\n",
      "count    4.655144e+07\n",
      "mean     2.171479e+04\n",
      "std      1.248680e+04\n",
      "min      1.000000e+00\n",
      "25%      1.105200e+04\n",
      "50%      2.164900e+04\n",
      "75%      3.242300e+04\n",
      "max      4.369200e+04\n",
      "Name: partnumber, dtype: float64\n",
      "int64\n"
     ]
    }
   ],
   "source": [
    "# Revisar los valores en partnumber\n",
    "print(\"Análisis de partnumber:\")\n",
    "print(train_df['partnumber'].describe())\n",
    "print(train_df['partnumber'].dtype)"
   ]
  },
  {
   "cell_type": "code",
   "execution_count": 17,
   "metadata": {},
   "outputs": [
    {
     "name": "stdout",
     "output_type": "stream",
     "text": [
      "Nuevo tipo de partnumber: int32\n"
     ]
    }
   ],
   "source": [
    "# Convertir a int32\n",
    "train_df['partnumber'] = pd.to_numeric(train_df['partnumber'], downcast='integer')\n",
    "print(\"Nuevo tipo de partnumber:\", train_df['partnumber'].dtype)"
   ]
  },
  {
   "cell_type": "markdown",
   "metadata": {},
   "source": [
    "## device_type"
   ]
  },
  {
   "cell_type": "code",
   "execution_count": 18,
   "metadata": {},
   "outputs": [
    {
     "name": "stdout",
     "output_type": "stream",
     "text": [
      "Análisis de device_type:\n",
      "count    4.655144e+07\n",
      "mean     1.144113e+00\n",
      "std      5.080278e-01\n",
      "min      1.000000e+00\n",
      "25%      1.000000e+00\n",
      "50%      1.000000e+00\n",
      "75%      1.000000e+00\n",
      "max      3.000000e+00\n",
      "Name: device_type, dtype: float64\n",
      "int64\n"
     ]
    }
   ],
   "source": [
    "# Revisar los valores en device_type\n",
    "print(\"Análisis de device_type:\")\n",
    "print(train_df['device_type'].describe())\n",
    "print(train_df['device_type'].dtype)"
   ]
  },
  {
   "cell_type": "code",
   "execution_count": 19,
   "metadata": {},
   "outputs": [
    {
     "name": "stdout",
     "output_type": "stream",
     "text": [
      "Nuevo tipo de device_type: int8\n"
     ]
    }
   ],
   "source": [
    "# Convertir a int8\n",
    "train_df['device_type'] = pd.to_numeric(train_df['device_type'], downcast='integer')\n",
    "print(\"Nuevo tipo de device_type:\", train_df['device_type'].dtype)"
   ]
  },
  {
   "cell_type": "markdown",
   "metadata": {},
   "source": [
    "## pagetype"
   ]
  },
  {
   "cell_type": "code",
   "execution_count": 20,
   "metadata": {},
   "outputs": [
    {
     "name": "stdout",
     "output_type": "stream",
     "text": [
      "Análisis de pagetype:\n",
      "count    4.655025e+07\n",
      "mean     2.390146e+01\n",
      "std      1.273987e+00\n",
      "min      1.000000e+00\n",
      "25%      2.400000e+01\n",
      "50%      2.400000e+01\n",
      "75%      2.400000e+01\n",
      "max      3.700000e+01\n",
      "Name: pagetype, dtype: float64\n",
      "1197\n",
      "float64\n"
     ]
    }
   ],
   "source": [
    "# Revisar los valores en pagetype\n",
    "print(\"Análisis de pagetype:\")\n",
    "print(train_df['pagetype'].describe())\n",
    "print(train_df['pagetype'].isnull().sum())\n",
    "print(train_df['pagetype'].dtype)\n"
   ]
  },
  {
   "cell_type": "code",
   "execution_count": 21,
   "metadata": {},
   "outputs": [
    {
     "name": "stdout",
     "output_type": "stream",
     "text": [
      "Nuevo tipo de pagetype: int8\n"
     ]
    }
   ],
   "source": [
    "# Manejar valores faltantes y optimizar el tipo\n",
    "train_df['pagetype'] = train_df['pagetype'].fillna(-1).astype('int8')\n",
    "print(\"Nuevo tipo de pagetype:\", train_df['pagetype'].dtype)"
   ]
  },
  {
   "cell_type": "markdown",
   "metadata": {},
   "source": [
    "## Resumen"
   ]
  },
  {
   "cell_type": "code",
   "execution_count": 22,
   "metadata": {},
   "outputs": [
    {
     "data": {
      "text/plain": [
       "<bound method DataFrame.info of           session_id       date         timestamp_local  add_to_cart  user_id  \\\n",
       "0                 64 2024-06-06 2024-06-06 16:43:17.389            0       -1   \n",
       "1                117 2024-06-08 2024-06-08 15:11:02.782            0       -1   \n",
       "2                117 2024-06-08 2024-06-08 15:11:44.797            0       -1   \n",
       "3                579 2024-06-05 2024-06-05 19:24:48.397            0       -1   \n",
       "4               1220 2024-06-04 2024-06-04 08:21:13.476            0   480729   \n",
       "...              ...        ...                     ...          ...      ...   \n",
       "46551440     5170695 2024-06-07 2024-06-07 17:57:24.644            0       -1   \n",
       "46551441     5171109 2024-06-04 2024-06-04 12:34:05.430            0       -1   \n",
       "46551442     5171307 2024-06-07 2024-06-07 07:50:02.549            0       -1   \n",
       "46551443     5171603 2024-06-13 2024-06-13 17:56:44.477            0       -1   \n",
       "46551444     5171698 2024-06-11 2024-06-11 03:05:21.361            0       -1   \n",
       "\n",
       "          country  partnumber  device_type  pagetype  \n",
       "0              29       14327            1        24  \n",
       "1              57       38422            1        24  \n",
       "2              57       19763            1        24  \n",
       "3              29       30253            1        24  \n",
       "4              25        1592            1        24  \n",
       "...           ...         ...          ...       ...  \n",
       "46551440       34       39901            3        24  \n",
       "46551441       29       38638            1        24  \n",
       "46551442       25       10883            1        24  \n",
       "46551443       29        3769            1        24  \n",
       "46551444       34       37323            1        24  \n",
       "\n",
       "[46551445 rows x 9 columns]>"
      ]
     },
     "execution_count": 22,
     "metadata": {},
     "output_type": "execute_result"
    }
   ],
   "source": [
    "train_df.info"
   ]
  },
  {
   "cell_type": "code",
   "execution_count": 23,
   "metadata": {},
   "outputs": [
    {
     "data": {
      "text/html": [
       "<div>\n",
       "<style scoped>\n",
       "    .dataframe tbody tr th:only-of-type {\n",
       "        vertical-align: middle;\n",
       "    }\n",
       "\n",
       "    .dataframe tbody tr th {\n",
       "        vertical-align: top;\n",
       "    }\n",
       "\n",
       "    .dataframe thead th {\n",
       "        text-align: right;\n",
       "    }\n",
       "</style>\n",
       "<table border=\"1\" class=\"dataframe\">\n",
       "  <thead>\n",
       "    <tr style=\"text-align: right;\">\n",
       "      <th></th>\n",
       "      <th>session_id</th>\n",
       "      <th>date</th>\n",
       "      <th>timestamp_local</th>\n",
       "      <th>add_to_cart</th>\n",
       "      <th>user_id</th>\n",
       "      <th>country</th>\n",
       "      <th>partnumber</th>\n",
       "      <th>device_type</th>\n",
       "      <th>pagetype</th>\n",
       "    </tr>\n",
       "  </thead>\n",
       "  <tbody>\n",
       "    <tr>\n",
       "      <th>0</th>\n",
       "      <td>64</td>\n",
       "      <td>2024-06-06</td>\n",
       "      <td>2024-06-06 16:43:17.389</td>\n",
       "      <td>0</td>\n",
       "      <td>-1</td>\n",
       "      <td>29</td>\n",
       "      <td>14327</td>\n",
       "      <td>1</td>\n",
       "      <td>24</td>\n",
       "    </tr>\n",
       "    <tr>\n",
       "      <th>1</th>\n",
       "      <td>117</td>\n",
       "      <td>2024-06-08</td>\n",
       "      <td>2024-06-08 15:11:02.782</td>\n",
       "      <td>0</td>\n",
       "      <td>-1</td>\n",
       "      <td>57</td>\n",
       "      <td>38422</td>\n",
       "      <td>1</td>\n",
       "      <td>24</td>\n",
       "    </tr>\n",
       "    <tr>\n",
       "      <th>2</th>\n",
       "      <td>117</td>\n",
       "      <td>2024-06-08</td>\n",
       "      <td>2024-06-08 15:11:44.797</td>\n",
       "      <td>0</td>\n",
       "      <td>-1</td>\n",
       "      <td>57</td>\n",
       "      <td>19763</td>\n",
       "      <td>1</td>\n",
       "      <td>24</td>\n",
       "    </tr>\n",
       "    <tr>\n",
       "      <th>3</th>\n",
       "      <td>579</td>\n",
       "      <td>2024-06-05</td>\n",
       "      <td>2024-06-05 19:24:48.397</td>\n",
       "      <td>0</td>\n",
       "      <td>-1</td>\n",
       "      <td>29</td>\n",
       "      <td>30253</td>\n",
       "      <td>1</td>\n",
       "      <td>24</td>\n",
       "    </tr>\n",
       "    <tr>\n",
       "      <th>4</th>\n",
       "      <td>1220</td>\n",
       "      <td>2024-06-04</td>\n",
       "      <td>2024-06-04 08:21:13.476</td>\n",
       "      <td>0</td>\n",
       "      <td>480729</td>\n",
       "      <td>25</td>\n",
       "      <td>1592</td>\n",
       "      <td>1</td>\n",
       "      <td>24</td>\n",
       "    </tr>\n",
       "    <tr>\n",
       "      <th>5</th>\n",
       "      <td>1220</td>\n",
       "      <td>2024-06-04</td>\n",
       "      <td>2024-06-04 08:21:09.139</td>\n",
       "      <td>0</td>\n",
       "      <td>480729</td>\n",
       "      <td>25</td>\n",
       "      <td>1592</td>\n",
       "      <td>1</td>\n",
       "      <td>24</td>\n",
       "    </tr>\n",
       "    <tr>\n",
       "      <th>6</th>\n",
       "      <td>1220</td>\n",
       "      <td>2024-06-04</td>\n",
       "      <td>2024-06-04 08:21:11.955</td>\n",
       "      <td>0</td>\n",
       "      <td>480729</td>\n",
       "      <td>25</td>\n",
       "      <td>33771</td>\n",
       "      <td>1</td>\n",
       "      <td>24</td>\n",
       "    </tr>\n",
       "    <tr>\n",
       "      <th>7</th>\n",
       "      <td>1222</td>\n",
       "      <td>2024-06-13</td>\n",
       "      <td>2024-06-13 06:22:03.307</td>\n",
       "      <td>0</td>\n",
       "      <td>-1</td>\n",
       "      <td>57</td>\n",
       "      <td>10763</td>\n",
       "      <td>1</td>\n",
       "      <td>24</td>\n",
       "    </tr>\n",
       "    <tr>\n",
       "      <th>8</th>\n",
       "      <td>1222</td>\n",
       "      <td>2024-06-13</td>\n",
       "      <td>2024-06-13 06:17:33.149</td>\n",
       "      <td>0</td>\n",
       "      <td>-1</td>\n",
       "      <td>57</td>\n",
       "      <td>14731</td>\n",
       "      <td>1</td>\n",
       "      <td>24</td>\n",
       "    </tr>\n",
       "    <tr>\n",
       "      <th>9</th>\n",
       "      <td>1222</td>\n",
       "      <td>2024-06-13</td>\n",
       "      <td>2024-06-13 06:17:57.411</td>\n",
       "      <td>0</td>\n",
       "      <td>-1</td>\n",
       "      <td>57</td>\n",
       "      <td>5249</td>\n",
       "      <td>1</td>\n",
       "      <td>24</td>\n",
       "    </tr>\n",
       "    <tr>\n",
       "      <th>10</th>\n",
       "      <td>1222</td>\n",
       "      <td>2024-06-13</td>\n",
       "      <td>2024-06-13 06:17:32.601</td>\n",
       "      <td>0</td>\n",
       "      <td>-1</td>\n",
       "      <td>57</td>\n",
       "      <td>33017</td>\n",
       "      <td>1</td>\n",
       "      <td>24</td>\n",
       "    </tr>\n",
       "    <tr>\n",
       "      <th>11</th>\n",
       "      <td>1222</td>\n",
       "      <td>2024-06-13</td>\n",
       "      <td>2024-06-13 06:19:09.272</td>\n",
       "      <td>1</td>\n",
       "      <td>-1</td>\n",
       "      <td>57</td>\n",
       "      <td>5249</td>\n",
       "      <td>1</td>\n",
       "      <td>24</td>\n",
       "    </tr>\n",
       "    <tr>\n",
       "      <th>12</th>\n",
       "      <td>1222</td>\n",
       "      <td>2024-06-13</td>\n",
       "      <td>2024-06-13 06:18:09.909</td>\n",
       "      <td>0</td>\n",
       "      <td>-1</td>\n",
       "      <td>57</td>\n",
       "      <td>39343</td>\n",
       "      <td>1</td>\n",
       "      <td>24</td>\n",
       "    </tr>\n",
       "    <tr>\n",
       "      <th>13</th>\n",
       "      <td>1222</td>\n",
       "      <td>2024-06-13</td>\n",
       "      <td>2024-06-13 06:19:18.028</td>\n",
       "      <td>0</td>\n",
       "      <td>-1</td>\n",
       "      <td>57</td>\n",
       "      <td>21714</td>\n",
       "      <td>1</td>\n",
       "      <td>24</td>\n",
       "    </tr>\n",
       "    <tr>\n",
       "      <th>14</th>\n",
       "      <td>1222</td>\n",
       "      <td>2024-06-13</td>\n",
       "      <td>2024-06-13 06:17:58.203</td>\n",
       "      <td>0</td>\n",
       "      <td>-1</td>\n",
       "      <td>57</td>\n",
       "      <td>2696</td>\n",
       "      <td>1</td>\n",
       "      <td>24</td>\n",
       "    </tr>\n",
       "    <tr>\n",
       "      <th>15</th>\n",
       "      <td>1222</td>\n",
       "      <td>2024-06-13</td>\n",
       "      <td>2024-06-13 06:20:00.385</td>\n",
       "      <td>0</td>\n",
       "      <td>-1</td>\n",
       "      <td>57</td>\n",
       "      <td>31963</td>\n",
       "      <td>1</td>\n",
       "      <td>24</td>\n",
       "    </tr>\n",
       "    <tr>\n",
       "      <th>16</th>\n",
       "      <td>1222</td>\n",
       "      <td>2024-06-13</td>\n",
       "      <td>2024-06-13 06:20:32.082</td>\n",
       "      <td>0</td>\n",
       "      <td>-1</td>\n",
       "      <td>57</td>\n",
       "      <td>5249</td>\n",
       "      <td>1</td>\n",
       "      <td>24</td>\n",
       "    </tr>\n",
       "    <tr>\n",
       "      <th>17</th>\n",
       "      <td>1222</td>\n",
       "      <td>2024-06-13</td>\n",
       "      <td>2024-06-13 06:20:18.198</td>\n",
       "      <td>0</td>\n",
       "      <td>-1</td>\n",
       "      <td>57</td>\n",
       "      <td>5969</td>\n",
       "      <td>1</td>\n",
       "      <td>24</td>\n",
       "    </tr>\n",
       "    <tr>\n",
       "      <th>18</th>\n",
       "      <td>1222</td>\n",
       "      <td>2024-06-13</td>\n",
       "      <td>2024-06-13 06:21:48.550</td>\n",
       "      <td>0</td>\n",
       "      <td>-1</td>\n",
       "      <td>57</td>\n",
       "      <td>21714</td>\n",
       "      <td>1</td>\n",
       "      <td>24</td>\n",
       "    </tr>\n",
       "    <tr>\n",
       "      <th>19</th>\n",
       "      <td>1222</td>\n",
       "      <td>2024-06-13</td>\n",
       "      <td>2024-06-13 06:18:08.278</td>\n",
       "      <td>0</td>\n",
       "      <td>-1</td>\n",
       "      <td>57</td>\n",
       "      <td>34276</td>\n",
       "      <td>1</td>\n",
       "      <td>24</td>\n",
       "    </tr>\n",
       "  </tbody>\n",
       "</table>\n",
       "</div>"
      ],
      "text/plain": [
       "    session_id       date         timestamp_local  add_to_cart  user_id  \\\n",
       "0           64 2024-06-06 2024-06-06 16:43:17.389            0       -1   \n",
       "1          117 2024-06-08 2024-06-08 15:11:02.782            0       -1   \n",
       "2          117 2024-06-08 2024-06-08 15:11:44.797            0       -1   \n",
       "3          579 2024-06-05 2024-06-05 19:24:48.397            0       -1   \n",
       "4         1220 2024-06-04 2024-06-04 08:21:13.476            0   480729   \n",
       "5         1220 2024-06-04 2024-06-04 08:21:09.139            0   480729   \n",
       "6         1220 2024-06-04 2024-06-04 08:21:11.955            0   480729   \n",
       "7         1222 2024-06-13 2024-06-13 06:22:03.307            0       -1   \n",
       "8         1222 2024-06-13 2024-06-13 06:17:33.149            0       -1   \n",
       "9         1222 2024-06-13 2024-06-13 06:17:57.411            0       -1   \n",
       "10        1222 2024-06-13 2024-06-13 06:17:32.601            0       -1   \n",
       "11        1222 2024-06-13 2024-06-13 06:19:09.272            1       -1   \n",
       "12        1222 2024-06-13 2024-06-13 06:18:09.909            0       -1   \n",
       "13        1222 2024-06-13 2024-06-13 06:19:18.028            0       -1   \n",
       "14        1222 2024-06-13 2024-06-13 06:17:58.203            0       -1   \n",
       "15        1222 2024-06-13 2024-06-13 06:20:00.385            0       -1   \n",
       "16        1222 2024-06-13 2024-06-13 06:20:32.082            0       -1   \n",
       "17        1222 2024-06-13 2024-06-13 06:20:18.198            0       -1   \n",
       "18        1222 2024-06-13 2024-06-13 06:21:48.550            0       -1   \n",
       "19        1222 2024-06-13 2024-06-13 06:18:08.278            0       -1   \n",
       "\n",
       "    country  partnumber  device_type  pagetype  \n",
       "0        29       14327            1        24  \n",
       "1        57       38422            1        24  \n",
       "2        57       19763            1        24  \n",
       "3        29       30253            1        24  \n",
       "4        25        1592            1        24  \n",
       "5        25        1592            1        24  \n",
       "6        25       33771            1        24  \n",
       "7        57       10763            1        24  \n",
       "8        57       14731            1        24  \n",
       "9        57        5249            1        24  \n",
       "10       57       33017            1        24  \n",
       "11       57        5249            1        24  \n",
       "12       57       39343            1        24  \n",
       "13       57       21714            1        24  \n",
       "14       57        2696            1        24  \n",
       "15       57       31963            1        24  \n",
       "16       57        5249            1        24  \n",
       "17       57        5969            1        24  \n",
       "18       57       21714            1        24  \n",
       "19       57       34276            1        24  "
      ]
     },
     "execution_count": 23,
     "metadata": {},
     "output_type": "execute_result"
    }
   ],
   "source": [
    "train_df.head(20)"
   ]
  },
  {
   "cell_type": "code",
   "execution_count": 24,
   "metadata": {},
   "outputs": [
    {
     "data": {
      "text/html": [
       "<div>\n",
       "<style scoped>\n",
       "    .dataframe tbody tr th:only-of-type {\n",
       "        vertical-align: middle;\n",
       "    }\n",
       "\n",
       "    .dataframe tbody tr th {\n",
       "        vertical-align: top;\n",
       "    }\n",
       "\n",
       "    .dataframe thead th {\n",
       "        text-align: right;\n",
       "    }\n",
       "</style>\n",
       "<table border=\"1\" class=\"dataframe\">\n",
       "  <thead>\n",
       "    <tr style=\"text-align: right;\">\n",
       "      <th></th>\n",
       "      <th>session_id</th>\n",
       "      <th>date</th>\n",
       "      <th>timestamp_local</th>\n",
       "      <th>add_to_cart</th>\n",
       "      <th>user_id</th>\n",
       "      <th>country</th>\n",
       "      <th>partnumber</th>\n",
       "      <th>device_type</th>\n",
       "      <th>pagetype</th>\n",
       "    </tr>\n",
       "  </thead>\n",
       "  <tbody>\n",
       "    <tr>\n",
       "      <th>count</th>\n",
       "      <td>4.655144e+07</td>\n",
       "      <td>46551445</td>\n",
       "      <td>46551445</td>\n",
       "      <td>4.655144e+07</td>\n",
       "      <td>4.655144e+07</td>\n",
       "      <td>4.655144e+07</td>\n",
       "      <td>4.655144e+07</td>\n",
       "      <td>4.655144e+07</td>\n",
       "      <td>4.655144e+07</td>\n",
       "    </tr>\n",
       "    <tr>\n",
       "      <th>mean</th>\n",
       "      <td>2.582898e+06</td>\n",
       "      <td>2024-06-07 06:13:09.509547776</td>\n",
       "      <td>2024-06-07 21:13:05.366069760</td>\n",
       "      <td>5.898384e-02</td>\n",
       "      <td>4.103133e+04</td>\n",
       "      <td>3.644275e+01</td>\n",
       "      <td>2.171479e+04</td>\n",
       "      <td>1.144113e+00</td>\n",
       "      <td>2.390082e+01</td>\n",
       "    </tr>\n",
       "    <tr>\n",
       "      <th>min</th>\n",
       "      <td>1.000000e+00</td>\n",
       "      <td>2024-06-01 00:00:00</td>\n",
       "      <td>2024-06-01 02:00:00.051000</td>\n",
       "      <td>0.000000e+00</td>\n",
       "      <td>-1.000000e+00</td>\n",
       "      <td>2.500000e+01</td>\n",
       "      <td>1.000000e+00</td>\n",
       "      <td>1.000000e+00</td>\n",
       "      <td>-1.000000e+00</td>\n",
       "    </tr>\n",
       "    <tr>\n",
       "      <th>25%</th>\n",
       "      <td>1.289981e+06</td>\n",
       "      <td>2024-06-04 00:00:00</td>\n",
       "      <td>2024-06-04 09:02:17.912000</td>\n",
       "      <td>0.000000e+00</td>\n",
       "      <td>-1.000000e+00</td>\n",
       "      <td>2.900000e+01</td>\n",
       "      <td>1.105200e+04</td>\n",
       "      <td>1.000000e+00</td>\n",
       "      <td>2.400000e+01</td>\n",
       "    </tr>\n",
       "    <tr>\n",
       "      <th>50%</th>\n",
       "      <td>2.580033e+06</td>\n",
       "      <td>2024-06-07 00:00:00</td>\n",
       "      <td>2024-06-07 18:59:48.132000</td>\n",
       "      <td>0.000000e+00</td>\n",
       "      <td>-1.000000e+00</td>\n",
       "      <td>2.900000e+01</td>\n",
       "      <td>2.164900e+04</td>\n",
       "      <td>1.000000e+00</td>\n",
       "      <td>2.400000e+01</td>\n",
       "    </tr>\n",
       "    <tr>\n",
       "      <th>75%</th>\n",
       "      <td>3.875410e+06</td>\n",
       "      <td>2024-06-11 00:00:00</td>\n",
       "      <td>2024-06-11 07:14:04.460999936</td>\n",
       "      <td>0.000000e+00</td>\n",
       "      <td>-1.000000e+00</td>\n",
       "      <td>5.700000e+01</td>\n",
       "      <td>3.242300e+04</td>\n",
       "      <td>1.000000e+00</td>\n",
       "      <td>2.400000e+01</td>\n",
       "    </tr>\n",
       "    <tr>\n",
       "      <th>max</th>\n",
       "      <td>5.171848e+06</td>\n",
       "      <td>2024-06-16 00:00:00</td>\n",
       "      <td>2024-06-16 22:11:17.725000</td>\n",
       "      <td>1.000000e+00</td>\n",
       "      <td>5.570060e+05</td>\n",
       "      <td>5.700000e+01</td>\n",
       "      <td>4.369200e+04</td>\n",
       "      <td>3.000000e+00</td>\n",
       "      <td>3.700000e+01</td>\n",
       "    </tr>\n",
       "    <tr>\n",
       "      <th>std</th>\n",
       "      <td>1.493335e+06</td>\n",
       "      <td>NaN</td>\n",
       "      <td>NaN</td>\n",
       "      <td>2.355945e-01</td>\n",
       "      <td>1.164802e+05</td>\n",
       "      <td>1.245243e+01</td>\n",
       "      <td>1.248680e+04</td>\n",
       "      <td>5.080278e-01</td>\n",
       "      <td>1.280213e+00</td>\n",
       "    </tr>\n",
       "  </tbody>\n",
       "</table>\n",
       "</div>"
      ],
      "text/plain": [
       "         session_id                           date  \\\n",
       "count  4.655144e+07                       46551445   \n",
       "mean   2.582898e+06  2024-06-07 06:13:09.509547776   \n",
       "min    1.000000e+00            2024-06-01 00:00:00   \n",
       "25%    1.289981e+06            2024-06-04 00:00:00   \n",
       "50%    2.580033e+06            2024-06-07 00:00:00   \n",
       "75%    3.875410e+06            2024-06-11 00:00:00   \n",
       "max    5.171848e+06            2024-06-16 00:00:00   \n",
       "std    1.493335e+06                            NaN   \n",
       "\n",
       "                     timestamp_local   add_to_cart       user_id  \\\n",
       "count                       46551445  4.655144e+07  4.655144e+07   \n",
       "mean   2024-06-07 21:13:05.366069760  5.898384e-02  4.103133e+04   \n",
       "min       2024-06-01 02:00:00.051000  0.000000e+00 -1.000000e+00   \n",
       "25%       2024-06-04 09:02:17.912000  0.000000e+00 -1.000000e+00   \n",
       "50%       2024-06-07 18:59:48.132000  0.000000e+00 -1.000000e+00   \n",
       "75%    2024-06-11 07:14:04.460999936  0.000000e+00 -1.000000e+00   \n",
       "max       2024-06-16 22:11:17.725000  1.000000e+00  5.570060e+05   \n",
       "std                              NaN  2.355945e-01  1.164802e+05   \n",
       "\n",
       "            country    partnumber   device_type      pagetype  \n",
       "count  4.655144e+07  4.655144e+07  4.655144e+07  4.655144e+07  \n",
       "mean   3.644275e+01  2.171479e+04  1.144113e+00  2.390082e+01  \n",
       "min    2.500000e+01  1.000000e+00  1.000000e+00 -1.000000e+00  \n",
       "25%    2.900000e+01  1.105200e+04  1.000000e+00  2.400000e+01  \n",
       "50%    2.900000e+01  2.164900e+04  1.000000e+00  2.400000e+01  \n",
       "75%    5.700000e+01  3.242300e+04  1.000000e+00  2.400000e+01  \n",
       "max    5.700000e+01  4.369200e+04  3.000000e+00  3.700000e+01  \n",
       "std    1.245243e+01  1.248680e+04  5.080278e-01  1.280213e+00  "
      ]
     },
     "execution_count": 24,
     "metadata": {},
     "output_type": "execute_result"
    }
   ],
   "source": [
    "train_df.describe()"
   ]
  },
  {
   "cell_type": "markdown",
   "metadata": {},
   "source": [
    "---"
   ]
  },
  {
   "cell_type": "markdown",
   "metadata": {},
   "source": [
    "## Verificaciones"
   ]
  },
  {
   "cell_type": "code",
   "execution_count": 25,
   "metadata": {},
   "outputs": [
    {
     "name": "stdout",
     "output_type": "stream",
     "text": [
      "Valores nulos por columna:\n",
      "session_id         0\n",
      "date               0\n",
      "timestamp_local    0\n",
      "add_to_cart        0\n",
      "user_id            0\n",
      "country            0\n",
      "partnumber         0\n",
      "device_type        0\n",
      "pagetype           0\n",
      "dtype: int64\n",
      "\n",
      "Uso de memoria del dataset optimizado:\n",
      "<class 'pandas.core.frame.DataFrame'>\n",
      "RangeIndex: 46551445 entries, 0 to 46551444\n",
      "Data columns (total 9 columns):\n",
      " #   Column           Dtype         \n",
      "---  ------           -----         \n",
      " 0   session_id       int32         \n",
      " 1   date             datetime64[ns]\n",
      " 2   timestamp_local  datetime64[ns]\n",
      " 3   add_to_cart      int8          \n",
      " 4   user_id          int32         \n",
      " 5   country          int8          \n",
      " 6   partnumber       int32         \n",
      " 7   device_type      int8          \n",
      " 8   pagetype         int8          \n",
      "dtypes: datetime64[ns](2), int32(3), int8(4)\n",
      "memory usage: 1.4 GB\n",
      "None\n"
     ]
    }
   ],
   "source": [
    "# Verificar valores nulos\n",
    "print(\"Valores nulos por columna:\")\n",
    "print(train_df.isnull().sum())\n",
    "\n",
    "# Verificar uso de memoria\n",
    "print(\"\\nUso de memoria del dataset optimizado:\")\n",
    "print(train_df.info(memory_usage='deep'))\n"
   ]
  },
  {
   "cell_type": "code",
   "execution_count": 26,
   "metadata": {},
   "outputs": [
    {
     "name": "stdout",
     "output_type": "stream",
     "text": [
      "Usuarios no logueados (user_id == -1): 39694715\n",
      "85.27063982654029\n",
      "Valores faltantes en country (country == -1): 0\n",
      "Valores faltantes en pagetype (pagetype == -1): 1197\n",
      "0.002571348751902331\n"
     ]
    }
   ],
   "source": [
    "print(\"Usuarios no logueados (user_id == -1):\", (train_df['user_id'] == -1).sum())\n",
    "print(39694715 / len(train_df) * 100)  # ~85.3%\n",
    "print(\"Valores faltantes en country (country == -1):\", (train_df['country'] == -1).sum())\n",
    "print(\"Valores faltantes en pagetype (pagetype == -1):\", (train_df['pagetype'] == -1).sum())\n",
    "print(1197 / len(train_df) * 100)  # ~0.0025%\n"
   ]
  },
  {
   "cell_type": "markdown",
   "metadata": {},
   "source": [
    "---"
   ]
  },
  {
   "cell_type": "markdown",
   "metadata": {},
   "source": [
    "# Tipo de datos iniciales alineados entre TRAIN Y TEST"
   ]
  },
  {
   "cell_type": "code",
   "execution_count": 27,
   "metadata": {},
   "outputs": [
    {
     "name": "stdout",
     "output_type": "stream",
     "text": [
      "Datasets guardados correctamente.\n"
     ]
    }
   ],
   "source": [
    "# Guardar dataset en formato Parquet (más eficiente)\n",
    "train_df.to_parquet('/home/pablost/Hackathon_inditex_data_science/hackathon-inditex-data-recommender/data/processed_v2/train_optimized.parquet', index=False)\n",
    "\n",
    "print(\"Datasets guardados correctamente.\")"
   ]
  },
  {
   "cell_type": "markdown",
   "metadata": {},
   "source": []
  }
 ],
 "metadata": {
  "kernelspec": {
   "display_name": ".env",
   "language": "python",
   "name": "python3"
  },
  "language_info": {
   "codemirror_mode": {
    "name": "ipython",
    "version": 3
   },
   "file_extension": ".py",
   "mimetype": "text/x-python",
   "name": "python",
   "nbconvert_exporter": "python",
   "pygments_lexer": "ipython3",
   "version": "3.10.12"
  }
 },
 "nbformat": 4,
 "nbformat_minor": 2
}
