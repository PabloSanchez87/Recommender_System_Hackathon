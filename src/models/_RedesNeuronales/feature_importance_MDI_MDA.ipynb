{
 "cells": [
  {
   "cell_type": "markdown",
   "metadata": {},
   "source": [
    "# MDI - MDA - Feature importance"
   ]
  },
  {
   "cell_type": "code",
   "execution_count": 1,
   "metadata": {},
   "outputs": [],
   "source": [
    "import pandas as pd\n",
    "import json\n",
    "\n",
    "test_data_path = '/home/pablost/Hackathon_inditex_data_science/hackathon-inditex-data-recommender/data/processed_v2/test_optimized.parquet'\n",
    "train_data_path = '/home/pablost/Hackathon_inditex_data_science/hackathon-inditex-data-recommender/data/processed_v2/train_optimized.parquet'\n",
    "\n",
    "# Cargar los datasets\n",
    "test_df = pd.read_parquet(test_data_path)\n",
    "train_df = pd.read_parquet(train_data_path)"
   ]
  },
  {
   "cell_type": "markdown",
   "metadata": {},
   "source": [
    "## Tratamiento de outliers"
   ]
  },
  {
   "cell_type": "code",
   "execution_count": 6,
   "metadata": {},
   "outputs": [
    {
     "name": "stdout",
     "output_type": "stream",
     "text": [
      "Distribución de pagetype después de recorte:\n",
      "pagetype\n",
      " 24    38213622\n",
      " 8       123994\n",
      " 6       104779\n",
      " 19       17934\n",
      " 16       14732\n",
      " 7         7759\n",
      " 1         3411\n",
      " 17        2018\n",
      "-1         1077\n",
      " 25         393\n",
      " 20         280\n",
      " 23         268\n",
      " 10         225\n",
      " 3          179\n",
      " 5          151\n",
      " 21         133\n",
      " 12          61\n",
      " 13          51\n",
      " 26          42\n",
      " 14          33\n",
      " 9           28\n",
      " 11          27\n",
      " 22          12\n",
      " 15          10\n",
      " 2            5\n",
      " 4            1\n",
      " 18           1\n",
      "Name: count, dtype: int64\n",
      "pagetype\n",
      "24    27683\n",
      "8       838\n",
      "6       535\n",
      "16       73\n",
      "7        67\n",
      "19       65\n",
      "17        6\n",
      "1         5\n",
      "25        2\n",
      "26        1\n",
      "Name: count, dtype: int64\n"
     ]
    },
    {
     "name": "stderr",
     "output_type": "stream",
     "text": [
      "/tmp/ipykernel_1429/3696740648.py:18: SettingWithCopyWarning: \n",
      "A value is trying to be set on a copy of a slice from a DataFrame.\n",
      "Try using .loc[row_indexer,col_indexer] = value instead\n",
      "\n",
      "See the caveats in the documentation: https://pandas.pydata.org/pandas-docs/stable/user_guide/indexing.html#returning-a-view-versus-a-copy\n",
      "  train_df['pagetype'] = np.where(train_df['pagetype'] > pagetype_threshold, -1, train_df['pagetype'])\n"
     ]
    }
   ],
   "source": [
    "import numpy as np\n",
    "\n",
    "# 1. Identificar y tratar sesiones extremadamente largas\n",
    "session_lengths_train = train_df.groupby('session_id').size()\n",
    "session_lengths_test = test_df.groupby('session_id').size()\n",
    "\n",
    "# Calcular percentiles para identificar umbrales\n",
    "train_threshold = np.percentile(session_lengths_train, 99)\n",
    "test_threshold = np.percentile(session_lengths_test, 99)\n",
    "\n",
    "# Recortar sesiones largas (99 percentil)\n",
    "train_df = train_df[train_df['session_id'].map(session_lengths_train) <= train_threshold]\n",
    "test_df = test_df[test_df['session_id'].map(session_lengths_test) <= test_threshold]\n",
    "\n",
    "# 2. Tratar valores extremos en pagetype\n",
    "# Reemplazar valores extremos en pagetype por una categoría \"Otros\"\n",
    "pagetype_threshold = 26  # Limitar a valores <= 26\n",
    "train_df['pagetype'] = np.where(train_df['pagetype'] > pagetype_threshold, -1, train_df['pagetype'])\n",
    "test_df['pagetype'] = np.where(test_df['pagetype'] > pagetype_threshold, -1, test_df['pagetype'])\n",
    "\n",
    "# Verificar cambios\n",
    "print(\"Distribución de pagetype después de recorte:\")\n",
    "print(train_df['pagetype'].value_counts())\n",
    "print(test_df['pagetype'].value_counts())\n"
   ]
  },
  {
   "cell_type": "markdown",
   "metadata": {},
   "source": [
    "## Realizar análisis inicial de importancia de características - MDI - MDA"
   ]
  },
  {
   "cell_type": "code",
   "execution_count": 3,
   "metadata": {},
   "outputs": [
    {
     "name": "stdout",
     "output_type": "stream",
     "text": [
      "4.5.0.99\n"
     ]
    }
   ],
   "source": [
    "import lightgbm as lgb\n",
    "print(lgb.__version__)"
   ]
  },
  {
   "cell_type": "markdown",
   "metadata": {},
   "source": [
    "### Modelo base para calcular MDI - MDA - Feature importance"
   ]
  },
  {
   "cell_type": "code",
   "execution_count": 4,
   "metadata": {},
   "outputs": [
    {
     "name": "stdout",
     "output_type": "stream",
     "text": [
      "[LightGBM] [Info] Number of positive: 1992816, number of negative: 28800164\n",
      "[LightGBM] [Info] This is the GPU trainer!!\n",
      "[LightGBM] [Info] Total Bins 1058\n",
      "[LightGBM] [Info] Number of data points in the train set: 30792980, number of used features: 8\n",
      "[LightGBM] [Info] Using requested OpenCL platform 0 device 0\n",
      "[LightGBM] [Info] Using GPU Device: pthread-13th Gen Intel(R) Core(TM) i5-13600KF, Vendor: GenuineIntel\n",
      "[LightGBM] [Info] Compiling OpenCL Kernel with 256 bins...\n",
      "[LightGBM] [Info] GPU programs have been built\n",
      "[LightGBM] [Info] Size of histogram bin entry: 8\n",
      "[LightGBM] [Info] 5 dense feature groups (234.93 MB) transferred to GPU in 0.116246 secs. 1 sparse feature groups\n",
      "[LightGBM] [Info] [binary:BoostFromScore]: pavg=0.064717 -> initscore=-2.670832\n",
      "[LightGBM] [Info] Start training from score -2.670832\n",
      "Accuracy del modelo LightGBM: 0.94\n",
      "\n",
      "Classification Report:\n",
      "               precision    recall  f1-score   support\n",
      "\n",
      "           0       0.94      1.00      0.97   7200763\n",
      "           1       1.00      0.11      0.20    497483\n",
      "\n",
      "    accuracy                           0.94   7698246\n",
      "   macro avg       0.97      0.56      0.59   7698246\n",
      "weighted avg       0.95      0.94      0.92   7698246\n",
      "\n",
      "\n",
      "Importancia de características (MDI):\n",
      "MDI Importancia de user_id: 111.0000\n",
      "MDI Importancia de country: 315.0000\n",
      "MDI Importancia de partnumber: 796.0000\n",
      "MDI Importancia de device_type: 152.0000\n",
      "MDI Importancia de pagetype: 274.0000\n",
      "MDI Importancia de session_id: 174.0000\n",
      "MDI Importancia de date_unix: 42.0000\n",
      "MDI Importancia de timestamp_unix: 1136.0000\n",
      "\n",
      "Calculando MDA...\n",
      "\n",
      "Importancia de características (MDA):\n",
      "MDA Importancia de user_id: 0.0000\n",
      "MDA Importancia de country: 0.0000\n",
      "MDA Importancia de partnumber: 0.0000\n",
      "MDA Importancia de device_type: 0.0000\n",
      "MDA Importancia de pagetype: 0.0135\n",
      "MDA Importancia de session_id: 0.0000\n",
      "MDA Importancia de date_unix: 0.0000\n",
      "MDA Importancia de timestamp_unix: 0.0000\n"
     ]
    }
   ],
   "source": [
    "import lightgbm as lgb\n",
    "from sklearn.model_selection import train_test_split\n",
    "from sklearn.metrics import accuracy_score, classification_report\n",
    "import numpy as np\n",
    "\n",
    "# Preparar los datos para el modelo\n",
    "features = ['user_id', 'country', 'partnumber', 'device_type', 'pagetype', 'session_id']\n",
    "\n",
    "# Convertir fechas a características numéricas\n",
    "train_df['date_unix'] = train_df['date'].astype('int64') // 10**9\n",
    "train_df['timestamp_unix'] = train_df['timestamp_local'].astype('int64') // 10**9\n",
    "test_df['date_unix'] = test_df['date'].astype('int64') // 10**9\n",
    "test_df['timestamp_unix'] = test_df['timestamp_local'].astype('int64') // 10**9\n",
    "\n",
    "# Agregar las nuevas columnas al conjunto de características\n",
    "features += ['date_unix', 'timestamp_unix']\n",
    "\n",
    "X = train_df[features]\n",
    "y = train_df['add_to_cart']\n",
    "\n",
    "# División del dataset (train-test split)\n",
    "X_train, X_val, y_train, y_val = train_test_split(X, y, test_size=0.2, random_state=42)\n",
    "\n",
    "# Configuración de LightGBM para GPU\n",
    "lgb_params = {\n",
    "    'objective': 'binary',\n",
    "    'boosting_type': 'gbdt',\n",
    "    'metric': 'binary_logloss',\n",
    "    'device': 'gpu',\n",
    "    'gpu_platform_id': 0,\n",
    "    'gpu_device_id': 0,\n",
    "    'n_estimators': 100,\n",
    "    'random_state': 42\n",
    "}\n",
    "\n",
    "# Entrenar el modelo de LightGBM\n",
    "lgb_model = lgb.LGBMClassifier(**lgb_params)\n",
    "lgb_model.fit(X_train, y_train)\n",
    "\n",
    "# Evaluar el modelo\n",
    "y_pred = lgb_model.predict(X_val)\n",
    "accuracy = accuracy_score(y_val, y_pred)\n",
    "print(f\"Accuracy del modelo LightGBM: {accuracy:.2f}\")\n",
    "print(\"\\nClassification Report:\\n\", classification_report(y_val, y_pred))\n",
    "\n",
    "# Importancia de características (MDI)\n",
    "mdi_importances = lgb_model.feature_importances_\n",
    "print(\"\\nImportancia de características (MDI):\")\n",
    "for feature, importance in zip(features, mdi_importances):\n",
    "    print(f\"MDI Importancia de {feature}: {importance:.4f}\")\n",
    "\n",
    "# Cálculo de MDA (Permutación)\n",
    "from sklearn.inspection import permutation_importance\n",
    "\n",
    "# Cálculo de importancia por permutación (MDA)\n",
    "print(\"\\nCalculando MDA...\")\n",
    "perm_importances = permutation_importance(\n",
    "    lgb_model, X_val, y_val, scoring='accuracy', n_repeats=5, random_state=42\n",
    ")\n",
    "\n",
    "# Mostrar los resultados de MDA\n",
    "print(\"\\nImportancia de características (MDA):\")\n",
    "for feature, importance in zip(features, perm_importances.importances_mean):\n",
    "    print(f\"MDA Importancia de {feature}: {importance:.4f}\")\n"
   ]
  }
 ],
 "metadata": {
  "kernelspec": {
   "display_name": ".env",
   "language": "python",
   "name": "python3"
  },
  "language_info": {
   "codemirror_mode": {
    "name": "ipython",
    "version": 3
   },
   "file_extension": ".py",
   "mimetype": "text/x-python",
   "name": "python",
   "nbconvert_exporter": "python",
   "pygments_lexer": "ipython3",
   "version": "3.10.12"
  }
 },
 "nbformat": 4,
 "nbformat_minor": 2
}
