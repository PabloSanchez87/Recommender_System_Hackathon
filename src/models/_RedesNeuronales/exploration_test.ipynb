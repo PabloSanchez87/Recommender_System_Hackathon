{
 "cells": [
  {
   "cell_type": "code",
   "execution_count": 2,
   "metadata": {},
   "outputs": [],
   "source": [
    "import pandas as pd\n",
    "import json\n",
    "\n",
    "test_data_path = '/home/pablost/Hackathon_inditex_data_science/hackathon-inditex-data-recommender/data/raw/test.csv'\n",
    "train_data_path = '/home/pablost/Hackathon_inditex_data_science/hackathon-inditex-data-recommender/data/raw/train.csv'\n",
    "products_data_path = '/home/pablost/Hackathon_inditex_data_science/hackathon-inditex-data-recommender/data/raw/products.pkl'\n",
    "user_details_path = '/home/pablost/Hackathon_inditex_data_science/hackathon-inditex-data-recommender/data/raw/format_user_details.json'"
   ]
  },
  {
   "cell_type": "markdown",
   "metadata": {},
   "source": [
    "# Test"
   ]
  },
  {
   "cell_type": "code",
   "execution_count": 3,
   "metadata": {},
   "outputs": [
    {
     "name": "stdout",
     "output_type": "stream",
     "text": [
      "Información general del dataset:\n",
      "<class 'pandas.core.frame.DataFrame'>\n",
      "RangeIndex: 29275 entries, 0 to 29274\n",
      "Data columns (total 8 columns):\n",
      " #   Column           Non-Null Count  Dtype  \n",
      "---  ------           --------------  -----  \n",
      " 0   session_id       29275 non-null  int64  \n",
      " 1   date             29275 non-null  object \n",
      " 2   timestamp_local  29275 non-null  object \n",
      " 3   user_id          5766 non-null   float64\n",
      " 4   country          29275 non-null  int64  \n",
      " 5   partnumber       29275 non-null  int64  \n",
      " 6   device_type      29275 non-null  int64  \n",
      " 7   pagetype         29275 non-null  float64\n",
      "dtypes: float64(2), int64(4), object(2)\n",
      "memory usage: 1.8+ MB\n",
      "None\n",
      "\n",
      "Primeras filas del dataset:\n",
      "   session_id        date          timestamp_local  user_id  country  \\\n",
      "0         746  2024-06-15  2024-06-15 18:36:47.390      NaN       57   \n",
      "1         746  2024-06-15  2024-06-15 18:37:04.052      NaN       57   \n",
      "2         746  2024-06-15  2024-06-15 18:37:48.159      NaN       57   \n",
      "3         746  2024-06-15  2024-06-15 18:38:19.899      NaN       57   \n",
      "4         746  2024-06-15  2024-06-15 18:38:46.492      NaN       57   \n",
      "\n",
      "   partnumber  device_type  pagetype  \n",
      "0        1254            1      24.0  \n",
      "1       32544            1      24.0  \n",
      "2       12639            1      24.0  \n",
      "3       18048            1      24.0  \n",
      "4       13295            1      24.0  \n",
      "\n",
      "Estadísticas descriptivas:\n",
      "          session_id        date          timestamp_local        user_id  \\\n",
      "count   2.927500e+04       29275                    29275    5766.000000   \n",
      "unique           NaN           2                    29271            NaN   \n",
      "top              NaN  2024-06-16  2024-06-16 15:38:21.543            NaN   \n",
      "freq             NaN       14825                        2            NaN   \n",
      "mean    2.602346e+06         NaN                      NaN  266152.648630   \n",
      "std     1.496322e+06         NaN                      NaN  157743.375504   \n",
      "min     7.460000e+02         NaN                      NaN     206.000000   \n",
      "25%     1.318920e+06         NaN                      NaN  132338.250000   \n",
      "50%     2.619119e+06         NaN                      NaN  259465.000000   \n",
      "75%     3.904801e+06         NaN                      NaN  394631.000000   \n",
      "max     5.168933e+06         NaN                      NaN  555819.000000   \n",
      "\n",
      "             country    partnumber   device_type      pagetype  \n",
      "count   29275.000000  29275.000000  29275.000000  29275.000000  \n",
      "unique           NaN           NaN           NaN           NaN  \n",
      "top              NaN           NaN           NaN           NaN  \n",
      "freq             NaN           NaN           NaN           NaN  \n",
      "mean       34.260495  22085.171238      1.213185     23.137865  \n",
      "std        10.539929  12502.857230      0.603799      3.671977  \n",
      "min        25.000000      3.000000      1.000000      1.000000  \n",
      "25%        25.000000  11544.500000      1.000000     24.000000  \n",
      "50%        34.000000  21777.000000      1.000000     24.000000  \n",
      "75%        34.000000  32864.000000      1.000000     24.000000  \n",
      "max        57.000000  43679.000000      3.000000     26.000000  \n"
     ]
    }
   ],
   "source": [
    "test_df = pd.read_csv(test_data_path)\n",
    "    \n",
    "# Información general del dataset\n",
    "print(\"Información general del dataset:\")\n",
    "print(test_df.info())\n",
    "\n",
    "# Primeras filas del dataset\n",
    "print(\"\\nPrimeras filas del dataset:\")\n",
    "print(test_df.head())\n",
    "\n",
    "# Estadísticas descriptivas\n",
    "print(\"\\nEstadísticas descriptivas:\")\n",
    "print(test_df.describe(include='all'))"
   ]
  },
  {
   "cell_type": "code",
   "execution_count": 4,
   "metadata": {},
   "outputs": [
    {
     "data": {
      "text/html": [
       "<div>\n",
       "<style scoped>\n",
       "    .dataframe tbody tr th:only-of-type {\n",
       "        vertical-align: middle;\n",
       "    }\n",
       "\n",
       "    .dataframe tbody tr th {\n",
       "        vertical-align: top;\n",
       "    }\n",
       "\n",
       "    .dataframe thead th {\n",
       "        text-align: right;\n",
       "    }\n",
       "</style>\n",
       "<table border=\"1\" class=\"dataframe\">\n",
       "  <thead>\n",
       "    <tr style=\"text-align: right;\">\n",
       "      <th></th>\n",
       "      <th>session_id</th>\n",
       "      <th>date</th>\n",
       "      <th>timestamp_local</th>\n",
       "      <th>user_id</th>\n",
       "      <th>country</th>\n",
       "      <th>partnumber</th>\n",
       "      <th>device_type</th>\n",
       "      <th>pagetype</th>\n",
       "    </tr>\n",
       "  </thead>\n",
       "  <tbody>\n",
       "    <tr>\n",
       "      <th>0</th>\n",
       "      <td>746</td>\n",
       "      <td>2024-06-15</td>\n",
       "      <td>2024-06-15 18:36:47.390</td>\n",
       "      <td>NaN</td>\n",
       "      <td>57</td>\n",
       "      <td>1254</td>\n",
       "      <td>1</td>\n",
       "      <td>24.0</td>\n",
       "    </tr>\n",
       "    <tr>\n",
       "      <th>1</th>\n",
       "      <td>746</td>\n",
       "      <td>2024-06-15</td>\n",
       "      <td>2024-06-15 18:37:04.052</td>\n",
       "      <td>NaN</td>\n",
       "      <td>57</td>\n",
       "      <td>32544</td>\n",
       "      <td>1</td>\n",
       "      <td>24.0</td>\n",
       "    </tr>\n",
       "    <tr>\n",
       "      <th>2</th>\n",
       "      <td>746</td>\n",
       "      <td>2024-06-15</td>\n",
       "      <td>2024-06-15 18:37:48.159</td>\n",
       "      <td>NaN</td>\n",
       "      <td>57</td>\n",
       "      <td>12639</td>\n",
       "      <td>1</td>\n",
       "      <td>24.0</td>\n",
       "    </tr>\n",
       "    <tr>\n",
       "      <th>3</th>\n",
       "      <td>746</td>\n",
       "      <td>2024-06-15</td>\n",
       "      <td>2024-06-15 18:38:19.899</td>\n",
       "      <td>NaN</td>\n",
       "      <td>57</td>\n",
       "      <td>18048</td>\n",
       "      <td>1</td>\n",
       "      <td>24.0</td>\n",
       "    </tr>\n",
       "    <tr>\n",
       "      <th>4</th>\n",
       "      <td>746</td>\n",
       "      <td>2024-06-15</td>\n",
       "      <td>2024-06-15 18:38:46.492</td>\n",
       "      <td>NaN</td>\n",
       "      <td>57</td>\n",
       "      <td>13295</td>\n",
       "      <td>1</td>\n",
       "      <td>24.0</td>\n",
       "    </tr>\n",
       "  </tbody>\n",
       "</table>\n",
       "</div>"
      ],
      "text/plain": [
       "   session_id        date          timestamp_local  user_id  country  \\\n",
       "0         746  2024-06-15  2024-06-15 18:36:47.390      NaN       57   \n",
       "1         746  2024-06-15  2024-06-15 18:37:04.052      NaN       57   \n",
       "2         746  2024-06-15  2024-06-15 18:37:48.159      NaN       57   \n",
       "3         746  2024-06-15  2024-06-15 18:38:19.899      NaN       57   \n",
       "4         746  2024-06-15  2024-06-15 18:38:46.492      NaN       57   \n",
       "\n",
       "   partnumber  device_type  pagetype  \n",
       "0        1254            1      24.0  \n",
       "1       32544            1      24.0  \n",
       "2       12639            1      24.0  \n",
       "3       18048            1      24.0  \n",
       "4       13295            1      24.0  "
      ]
     },
     "execution_count": 4,
     "metadata": {},
     "output_type": "execute_result"
    }
   ],
   "source": [
    "test_df.head()"
   ]
  },
  {
   "cell_type": "markdown",
   "metadata": {},
   "source": [
    "## session_id"
   ]
  },
  {
   "cell_type": "code",
   "execution_count": 5,
   "metadata": {},
   "outputs": [
    {
     "name": "stdout",
     "output_type": "stream",
     "text": [
      "Análisis de session_id:\n",
      "count    2.927500e+04\n",
      "mean     2.602346e+06\n",
      "std      1.496322e+06\n",
      "min      7.460000e+02\n",
      "25%      1.318920e+06\n",
      "50%      2.619119e+06\n",
      "75%      3.904801e+06\n",
      "max      5.168933e+06\n",
      "Name: session_id, dtype: float64\n",
      "int64\n"
     ]
    }
   ],
   "source": [
    "# Revisar los valores en session_id\n",
    "print(\"Análisis de session_id:\")\n",
    "print(test_df['session_id'].describe())\n",
    "print(test_df['session_id'].dtype)"
   ]
  },
  {
   "cell_type": "code",
   "execution_count": 6,
   "metadata": {},
   "outputs": [
    {
     "name": "stdout",
     "output_type": "stream",
     "text": [
      "Nuevo tipo de session_id: int32\n"
     ]
    }
   ],
   "source": [
    "test_df['session_id'] = pd.to_numeric(test_df['session_id'], downcast='integer')\n",
    "print(\"Nuevo tipo de session_id:\", test_df['session_id'].dtype)"
   ]
  },
  {
   "cell_type": "markdown",
   "metadata": {},
   "source": [
    "## date"
   ]
  },
  {
   "cell_type": "code",
   "execution_count": 7,
   "metadata": {},
   "outputs": [
    {
     "name": "stdout",
     "output_type": "stream",
     "text": [
      "Análisis de date:\n",
      "0    2024-06-15\n",
      "1    2024-06-15\n",
      "2    2024-06-15\n",
      "3    2024-06-15\n",
      "4    2024-06-15\n",
      "Name: date, dtype: object\n",
      "object\n"
     ]
    }
   ],
   "source": [
    "# Revisar los valores en date\n",
    "print(\"Análisis de date:\")\n",
    "print(test_df['date'].head())\n",
    "print(test_df['date'].dtype)"
   ]
  },
  {
   "cell_type": "code",
   "execution_count": 8,
   "metadata": {},
   "outputs": [
    {
     "name": "stdout",
     "output_type": "stream",
     "text": [
      "Nuevo tipo de date: datetime64[ns]\n"
     ]
    }
   ],
   "source": [
    "# Convertir a datetime\n",
    "test_df['date'] = pd.to_datetime(test_df['date'])\n",
    "print(\"Nuevo tipo de date:\", test_df['date'].dtype)"
   ]
  },
  {
   "cell_type": "markdown",
   "metadata": {},
   "source": [
    "## timestamp_local"
   ]
  },
  {
   "cell_type": "code",
   "execution_count": 9,
   "metadata": {},
   "outputs": [
    {
     "name": "stdout",
     "output_type": "stream",
     "text": [
      "Análisis de timestamp_local:\n",
      "0    2024-06-15 18:36:47.390\n",
      "1    2024-06-15 18:37:04.052\n",
      "2    2024-06-15 18:37:48.159\n",
      "3    2024-06-15 18:38:19.899\n",
      "4    2024-06-15 18:38:46.492\n",
      "Name: timestamp_local, dtype: object\n",
      "object\n"
     ]
    }
   ],
   "source": [
    "# Revisar los valores en timestamp_local\n",
    "print(\"Análisis de timestamp_local:\")\n",
    "print(test_df['timestamp_local'].head())\n",
    "print(test_df['timestamp_local'].dtype)"
   ]
  },
  {
   "cell_type": "code",
   "execution_count": 10,
   "metadata": {},
   "outputs": [
    {
     "name": "stdout",
     "output_type": "stream",
     "text": [
      "Nuevo tipo de timestamp_local: datetime64[ns]\n"
     ]
    }
   ],
   "source": [
    "# Convertir a datetime\n",
    "test_df['timestamp_local'] = pd.to_datetime(test_df['timestamp_local'])\n",
    "print(\"Nuevo tipo de timestamp_local:\", test_df['timestamp_local'].dtype)"
   ]
  },
  {
   "cell_type": "markdown",
   "metadata": {},
   "source": [
    "## user_id"
   ]
  },
  {
   "cell_type": "code",
   "execution_count": 11,
   "metadata": {},
   "outputs": [
    {
     "name": "stdout",
     "output_type": "stream",
     "text": [
      "Análisis de user_id:\n",
      "count      5766.000000\n",
      "mean     266152.648630\n",
      "std      157743.375504\n",
      "min         206.000000\n",
      "25%      132338.250000\n",
      "50%      259465.000000\n",
      "75%      394631.000000\n",
      "max      555819.000000\n",
      "Name: user_id, dtype: float64\n",
      "23509\n",
      "float64\n"
     ]
    }
   ],
   "source": [
    "# Revisar los valores en user_id\n",
    "print(\"Análisis de user_id:\")\n",
    "print(test_df['user_id'].describe())\n",
    "print(test_df['user_id'].isnull().sum())\n",
    "print(test_df['user_id'].dtype)"
   ]
  },
  {
   "cell_type": "code",
   "execution_count": 12,
   "metadata": {},
   "outputs": [
    {
     "name": "stdout",
     "output_type": "stream",
     "text": [
      "int32\n",
      "user_id\n",
      "-1         23509\n",
      " 180676       20\n",
      " 270414       18\n",
      " 314026       17\n",
      " 177306       11\n",
      "           ...  \n",
      " 73785         1\n",
      " 497230        1\n",
      " 146826        1\n",
      " 529534        1\n",
      " 175416        1\n",
      "Name: count, Length: 1412, dtype: int64\n"
     ]
    }
   ],
   "source": [
    "# Manejar valores faltantes y optimizar el tipo\n",
    "test_df['user_id'] = test_df['user_id'].fillna(-1)\n",
    "\n",
    "# Convertir a entero (int32)\n",
    "test_df['user_id'] = test_df['user_id'].astype('int32')\n",
    "\n",
    "# Verificar los cambios\n",
    "print(test_df['user_id'].dtype)\n",
    "print(test_df['user_id'].value_counts())"
   ]
  },
  {
   "cell_type": "markdown",
   "metadata": {},
   "source": [
    "## country"
   ]
  },
  {
   "cell_type": "code",
   "execution_count": 13,
   "metadata": {},
   "outputs": [
    {
     "name": "stdout",
     "output_type": "stream",
     "text": [
      "Análisis de country:\n",
      "count    29275.000000\n",
      "mean        34.260495\n",
      "std         10.539929\n",
      "min         25.000000\n",
      "25%         25.000000\n",
      "50%         34.000000\n",
      "75%         34.000000\n",
      "max         57.000000\n",
      "Name: country, dtype: float64\n",
      "int64\n"
     ]
    }
   ],
   "source": [
    "# Revisar los valores en country\n",
    "print(\"Análisis de country:\")\n",
    "print(test_df['country'].describe())\n",
    "print(test_df['country'].dtype)"
   ]
  },
  {
   "cell_type": "code",
   "execution_count": 14,
   "metadata": {},
   "outputs": [
    {
     "name": "stdout",
     "output_type": "stream",
     "text": [
      "Nuevo tipo de country: int8\n"
     ]
    }
   ],
   "source": [
    "# Convertir a integer\n",
    "test_df['country'] = pd.to_numeric(test_df['country'], downcast='integer')\n",
    "print(\"Nuevo tipo de country:\", test_df['country'].dtype)"
   ]
  },
  {
   "cell_type": "markdown",
   "metadata": {},
   "source": [
    "## partnumber"
   ]
  },
  {
   "cell_type": "code",
   "execution_count": 15,
   "metadata": {},
   "outputs": [
    {
     "name": "stdout",
     "output_type": "stream",
     "text": [
      "Análisis de partnumber:\n",
      "count    29275.000000\n",
      "mean     22085.171238\n",
      "std      12502.857230\n",
      "min          3.000000\n",
      "25%      11544.500000\n",
      "50%      21777.000000\n",
      "75%      32864.000000\n",
      "max      43679.000000\n",
      "Name: partnumber, dtype: float64\n",
      "int64\n"
     ]
    }
   ],
   "source": [
    "# Revisar los valores en partnumber\n",
    "print(\"Análisis de partnumber:\")\n",
    "print(test_df['partnumber'].describe())\n",
    "print(test_df['partnumber'].dtype)"
   ]
  },
  {
   "cell_type": "code",
   "execution_count": 16,
   "metadata": {},
   "outputs": [
    {
     "name": "stdout",
     "output_type": "stream",
     "text": [
      "Nuevo tipo de partnumber: int32\n"
     ]
    }
   ],
   "source": [
    "# Convertir a int32\n",
    "test_df['partnumber'] = pd.to_numeric(test_df['partnumber'], downcast='integer')\n",
    "print(\"Nuevo tipo de partnumber:\", test_df['partnumber'].dtype)"
   ]
  },
  {
   "cell_type": "markdown",
   "metadata": {},
   "source": [
    "## device_type"
   ]
  },
  {
   "cell_type": "code",
   "execution_count": 17,
   "metadata": {},
   "outputs": [
    {
     "name": "stdout",
     "output_type": "stream",
     "text": [
      "Análisis de device_type:\n",
      "count    29275.000000\n",
      "mean         1.213185\n",
      "std          0.603799\n",
      "min          1.000000\n",
      "25%          1.000000\n",
      "50%          1.000000\n",
      "75%          1.000000\n",
      "max          3.000000\n",
      "Name: device_type, dtype: float64\n",
      "int64\n"
     ]
    }
   ],
   "source": [
    "# Revisar los valores en device_type\n",
    "print(\"Análisis de device_type:\")\n",
    "print(test_df['device_type'].describe())\n",
    "print(test_df['device_type'].dtype)"
   ]
  },
  {
   "cell_type": "code",
   "execution_count": 18,
   "metadata": {},
   "outputs": [
    {
     "name": "stdout",
     "output_type": "stream",
     "text": [
      "Nuevo tipo de device_type: int8\n"
     ]
    }
   ],
   "source": [
    "# Convertir a int8\n",
    "test_df['device_type'] = pd.to_numeric(test_df['device_type'], downcast='integer')\n",
    "print(\"Nuevo tipo de device_type:\", test_df['device_type'].dtype)"
   ]
  },
  {
   "cell_type": "markdown",
   "metadata": {},
   "source": [
    "## pagetype"
   ]
  },
  {
   "cell_type": "code",
   "execution_count": 19,
   "metadata": {},
   "outputs": [
    {
     "name": "stdout",
     "output_type": "stream",
     "text": [
      "Análisis de pagetype:\n",
      "count    29275.000000\n",
      "mean        23.137865\n",
      "std          3.671977\n",
      "min          1.000000\n",
      "25%         24.000000\n",
      "50%         24.000000\n",
      "75%         24.000000\n",
      "max         26.000000\n",
      "Name: pagetype, dtype: float64\n",
      "0\n",
      "float64\n"
     ]
    }
   ],
   "source": [
    "# Revisar los valores en pagetype\n",
    "print(\"Análisis de pagetype:\")\n",
    "print(test_df['pagetype'].describe())\n",
    "print(test_df['pagetype'].isnull().sum())\n",
    "print(test_df['pagetype'].dtype)\n"
   ]
  },
  {
   "cell_type": "code",
   "execution_count": 20,
   "metadata": {},
   "outputs": [
    {
     "name": "stdout",
     "output_type": "stream",
     "text": [
      "Nuevo tipo de pagetype: int8\n"
     ]
    }
   ],
   "source": [
    "# Manejar valores faltantes y optimizar el tipo\n",
    "test_df['pagetype'] = test_df['pagetype'].fillna(-1).astype('int8')\n",
    "print(\"Nuevo tipo de pagetype:\", test_df['pagetype'].dtype)"
   ]
  },
  {
   "cell_type": "markdown",
   "metadata": {},
   "source": [
    "## Resumen\n"
   ]
  },
  {
   "cell_type": "code",
   "execution_count": 21,
   "metadata": {},
   "outputs": [
    {
     "data": {
      "text/plain": [
       "<bound method DataFrame.info of        session_id       date         timestamp_local  user_id  country  \\\n",
       "0             746 2024-06-15 2024-06-15 18:36:47.390       -1       57   \n",
       "1             746 2024-06-15 2024-06-15 18:37:04.052       -1       57   \n",
       "2             746 2024-06-15 2024-06-15 18:37:48.159       -1       57   \n",
       "3             746 2024-06-15 2024-06-15 18:38:19.899       -1       57   \n",
       "4             746 2024-06-15 2024-06-15 18:38:46.492       -1       57   \n",
       "...           ...        ...                     ...      ...      ...   \n",
       "29270     5167195 2024-06-16 2024-06-16 13:13:10.152       -1       34   \n",
       "29271     5167272 2024-06-16 2024-06-16 18:58:15.562       -1       34   \n",
       "29272     5168338 2024-06-15 2024-06-15 21:36:15.931       -1       34   \n",
       "29273     5168492 2024-06-16 2024-06-16 04:06:03.528       -1       34   \n",
       "29274     5168933 2024-06-16 2024-06-16 04:53:26.427       -1       57   \n",
       "\n",
       "       partnumber  device_type  pagetype  \n",
       "0            1254            1        24  \n",
       "1           32544            1        24  \n",
       "2           12639            1        24  \n",
       "3           18048            1        24  \n",
       "4           13295            1        24  \n",
       "...           ...          ...       ...  \n",
       "29270       30113            1        24  \n",
       "29271       28922            1         8  \n",
       "29272       13467            1        24  \n",
       "29273       13732            1        24  \n",
       "29274        8969            1        24  \n",
       "\n",
       "[29275 rows x 8 columns]>"
      ]
     },
     "execution_count": 21,
     "metadata": {},
     "output_type": "execute_result"
    }
   ],
   "source": [
    "test_df.info"
   ]
  },
  {
   "cell_type": "code",
   "execution_count": 22,
   "metadata": {},
   "outputs": [
    {
     "data": {
      "text/html": [
       "<div>\n",
       "<style scoped>\n",
       "    .dataframe tbody tr th:only-of-type {\n",
       "        vertical-align: middle;\n",
       "    }\n",
       "\n",
       "    .dataframe tbody tr th {\n",
       "        vertical-align: top;\n",
       "    }\n",
       "\n",
       "    .dataframe thead th {\n",
       "        text-align: right;\n",
       "    }\n",
       "</style>\n",
       "<table border=\"1\" class=\"dataframe\">\n",
       "  <thead>\n",
       "    <tr style=\"text-align: right;\">\n",
       "      <th></th>\n",
       "      <th>session_id</th>\n",
       "      <th>date</th>\n",
       "      <th>timestamp_local</th>\n",
       "      <th>user_id</th>\n",
       "      <th>country</th>\n",
       "      <th>partnumber</th>\n",
       "      <th>device_type</th>\n",
       "      <th>pagetype</th>\n",
       "    </tr>\n",
       "  </thead>\n",
       "  <tbody>\n",
       "    <tr>\n",
       "      <th>0</th>\n",
       "      <td>746</td>\n",
       "      <td>2024-06-15</td>\n",
       "      <td>2024-06-15 18:36:47.390</td>\n",
       "      <td>-1</td>\n",
       "      <td>57</td>\n",
       "      <td>1254</td>\n",
       "      <td>1</td>\n",
       "      <td>24</td>\n",
       "    </tr>\n",
       "    <tr>\n",
       "      <th>1</th>\n",
       "      <td>746</td>\n",
       "      <td>2024-06-15</td>\n",
       "      <td>2024-06-15 18:37:04.052</td>\n",
       "      <td>-1</td>\n",
       "      <td>57</td>\n",
       "      <td>32544</td>\n",
       "      <td>1</td>\n",
       "      <td>24</td>\n",
       "    </tr>\n",
       "    <tr>\n",
       "      <th>2</th>\n",
       "      <td>746</td>\n",
       "      <td>2024-06-15</td>\n",
       "      <td>2024-06-15 18:37:48.159</td>\n",
       "      <td>-1</td>\n",
       "      <td>57</td>\n",
       "      <td>12639</td>\n",
       "      <td>1</td>\n",
       "      <td>24</td>\n",
       "    </tr>\n",
       "    <tr>\n",
       "      <th>3</th>\n",
       "      <td>746</td>\n",
       "      <td>2024-06-15</td>\n",
       "      <td>2024-06-15 18:38:19.899</td>\n",
       "      <td>-1</td>\n",
       "      <td>57</td>\n",
       "      <td>18048</td>\n",
       "      <td>1</td>\n",
       "      <td>24</td>\n",
       "    </tr>\n",
       "    <tr>\n",
       "      <th>4</th>\n",
       "      <td>746</td>\n",
       "      <td>2024-06-15</td>\n",
       "      <td>2024-06-15 18:38:46.492</td>\n",
       "      <td>-1</td>\n",
       "      <td>57</td>\n",
       "      <td>13295</td>\n",
       "      <td>1</td>\n",
       "      <td>24</td>\n",
       "    </tr>\n",
       "    <tr>\n",
       "      <th>5</th>\n",
       "      <td>746</td>\n",
       "      <td>2024-06-15</td>\n",
       "      <td>2024-06-15 18:38:56.264</td>\n",
       "      <td>-1</td>\n",
       "      <td>57</td>\n",
       "      <td>9377</td>\n",
       "      <td>1</td>\n",
       "      <td>24</td>\n",
       "    </tr>\n",
       "    <tr>\n",
       "      <th>6</th>\n",
       "      <td>746</td>\n",
       "      <td>2024-06-15</td>\n",
       "      <td>2024-06-15 18:39:15.605</td>\n",
       "      <td>-1</td>\n",
       "      <td>57</td>\n",
       "      <td>9467</td>\n",
       "      <td>1</td>\n",
       "      <td>24</td>\n",
       "    </tr>\n",
       "    <tr>\n",
       "      <th>7</th>\n",
       "      <td>1306</td>\n",
       "      <td>2024-06-15</td>\n",
       "      <td>2024-06-15 13:15:55.471</td>\n",
       "      <td>-1</td>\n",
       "      <td>34</td>\n",
       "      <td>27437</td>\n",
       "      <td>1</td>\n",
       "      <td>24</td>\n",
       "    </tr>\n",
       "    <tr>\n",
       "      <th>8</th>\n",
       "      <td>1364</td>\n",
       "      <td>2024-06-15</td>\n",
       "      <td>2024-06-15 00:02:16.930</td>\n",
       "      <td>-1</td>\n",
       "      <td>34</td>\n",
       "      <td>19693</td>\n",
       "      <td>1</td>\n",
       "      <td>24</td>\n",
       "    </tr>\n",
       "    <tr>\n",
       "      <th>9</th>\n",
       "      <td>1377</td>\n",
       "      <td>2024-06-15</td>\n",
       "      <td>2024-06-15 19:08:13.376</td>\n",
       "      <td>259465</td>\n",
       "      <td>25</td>\n",
       "      <td>42854</td>\n",
       "      <td>1</td>\n",
       "      <td>24</td>\n",
       "    </tr>\n",
       "    <tr>\n",
       "      <th>10</th>\n",
       "      <td>1377</td>\n",
       "      <td>2024-06-15</td>\n",
       "      <td>2024-06-15 19:08:17.288</td>\n",
       "      <td>259465</td>\n",
       "      <td>25</td>\n",
       "      <td>10205</td>\n",
       "      <td>1</td>\n",
       "      <td>24</td>\n",
       "    </tr>\n",
       "    <tr>\n",
       "      <th>11</th>\n",
       "      <td>1377</td>\n",
       "      <td>2024-06-15</td>\n",
       "      <td>2024-06-15 19:08:18.078</td>\n",
       "      <td>259465</td>\n",
       "      <td>25</td>\n",
       "      <td>42854</td>\n",
       "      <td>1</td>\n",
       "      <td>24</td>\n",
       "    </tr>\n",
       "    <tr>\n",
       "      <th>12</th>\n",
       "      <td>1377</td>\n",
       "      <td>2024-06-15</td>\n",
       "      <td>2024-06-15 19:09:46.989</td>\n",
       "      <td>259465</td>\n",
       "      <td>25</td>\n",
       "      <td>3610</td>\n",
       "      <td>1</td>\n",
       "      <td>24</td>\n",
       "    </tr>\n",
       "    <tr>\n",
       "      <th>13</th>\n",
       "      <td>1377</td>\n",
       "      <td>2024-06-15</td>\n",
       "      <td>2024-06-15 19:09:48.136</td>\n",
       "      <td>259465</td>\n",
       "      <td>25</td>\n",
       "      <td>6409</td>\n",
       "      <td>1</td>\n",
       "      <td>24</td>\n",
       "    </tr>\n",
       "    <tr>\n",
       "      <th>14</th>\n",
       "      <td>2251</td>\n",
       "      <td>2024-06-15</td>\n",
       "      <td>2024-06-15 13:17:36.968</td>\n",
       "      <td>486272</td>\n",
       "      <td>25</td>\n",
       "      <td>11024</td>\n",
       "      <td>1</td>\n",
       "      <td>24</td>\n",
       "    </tr>\n",
       "    <tr>\n",
       "      <th>15</th>\n",
       "      <td>2344</td>\n",
       "      <td>2024-06-15</td>\n",
       "      <td>2024-06-15 18:43:34.272</td>\n",
       "      <td>-1</td>\n",
       "      <td>34</td>\n",
       "      <td>20175</td>\n",
       "      <td>3</td>\n",
       "      <td>1</td>\n",
       "    </tr>\n",
       "    <tr>\n",
       "      <th>16</th>\n",
       "      <td>3125</td>\n",
       "      <td>2024-06-15</td>\n",
       "      <td>2024-06-15 02:47:01.996</td>\n",
       "      <td>-1</td>\n",
       "      <td>34</td>\n",
       "      <td>11695</td>\n",
       "      <td>1</td>\n",
       "      <td>24</td>\n",
       "    </tr>\n",
       "    <tr>\n",
       "      <th>17</th>\n",
       "      <td>3125</td>\n",
       "      <td>2024-06-15</td>\n",
       "      <td>2024-06-15 02:47:31.914</td>\n",
       "      <td>-1</td>\n",
       "      <td>34</td>\n",
       "      <td>4774</td>\n",
       "      <td>1</td>\n",
       "      <td>24</td>\n",
       "    </tr>\n",
       "    <tr>\n",
       "      <th>18</th>\n",
       "      <td>3125</td>\n",
       "      <td>2024-06-15</td>\n",
       "      <td>2024-06-15 02:47:36.195</td>\n",
       "      <td>-1</td>\n",
       "      <td>34</td>\n",
       "      <td>19733</td>\n",
       "      <td>1</td>\n",
       "      <td>24</td>\n",
       "    </tr>\n",
       "    <tr>\n",
       "      <th>19</th>\n",
       "      <td>3125</td>\n",
       "      <td>2024-06-15</td>\n",
       "      <td>2024-06-15 02:47:49.662</td>\n",
       "      <td>-1</td>\n",
       "      <td>34</td>\n",
       "      <td>4774</td>\n",
       "      <td>1</td>\n",
       "      <td>24</td>\n",
       "    </tr>\n",
       "  </tbody>\n",
       "</table>\n",
       "</div>"
      ],
      "text/plain": [
       "    session_id       date         timestamp_local  user_id  country  \\\n",
       "0          746 2024-06-15 2024-06-15 18:36:47.390       -1       57   \n",
       "1          746 2024-06-15 2024-06-15 18:37:04.052       -1       57   \n",
       "2          746 2024-06-15 2024-06-15 18:37:48.159       -1       57   \n",
       "3          746 2024-06-15 2024-06-15 18:38:19.899       -1       57   \n",
       "4          746 2024-06-15 2024-06-15 18:38:46.492       -1       57   \n",
       "5          746 2024-06-15 2024-06-15 18:38:56.264       -1       57   \n",
       "6          746 2024-06-15 2024-06-15 18:39:15.605       -1       57   \n",
       "7         1306 2024-06-15 2024-06-15 13:15:55.471       -1       34   \n",
       "8         1364 2024-06-15 2024-06-15 00:02:16.930       -1       34   \n",
       "9         1377 2024-06-15 2024-06-15 19:08:13.376   259465       25   \n",
       "10        1377 2024-06-15 2024-06-15 19:08:17.288   259465       25   \n",
       "11        1377 2024-06-15 2024-06-15 19:08:18.078   259465       25   \n",
       "12        1377 2024-06-15 2024-06-15 19:09:46.989   259465       25   \n",
       "13        1377 2024-06-15 2024-06-15 19:09:48.136   259465       25   \n",
       "14        2251 2024-06-15 2024-06-15 13:17:36.968   486272       25   \n",
       "15        2344 2024-06-15 2024-06-15 18:43:34.272       -1       34   \n",
       "16        3125 2024-06-15 2024-06-15 02:47:01.996       -1       34   \n",
       "17        3125 2024-06-15 2024-06-15 02:47:31.914       -1       34   \n",
       "18        3125 2024-06-15 2024-06-15 02:47:36.195       -1       34   \n",
       "19        3125 2024-06-15 2024-06-15 02:47:49.662       -1       34   \n",
       "\n",
       "    partnumber  device_type  pagetype  \n",
       "0         1254            1        24  \n",
       "1        32544            1        24  \n",
       "2        12639            1        24  \n",
       "3        18048            1        24  \n",
       "4        13295            1        24  \n",
       "5         9377            1        24  \n",
       "6         9467            1        24  \n",
       "7        27437            1        24  \n",
       "8        19693            1        24  \n",
       "9        42854            1        24  \n",
       "10       10205            1        24  \n",
       "11       42854            1        24  \n",
       "12        3610            1        24  \n",
       "13        6409            1        24  \n",
       "14       11024            1        24  \n",
       "15       20175            3         1  \n",
       "16       11695            1        24  \n",
       "17        4774            1        24  \n",
       "18       19733            1        24  \n",
       "19        4774            1        24  "
      ]
     },
     "execution_count": 22,
     "metadata": {},
     "output_type": "execute_result"
    }
   ],
   "source": [
    "test_df.head(20)"
   ]
  },
  {
   "cell_type": "code",
   "execution_count": 23,
   "metadata": {},
   "outputs": [
    {
     "data": {
      "text/html": [
       "<div>\n",
       "<style scoped>\n",
       "    .dataframe tbody tr th:only-of-type {\n",
       "        vertical-align: middle;\n",
       "    }\n",
       "\n",
       "    .dataframe tbody tr th {\n",
       "        vertical-align: top;\n",
       "    }\n",
       "\n",
       "    .dataframe thead th {\n",
       "        text-align: right;\n",
       "    }\n",
       "</style>\n",
       "<table border=\"1\" class=\"dataframe\">\n",
       "  <thead>\n",
       "    <tr style=\"text-align: right;\">\n",
       "      <th></th>\n",
       "      <th>session_id</th>\n",
       "      <th>date</th>\n",
       "      <th>timestamp_local</th>\n",
       "      <th>user_id</th>\n",
       "      <th>country</th>\n",
       "      <th>partnumber</th>\n",
       "      <th>device_type</th>\n",
       "      <th>pagetype</th>\n",
       "    </tr>\n",
       "  </thead>\n",
       "  <tbody>\n",
       "    <tr>\n",
       "      <th>count</th>\n",
       "      <td>2.927500e+04</td>\n",
       "      <td>29275</td>\n",
       "      <td>29275</td>\n",
       "      <td>29275.000000</td>\n",
       "      <td>29275.000000</td>\n",
       "      <td>29275.000000</td>\n",
       "      <td>29275.000000</td>\n",
       "      <td>29275.000000</td>\n",
       "    </tr>\n",
       "    <tr>\n",
       "      <th>mean</th>\n",
       "      <td>2.602346e+06</td>\n",
       "      <td>2024-06-15 12:09:13.373185280</td>\n",
       "      <td>2024-06-16 01:07:58.761897472</td>\n",
       "      <td>52420.586268</td>\n",
       "      <td>34.260495</td>\n",
       "      <td>22085.171238</td>\n",
       "      <td>1.213185</td>\n",
       "      <td>23.137865</td>\n",
       "    </tr>\n",
       "    <tr>\n",
       "      <th>min</th>\n",
       "      <td>7.460000e+02</td>\n",
       "      <td>2024-06-15 00:00:00</td>\n",
       "      <td>2024-06-15 00:00:35.309000</td>\n",
       "      <td>-1.000000</td>\n",
       "      <td>25.000000</td>\n",
       "      <td>3.000000</td>\n",
       "      <td>1.000000</td>\n",
       "      <td>1.000000</td>\n",
       "    </tr>\n",
       "    <tr>\n",
       "      <th>25%</th>\n",
       "      <td>1.318920e+06</td>\n",
       "      <td>2024-06-15 00:00:00</td>\n",
       "      <td>2024-06-15 13:45:43.255499776</td>\n",
       "      <td>-1.000000</td>\n",
       "      <td>25.000000</td>\n",
       "      <td>11544.500000</td>\n",
       "      <td>1.000000</td>\n",
       "      <td>24.000000</td>\n",
       "    </tr>\n",
       "    <tr>\n",
       "      <th>50%</th>\n",
       "      <td>2.619119e+06</td>\n",
       "      <td>2024-06-16 00:00:00</td>\n",
       "      <td>2024-06-16 00:16:00.219000064</td>\n",
       "      <td>-1.000000</td>\n",
       "      <td>34.000000</td>\n",
       "      <td>21777.000000</td>\n",
       "      <td>1.000000</td>\n",
       "      <td>24.000000</td>\n",
       "    </tr>\n",
       "    <tr>\n",
       "      <th>75%</th>\n",
       "      <td>3.904801e+06</td>\n",
       "      <td>2024-06-16 00:00:00</td>\n",
       "      <td>2024-06-16 14:08:17.384000</td>\n",
       "      <td>-1.000000</td>\n",
       "      <td>34.000000</td>\n",
       "      <td>32864.000000</td>\n",
       "      <td>1.000000</td>\n",
       "      <td>24.000000</td>\n",
       "    </tr>\n",
       "    <tr>\n",
       "      <th>max</th>\n",
       "      <td>5.168933e+06</td>\n",
       "      <td>2024-06-16 00:00:00</td>\n",
       "      <td>2024-06-16 23:55:50.519000</td>\n",
       "      <td>555819.000000</td>\n",
       "      <td>57.000000</td>\n",
       "      <td>43679.000000</td>\n",
       "      <td>3.000000</td>\n",
       "      <td>26.000000</td>\n",
       "    </tr>\n",
       "    <tr>\n",
       "      <th>std</th>\n",
       "      <td>1.496322e+06</td>\n",
       "      <td>NaN</td>\n",
       "      <td>NaN</td>\n",
       "      <td>126904.770441</td>\n",
       "      <td>10.539929</td>\n",
       "      <td>12502.857230</td>\n",
       "      <td>0.603799</td>\n",
       "      <td>3.671977</td>\n",
       "    </tr>\n",
       "  </tbody>\n",
       "</table>\n",
       "</div>"
      ],
      "text/plain": [
       "         session_id                           date  \\\n",
       "count  2.927500e+04                          29275   \n",
       "mean   2.602346e+06  2024-06-15 12:09:13.373185280   \n",
       "min    7.460000e+02            2024-06-15 00:00:00   \n",
       "25%    1.318920e+06            2024-06-15 00:00:00   \n",
       "50%    2.619119e+06            2024-06-16 00:00:00   \n",
       "75%    3.904801e+06            2024-06-16 00:00:00   \n",
       "max    5.168933e+06            2024-06-16 00:00:00   \n",
       "std    1.496322e+06                            NaN   \n",
       "\n",
       "                     timestamp_local        user_id       country  \\\n",
       "count                          29275   29275.000000  29275.000000   \n",
       "mean   2024-06-16 01:07:58.761897472   52420.586268     34.260495   \n",
       "min       2024-06-15 00:00:35.309000      -1.000000     25.000000   \n",
       "25%    2024-06-15 13:45:43.255499776      -1.000000     25.000000   \n",
       "50%    2024-06-16 00:16:00.219000064      -1.000000     34.000000   \n",
       "75%       2024-06-16 14:08:17.384000      -1.000000     34.000000   \n",
       "max       2024-06-16 23:55:50.519000  555819.000000     57.000000   \n",
       "std                              NaN  126904.770441     10.539929   \n",
       "\n",
       "         partnumber   device_type      pagetype  \n",
       "count  29275.000000  29275.000000  29275.000000  \n",
       "mean   22085.171238      1.213185     23.137865  \n",
       "min        3.000000      1.000000      1.000000  \n",
       "25%    11544.500000      1.000000     24.000000  \n",
       "50%    21777.000000      1.000000     24.000000  \n",
       "75%    32864.000000      1.000000     24.000000  \n",
       "max    43679.000000      3.000000     26.000000  \n",
       "std    12502.857230      0.603799      3.671977  "
      ]
     },
     "execution_count": 23,
     "metadata": {},
     "output_type": "execute_result"
    }
   ],
   "source": [
    "test_df.describe()"
   ]
  },
  {
   "cell_type": "markdown",
   "metadata": {},
   "source": [
    "---"
   ]
  },
  {
   "cell_type": "markdown",
   "metadata": {},
   "source": [
    "## Verificaciones"
   ]
  },
  {
   "cell_type": "code",
   "execution_count": 24,
   "metadata": {},
   "outputs": [
    {
     "name": "stdout",
     "output_type": "stream",
     "text": [
      "Valores nulos por columna:\n",
      "session_id         0\n",
      "date               0\n",
      "timestamp_local    0\n",
      "user_id            0\n",
      "country            0\n",
      "partnumber         0\n",
      "device_type        0\n",
      "pagetype           0\n",
      "dtype: int64\n",
      "\n",
      "Uso de memoria del dataset optimizado:\n",
      "<class 'pandas.core.frame.DataFrame'>\n",
      "RangeIndex: 29275 entries, 0 to 29274\n",
      "Data columns (total 8 columns):\n",
      " #   Column           Non-Null Count  Dtype         \n",
      "---  ------           --------------  -----         \n",
      " 0   session_id       29275 non-null  int32         \n",
      " 1   date             29275 non-null  datetime64[ns]\n",
      " 2   timestamp_local  29275 non-null  datetime64[ns]\n",
      " 3   user_id          29275 non-null  int32         \n",
      " 4   country          29275 non-null  int8          \n",
      " 5   partnumber       29275 non-null  int32         \n",
      " 6   device_type      29275 non-null  int8          \n",
      " 7   pagetype         29275 non-null  int8          \n",
      "dtypes: datetime64[ns](2), int32(3), int8(3)\n",
      "memory usage: 886.4 KB\n",
      "None\n",
      "\n",
      "Valores únicos en user_id (usuarios no logueados deben ser -1):\n",
      "[    -1 259465 486272 ... 364178  58024 175416]\n"
     ]
    }
   ],
   "source": [
    "# Verificar valores nulos\n",
    "print(\"Valores nulos por columna:\")\n",
    "print(test_df.isnull().sum())\n",
    "\n",
    "# Verificar uso de memoria\n",
    "print(\"\\nUso de memoria del dataset optimizado:\")\n",
    "print(test_df.info(memory_usage='deep'))\n",
    "\n",
    "# Verificar valores únicos en columnas clave\n",
    "print(\"\\nValores únicos en user_id (usuarios no logueados deben ser -1):\")\n",
    "print(test_df['user_id'].unique())\n"
   ]
  },
  {
   "cell_type": "code",
   "execution_count": 25,
   "metadata": {},
   "outputs": [
    {
     "name": "stdout",
     "output_type": "stream",
     "text": [
      "Usuarios no logueados (user_id == -1): 23509\n",
      "80.30401366353544\n",
      "Valores faltantes en country (country == -1): 0\n",
      "Valores faltantes en pagetype (pagetype == -1): 0\n"
     ]
    }
   ],
   "source": [
    "print(\"Usuarios no logueados (user_id == -1):\", (test_df['user_id'] == -1).sum())\n",
    "print(23509 / len(test_df) * 100) # 80.30 %\n",
    "print(\"Valores faltantes en country (country == -1):\", (test_df['country'] == -1).sum())\n",
    "print(\"Valores faltantes en pagetype (pagetype == -1):\", (test_df['pagetype'] == -1).sum())"
   ]
  },
  {
   "cell_type": "markdown",
   "metadata": {},
   "source": [
    "---"
   ]
  },
  {
   "cell_type": "markdown",
   "metadata": {},
   "source": [
    "# Tipo de datos iniciales alineados entre TRAIN Y TEST"
   ]
  },
  {
   "cell_type": "code",
   "execution_count": 26,
   "metadata": {},
   "outputs": [
    {
     "name": "stdout",
     "output_type": "stream",
     "text": [
      "Datasets guardados correctamente.\n"
     ]
    }
   ],
   "source": [
    "# Guardar dataset en formato Parquet (más eficiente)\n",
    "test_df.to_parquet('/home/pablost/Hackathon_inditex_data_science/hackathon-inditex-data-recommender/data/processed_v2/test_optimized.parquet', index=False)\n",
    "\n",
    "print(\"Datasets guardados correctamente.\")"
   ]
  }
 ],
 "metadata": {
  "kernelspec": {
   "display_name": ".env",
   "language": "python",
   "name": "python3"
  },
  "language_info": {
   "codemirror_mode": {
    "name": "ipython",
    "version": 3
   },
   "file_extension": ".py",
   "mimetype": "text/x-python",
   "name": "python",
   "nbconvert_exporter": "python",
   "pygments_lexer": "ipython3",
   "version": "3.10.12"
  }
 },
 "nbformat": 4,
 "nbformat_minor": 2
}
