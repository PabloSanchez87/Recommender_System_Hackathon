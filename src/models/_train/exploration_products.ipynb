{
 "cells": [
  {
   "cell_type": "markdown",
   "metadata": {},
   "source": [
    "# Exploration Products\n"
   ]
  },
  {
   "cell_type": "code",
   "execution_count": 38,
   "metadata": {},
   "outputs": [
    {
     "name": "stdout",
     "output_type": "stream",
     "text": [
      "<class 'pandas.core.frame.DataFrame'>\n",
      "<class 'pandas.core.frame.DataFrame'>\n",
      "RangeIndex: 43692 entries, 0 to 43691\n",
      "Data columns (total 6 columns):\n",
      " #   Column       Non-Null Count  Dtype  \n",
      "---  ------       --------------  -----  \n",
      " 0   discount     43692 non-null  object \n",
      " 1   embedding    37522 non-null  object \n",
      " 2   partnumber   43692 non-null  int32  \n",
      " 3   color_id     43692 non-null  int32  \n",
      " 4   cod_section  43602 non-null  float64\n",
      " 5   family       43692 non-null  int32  \n",
      "dtypes: float64(1), int32(3), object(2)\n",
      "memory usage: 1.5+ MB\n",
      "None\n",
      "  discount                                          embedding  partnumber  \\\n",
      "0        0  [-0.13401361, -0.1200429, -0.016117405, -0.167...       32776   \n",
      "1        0  [-0.0949274, -0.107294075, -0.16559914, -0.174...       41431   \n",
      "2        0  [-0.12904441, -0.07724628, -0.09799071, -0.164...       39419   \n",
      "3        1  [-0.12783332, -0.133868, -0.10101265, -0.18888...       36087   \n",
      "4        1  [-0.14092924, -0.1258284, -0.10809927, -0.1765...       34132   \n",
      "\n",
      "   color_id  cod_section  family  \n",
      "0        85          4.0      73  \n",
      "1       135          4.0      73  \n",
      "2       339          4.0      73  \n",
      "3       135          4.0      73  \n",
      "4         3          4.0      73  \n"
     ]
    }
   ],
   "source": [
    "import pickle\n",
    "import pandas as pd\n",
    "\n",
    "# Cargar archivo Pickle\n",
    "with open('/home/pablost/Hackathon_inditex_data_science/hackathon-inditex-data-recommender/data/raw/products.pkl', 'rb') as file:\n",
    "    products_data = pickle.load(file)\n",
    "\n",
    "# Verificar el tipo de datos\n",
    "print(type(products_data))\n",
    "\n",
    "# Si es un DataFrame o similar, explorar su contenido\n",
    "if isinstance(products_data, pd.DataFrame):\n",
    "    print(products_data.info())  # Información general\n",
    "    print(products_data.head())  # Primeras filas\n",
    "elif isinstance(products_data, dict):\n",
    "    print(len(products_data))  # Número de claves\n",
    "    print(list(products_data.keys())[:5])  # Ejemplo de claves\n",
    "elif isinstance(products_data, list):\n",
    "    print(len(products_data))  # Número de elementos\n",
    "    print(products_data[:5])  # Primeros elementos\n"
   ]
  },
  {
   "cell_type": "markdown",
   "metadata": {},
   "source": [
    "## **Análisis Inicial**\n",
    "1. **Dimensiones:**\n",
    "   - **Total de filas:** 43,692.\n",
    "   - **Total de columnas:** 6.\n",
    "\n",
    "2. **Columnas:**\n",
    "   - `discount` (`object`): Indica si el producto tiene descuento (parece binario: 0/1).\n",
    "   - `embedding` (`object`): Embedding de imagenes, pero hay valores nulos (37,522 valores presentes, 6,170 nulos).\n",
    "   - `partnumber` (`int32`): Identificador único del producto.\n",
    "   - `color_id` (`int32`): Identificador del color del producto.\n",
    "   - `cod_section` (`float64`): Código de la sección, tiene algunos valores nulos (43,602 no nulos, 90 nulos).\n",
    "   - `family` (`int32`): Familia del producto, parece estar completa.\n",
    "\n",
    "3. **Uso de memoria:**\n",
    "   - Dataset ocupa **1.5 MB**, lo cual es razonable, pero podemos optimizar aún más.\n",
    "\n",
    "4. **Problemas detectados:**\n",
    "   - `embedding` y `cod_section` tienen valores nulos que necesitan tratamiento.\n",
    "   - `discount` debería ser convertido a un tipo más apropiado (`int` o `bool`).\n",
    "\n"
   ]
  },
  {
   "cell_type": "markdown",
   "metadata": {},
   "source": [
    "---"
   ]
  },
  {
   "cell_type": "markdown",
   "metadata": {},
   "source": [
    "## Limpieza y Transformación\n",
    "1. Conversión de Tipos\n",
    "\n",
    "    - discount: Convertir a int o bool para representar el valor binario.\n",
    "\n",
    "    - embedding: Mantener como object (lista) pero revisar el manejo de nulos."
   ]
  },
  {
   "cell_type": "code",
   "execution_count": 39,
   "metadata": {},
   "outputs": [
    {
     "name": "stdout",
     "output_type": "stream",
     "text": [
      "discount          int8\n",
      "embedding       object\n",
      "partnumber       int32\n",
      "color_id         int32\n",
      "cod_section    float64\n",
      "family           int32\n",
      "dtype: object\n"
     ]
    }
   ],
   "source": [
    "# Convertir discount a int\n",
    "products_data['discount'] = products_data['discount'].astype('int8')\n",
    "\n",
    "# Confirmar cambios\n",
    "print(products_data.dtypes)\n"
   ]
  },
  {
   "cell_type": "code",
   "execution_count": 40,
   "metadata": {},
   "outputs": [
    {
     "data": {
      "text/html": [
       "<div>\n",
       "<style scoped>\n",
       "    .dataframe tbody tr th:only-of-type {\n",
       "        vertical-align: middle;\n",
       "    }\n",
       "\n",
       "    .dataframe tbody tr th {\n",
       "        vertical-align: top;\n",
       "    }\n",
       "\n",
       "    .dataframe thead th {\n",
       "        text-align: right;\n",
       "    }\n",
       "</style>\n",
       "<table border=\"1\" class=\"dataframe\">\n",
       "  <thead>\n",
       "    <tr style=\"text-align: right;\">\n",
       "      <th></th>\n",
       "      <th>discount</th>\n",
       "      <th>embedding</th>\n",
       "      <th>partnumber</th>\n",
       "      <th>color_id</th>\n",
       "      <th>cod_section</th>\n",
       "      <th>family</th>\n",
       "    </tr>\n",
       "  </thead>\n",
       "  <tbody>\n",
       "    <tr>\n",
       "      <th>0</th>\n",
       "      <td>0</td>\n",
       "      <td>[-0.13401361, -0.1200429, -0.016117405, -0.167...</td>\n",
       "      <td>32776</td>\n",
       "      <td>85</td>\n",
       "      <td>4.0</td>\n",
       "      <td>73</td>\n",
       "    </tr>\n",
       "    <tr>\n",
       "      <th>1</th>\n",
       "      <td>0</td>\n",
       "      <td>[-0.0949274, -0.107294075, -0.16559914, -0.174...</td>\n",
       "      <td>41431</td>\n",
       "      <td>135</td>\n",
       "      <td>4.0</td>\n",
       "      <td>73</td>\n",
       "    </tr>\n",
       "    <tr>\n",
       "      <th>2</th>\n",
       "      <td>0</td>\n",
       "      <td>[-0.12904441, -0.07724628, -0.09799071, -0.164...</td>\n",
       "      <td>39419</td>\n",
       "      <td>339</td>\n",
       "      <td>4.0</td>\n",
       "      <td>73</td>\n",
       "    </tr>\n",
       "    <tr>\n",
       "      <th>3</th>\n",
       "      <td>1</td>\n",
       "      <td>[-0.12783332, -0.133868, -0.10101265, -0.18888...</td>\n",
       "      <td>36087</td>\n",
       "      <td>135</td>\n",
       "      <td>4.0</td>\n",
       "      <td>73</td>\n",
       "    </tr>\n",
       "    <tr>\n",
       "      <th>4</th>\n",
       "      <td>1</td>\n",
       "      <td>[-0.14092924, -0.1258284, -0.10809927, -0.1765...</td>\n",
       "      <td>34132</td>\n",
       "      <td>3</td>\n",
       "      <td>4.0</td>\n",
       "      <td>73</td>\n",
       "    </tr>\n",
       "  </tbody>\n",
       "</table>\n",
       "</div>"
      ],
      "text/plain": [
       "   discount                                          embedding  partnumber  \\\n",
       "0         0  [-0.13401361, -0.1200429, -0.016117405, -0.167...       32776   \n",
       "1         0  [-0.0949274, -0.107294075, -0.16559914, -0.174...       41431   \n",
       "2         0  [-0.12904441, -0.07724628, -0.09799071, -0.164...       39419   \n",
       "3         1  [-0.12783332, -0.133868, -0.10101265, -0.18888...       36087   \n",
       "4         1  [-0.14092924, -0.1258284, -0.10809927, -0.1765...       34132   \n",
       "\n",
       "   color_id  cod_section  family  \n",
       "0        85          4.0      73  \n",
       "1       135          4.0      73  \n",
       "2       339          4.0      73  \n",
       "3       135          4.0      73  \n",
       "4         3          4.0      73  "
      ]
     },
     "execution_count": 40,
     "metadata": {},
     "output_type": "execute_result"
    }
   ],
   "source": [
    "products_data.head()"
   ]
  },
  {
   "cell_type": "markdown",
   "metadata": {},
   "source": [
    "\n",
    "\n",
    "**2. Análisis de la columna `embedding`**\n",
    "#### Objetivo:\n",
    "- Identificar cuántos valores nulos existen y su proporción.\n",
    "- Revisar algunos ejemplos de embeddings no nulos para entender su formato.\n",
    "- Evaluar si los embeddings nulos pertenecen a un subconjunto específico de productos.\n",
    "\n"
   ]
  },
  {
   "cell_type": "code",
   "execution_count": 41,
   "metadata": {},
   "outputs": [
    {
     "name": "stdout",
     "output_type": "stream",
     "text": [
      "Valores nulos en embedding: 6170\n",
      "Proporción de nulos en embedding: 14.12%\n",
      "Ejemplo de embeddings no nulos:\n",
      "0    [-0.13401361, -0.1200429, -0.016117405, -0.167...\n",
      "1    [-0.0949274, -0.107294075, -0.16559914, -0.174...\n",
      "2    [-0.12904441, -0.07724628, -0.09799071, -0.164...\n",
      "3    [-0.12783332, -0.133868, -0.10101265, -0.18888...\n",
      "4    [-0.14092924, -0.1258284, -0.10809927, -0.1765...\n",
      "Name: embedding, dtype: object\n",
      "Distribución de productos con embeddings nulos:\n",
      "    partnumber  family  color_id\n",
      "27       38064      29       461\n",
      "28       38989      14         3\n",
      "43       41178      73       135\n",
      "55       36307      74       312\n",
      "75       33721      73       331\n"
     ]
    }
   ],
   "source": [
    "# Valores nulos en embedding\n",
    "print(f\"Valores nulos en embedding: {products_data['embedding'].isnull().sum()}\")\n",
    "print(f\"Proporción de nulos en embedding: {products_data['embedding'].isnull().mean():.2%}\")\n",
    "\n",
    "# Ejemplo de embeddings no nulos\n",
    "print(\"Ejemplo de embeddings no nulos:\")\n",
    "print(products_data.loc[products_data['embedding'].notnull(), 'embedding'].iloc[:5])\n",
    "\n",
    "# Distribución de productos con embeddings nulos\n",
    "print(\"Distribución de productos con embeddings nulos:\")\n",
    "print(products_data.loc[products_data['embedding'].isnull(), ['partnumber', 'family', 'color_id']].head())\n"
   ]
  },
  {
   "cell_type": "code",
   "execution_count": 42,
   "metadata": {},
   "outputs": [
    {
     "data": {
      "text/html": [
       "<div>\n",
       "<style scoped>\n",
       "    .dataframe tbody tr th:only-of-type {\n",
       "        vertical-align: middle;\n",
       "    }\n",
       "\n",
       "    .dataframe tbody tr th {\n",
       "        vertical-align: top;\n",
       "    }\n",
       "\n",
       "    .dataframe thead th {\n",
       "        text-align: right;\n",
       "    }\n",
       "</style>\n",
       "<table border=\"1\" class=\"dataframe\">\n",
       "  <thead>\n",
       "    <tr style=\"text-align: right;\">\n",
       "      <th></th>\n",
       "      <th>discount</th>\n",
       "      <th>embedding</th>\n",
       "      <th>partnumber</th>\n",
       "      <th>color_id</th>\n",
       "      <th>cod_section</th>\n",
       "      <th>family</th>\n",
       "    </tr>\n",
       "  </thead>\n",
       "  <tbody>\n",
       "    <tr>\n",
       "      <th>0</th>\n",
       "      <td>0</td>\n",
       "      <td>[-0.13401361, -0.1200429, -0.016117405, -0.167...</td>\n",
       "      <td>32776</td>\n",
       "      <td>85</td>\n",
       "      <td>4.0</td>\n",
       "      <td>73</td>\n",
       "    </tr>\n",
       "    <tr>\n",
       "      <th>1</th>\n",
       "      <td>0</td>\n",
       "      <td>[-0.0949274, -0.107294075, -0.16559914, -0.174...</td>\n",
       "      <td>41431</td>\n",
       "      <td>135</td>\n",
       "      <td>4.0</td>\n",
       "      <td>73</td>\n",
       "    </tr>\n",
       "    <tr>\n",
       "      <th>2</th>\n",
       "      <td>0</td>\n",
       "      <td>[-0.12904441, -0.07724628, -0.09799071, -0.164...</td>\n",
       "      <td>39419</td>\n",
       "      <td>339</td>\n",
       "      <td>4.0</td>\n",
       "      <td>73</td>\n",
       "    </tr>\n",
       "    <tr>\n",
       "      <th>3</th>\n",
       "      <td>1</td>\n",
       "      <td>[-0.12783332, -0.133868, -0.10101265, -0.18888...</td>\n",
       "      <td>36087</td>\n",
       "      <td>135</td>\n",
       "      <td>4.0</td>\n",
       "      <td>73</td>\n",
       "    </tr>\n",
       "    <tr>\n",
       "      <th>4</th>\n",
       "      <td>1</td>\n",
       "      <td>[-0.14092924, -0.1258284, -0.10809927, -0.1765...</td>\n",
       "      <td>34132</td>\n",
       "      <td>3</td>\n",
       "      <td>4.0</td>\n",
       "      <td>73</td>\n",
       "    </tr>\n",
       "  </tbody>\n",
       "</table>\n",
       "</div>"
      ],
      "text/plain": [
       "   discount                                          embedding  partnumber  \\\n",
       "0         0  [-0.13401361, -0.1200429, -0.016117405, -0.167...       32776   \n",
       "1         0  [-0.0949274, -0.107294075, -0.16559914, -0.174...       41431   \n",
       "2         0  [-0.12904441, -0.07724628, -0.09799071, -0.164...       39419   \n",
       "3         1  [-0.12783332, -0.133868, -0.10101265, -0.18888...       36087   \n",
       "4         1  [-0.14092924, -0.1258284, -0.10809927, -0.1765...       34132   \n",
       "\n",
       "   color_id  cod_section  family  \n",
       "0        85          4.0      73  \n",
       "1       135          4.0      73  \n",
       "2       339          4.0      73  \n",
       "3       135          4.0      73  \n",
       "4         3          4.0      73  "
      ]
     },
     "execution_count": 42,
     "metadata": {},
     "output_type": "execute_result"
    }
   ],
   "source": [
    "products_data.head()"
   ]
  },
  {
   "cell_type": "markdown",
   "metadata": {},
   "source": [
    "**3. Análisis de la columna `cod_section`**\n",
    "#### Objetivo:\n",
    "- Revisar la cantidad y proporción de valores nulos.\n",
    "- Analizar la distribución de los valores presentes (`cod_section`) para decidir cómo manejar los nulos.\n",
    "- Evaluar si hay una moda o si es mejor usar un valor predeterminado como `-1`.\n",
    "\n"
   ]
  },
  {
   "cell_type": "code",
   "execution_count": 43,
   "metadata": {},
   "outputs": [
    {
     "name": "stdout",
     "output_type": "stream",
     "text": [
      "Valores nulos en cod_section: 90\n",
      "Proporción de nulos en cod_section: 0.21%\n",
      "Estadísticas de cod_section (sin nulos):\n",
      "count    43602.000000\n",
      "mean         2.209922\n",
      "std          1.190734\n",
      "min          1.000000\n",
      "25%          1.000000\n",
      "50%          2.000000\n",
      "75%          3.000000\n",
      "max          4.000000\n",
      "Name: cod_section, dtype: float64\n",
      "Moda de cod_section: 1.0\n"
     ]
    }
   ],
   "source": [
    "# Valores nulos en cod_section\n",
    "print(f\"Valores nulos en cod_section: {products_data['cod_section'].isnull().sum()}\")\n",
    "print(f\"Proporción de nulos en cod_section: {products_data['cod_section'].isnull().mean():.2%}\")\n",
    "\n",
    "# Estadísticas de cod_section\n",
    "print(\"Estadísticas de cod_section (sin nulos):\")\n",
    "print(products_data['cod_section'].dropna().describe())\n",
    "\n",
    "# Moda de cod_section\n",
    "print(f\"Moda de cod_section: {products_data['cod_section'].mode().iloc[0]}\")\n"
   ]
  },
  {
   "cell_type": "code",
   "execution_count": 44,
   "metadata": {},
   "outputs": [
    {
     "data": {
      "text/html": [
       "<div>\n",
       "<style scoped>\n",
       "    .dataframe tbody tr th:only-of-type {\n",
       "        vertical-align: middle;\n",
       "    }\n",
       "\n",
       "    .dataframe tbody tr th {\n",
       "        vertical-align: top;\n",
       "    }\n",
       "\n",
       "    .dataframe thead th {\n",
       "        text-align: right;\n",
       "    }\n",
       "</style>\n",
       "<table border=\"1\" class=\"dataframe\">\n",
       "  <thead>\n",
       "    <tr style=\"text-align: right;\">\n",
       "      <th></th>\n",
       "      <th>discount</th>\n",
       "      <th>embedding</th>\n",
       "      <th>partnumber</th>\n",
       "      <th>color_id</th>\n",
       "      <th>cod_section</th>\n",
       "      <th>family</th>\n",
       "    </tr>\n",
       "  </thead>\n",
       "  <tbody>\n",
       "    <tr>\n",
       "      <th>0</th>\n",
       "      <td>0</td>\n",
       "      <td>[-0.13401361, -0.1200429, -0.016117405, -0.167...</td>\n",
       "      <td>32776</td>\n",
       "      <td>85</td>\n",
       "      <td>4.0</td>\n",
       "      <td>73</td>\n",
       "    </tr>\n",
       "    <tr>\n",
       "      <th>1</th>\n",
       "      <td>0</td>\n",
       "      <td>[-0.0949274, -0.107294075, -0.16559914, -0.174...</td>\n",
       "      <td>41431</td>\n",
       "      <td>135</td>\n",
       "      <td>4.0</td>\n",
       "      <td>73</td>\n",
       "    </tr>\n",
       "    <tr>\n",
       "      <th>2</th>\n",
       "      <td>0</td>\n",
       "      <td>[-0.12904441, -0.07724628, -0.09799071, -0.164...</td>\n",
       "      <td>39419</td>\n",
       "      <td>339</td>\n",
       "      <td>4.0</td>\n",
       "      <td>73</td>\n",
       "    </tr>\n",
       "    <tr>\n",
       "      <th>3</th>\n",
       "      <td>1</td>\n",
       "      <td>[-0.12783332, -0.133868, -0.10101265, -0.18888...</td>\n",
       "      <td>36087</td>\n",
       "      <td>135</td>\n",
       "      <td>4.0</td>\n",
       "      <td>73</td>\n",
       "    </tr>\n",
       "    <tr>\n",
       "      <th>4</th>\n",
       "      <td>1</td>\n",
       "      <td>[-0.14092924, -0.1258284, -0.10809927, -0.1765...</td>\n",
       "      <td>34132</td>\n",
       "      <td>3</td>\n",
       "      <td>4.0</td>\n",
       "      <td>73</td>\n",
       "    </tr>\n",
       "  </tbody>\n",
       "</table>\n",
       "</div>"
      ],
      "text/plain": [
       "   discount                                          embedding  partnumber  \\\n",
       "0         0  [-0.13401361, -0.1200429, -0.016117405, -0.167...       32776   \n",
       "1         0  [-0.0949274, -0.107294075, -0.16559914, -0.174...       41431   \n",
       "2         0  [-0.12904441, -0.07724628, -0.09799071, -0.164...       39419   \n",
       "3         1  [-0.12783332, -0.133868, -0.10101265, -0.18888...       36087   \n",
       "4         1  [-0.14092924, -0.1258284, -0.10809927, -0.1765...       34132   \n",
       "\n",
       "   color_id  cod_section  family  \n",
       "0        85          4.0      73  \n",
       "1       135          4.0      73  \n",
       "2       339          4.0      73  \n",
       "3       135          4.0      73  \n",
       "4         3          4.0      73  "
      ]
     },
     "execution_count": 44,
     "metadata": {},
     "output_type": "execute_result"
    }
   ],
   "source": [
    "products_data.head()"
   ]
  },
  {
   "cell_type": "markdown",
   "metadata": {},
   "source": [
    "Si los embeddings son esenciales para los modelos basados en contenido, podríamos rellenar los valores nulos con el vector promedio de los embeddings disponibles."
   ]
  },
  {
   "cell_type": "code",
   "execution_count": 45,
   "metadata": {},
   "outputs": [],
   "source": [
    "import numpy as np\n",
    "\n",
    "# Calcular el vector promedio de los embeddings no nulos\n",
    "embedding_avg = np.mean(\n",
    "    np.stack(products_data.loc[products_data['embedding'].notnull(), 'embedding']),\n",
    "    axis=0\n",
    ")\n",
    "\n",
    "# Rellenar valores nulos con el vector promedio\n",
    "products_data['embedding'] = products_data['embedding'].apply(lambda x: embedding_avg if x is None else x)\n"
   ]
  },
  {
   "cell_type": "code",
   "execution_count": 46,
   "metadata": {},
   "outputs": [
    {
     "data": {
      "text/html": [
       "<div>\n",
       "<style scoped>\n",
       "    .dataframe tbody tr th:only-of-type {\n",
       "        vertical-align: middle;\n",
       "    }\n",
       "\n",
       "    .dataframe tbody tr th {\n",
       "        vertical-align: top;\n",
       "    }\n",
       "\n",
       "    .dataframe thead th {\n",
       "        text-align: right;\n",
       "    }\n",
       "</style>\n",
       "<table border=\"1\" class=\"dataframe\">\n",
       "  <thead>\n",
       "    <tr style=\"text-align: right;\">\n",
       "      <th></th>\n",
       "      <th>discount</th>\n",
       "      <th>embedding</th>\n",
       "      <th>partnumber</th>\n",
       "      <th>color_id</th>\n",
       "      <th>cod_section</th>\n",
       "      <th>family</th>\n",
       "    </tr>\n",
       "  </thead>\n",
       "  <tbody>\n",
       "    <tr>\n",
       "      <th>0</th>\n",
       "      <td>0</td>\n",
       "      <td>[-0.13401361, -0.1200429, -0.016117405, -0.167...</td>\n",
       "      <td>32776</td>\n",
       "      <td>85</td>\n",
       "      <td>4.0</td>\n",
       "      <td>73</td>\n",
       "    </tr>\n",
       "    <tr>\n",
       "      <th>1</th>\n",
       "      <td>0</td>\n",
       "      <td>[-0.0949274, -0.107294075, -0.16559914, -0.174...</td>\n",
       "      <td>41431</td>\n",
       "      <td>135</td>\n",
       "      <td>4.0</td>\n",
       "      <td>73</td>\n",
       "    </tr>\n",
       "    <tr>\n",
       "      <th>2</th>\n",
       "      <td>0</td>\n",
       "      <td>[-0.12904441, -0.07724628, -0.09799071, -0.164...</td>\n",
       "      <td>39419</td>\n",
       "      <td>339</td>\n",
       "      <td>4.0</td>\n",
       "      <td>73</td>\n",
       "    </tr>\n",
       "    <tr>\n",
       "      <th>3</th>\n",
       "      <td>1</td>\n",
       "      <td>[-0.12783332, -0.133868, -0.10101265, -0.18888...</td>\n",
       "      <td>36087</td>\n",
       "      <td>135</td>\n",
       "      <td>4.0</td>\n",
       "      <td>73</td>\n",
       "    </tr>\n",
       "    <tr>\n",
       "      <th>4</th>\n",
       "      <td>1</td>\n",
       "      <td>[-0.14092924, -0.1258284, -0.10809927, -0.1765...</td>\n",
       "      <td>34132</td>\n",
       "      <td>3</td>\n",
       "      <td>4.0</td>\n",
       "      <td>73</td>\n",
       "    </tr>\n",
       "  </tbody>\n",
       "</table>\n",
       "</div>"
      ],
      "text/plain": [
       "   discount                                          embedding  partnumber  \\\n",
       "0         0  [-0.13401361, -0.1200429, -0.016117405, -0.167...       32776   \n",
       "1         0  [-0.0949274, -0.107294075, -0.16559914, -0.174...       41431   \n",
       "2         0  [-0.12904441, -0.07724628, -0.09799071, -0.164...       39419   \n",
       "3         1  [-0.12783332, -0.133868, -0.10101265, -0.18888...       36087   \n",
       "4         1  [-0.14092924, -0.1258284, -0.10809927, -0.1765...       34132   \n",
       "\n",
       "   color_id  cod_section  family  \n",
       "0        85          4.0      73  \n",
       "1       135          4.0      73  \n",
       "2       339          4.0      73  \n",
       "3       135          4.0      73  \n",
       "4         3          4.0      73  "
      ]
     },
     "execution_count": 46,
     "metadata": {},
     "output_type": "execute_result"
    }
   ],
   "source": [
    "products_data.head()"
   ]
  },
  {
   "cell_type": "markdown",
   "metadata": {},
   "source": [
    "Decisión: Rellenar los valores nulos con la moda (1.0), ya que es la categoría más frecuente y representativa."
   ]
  },
  {
   "cell_type": "code",
   "execution_count": 47,
   "metadata": {},
   "outputs": [],
   "source": [
    "# Rellenar valores nulos en cod_section con la moda\n",
    "products_data['cod_section'] = products_data['cod_section'].fillna(1.0).astype('int16')\n"
   ]
  },
  {
   "cell_type": "code",
   "execution_count": 48,
   "metadata": {},
   "outputs": [
    {
     "data": {
      "text/html": [
       "<div>\n",
       "<style scoped>\n",
       "    .dataframe tbody tr th:only-of-type {\n",
       "        vertical-align: middle;\n",
       "    }\n",
       "\n",
       "    .dataframe tbody tr th {\n",
       "        vertical-align: top;\n",
       "    }\n",
       "\n",
       "    .dataframe thead th {\n",
       "        text-align: right;\n",
       "    }\n",
       "</style>\n",
       "<table border=\"1\" class=\"dataframe\">\n",
       "  <thead>\n",
       "    <tr style=\"text-align: right;\">\n",
       "      <th></th>\n",
       "      <th>discount</th>\n",
       "      <th>embedding</th>\n",
       "      <th>partnumber</th>\n",
       "      <th>color_id</th>\n",
       "      <th>cod_section</th>\n",
       "      <th>family</th>\n",
       "    </tr>\n",
       "  </thead>\n",
       "  <tbody>\n",
       "    <tr>\n",
       "      <th>0</th>\n",
       "      <td>0</td>\n",
       "      <td>[-0.13401361, -0.1200429, -0.016117405, -0.167...</td>\n",
       "      <td>32776</td>\n",
       "      <td>85</td>\n",
       "      <td>4</td>\n",
       "      <td>73</td>\n",
       "    </tr>\n",
       "    <tr>\n",
       "      <th>1</th>\n",
       "      <td>0</td>\n",
       "      <td>[-0.0949274, -0.107294075, -0.16559914, -0.174...</td>\n",
       "      <td>41431</td>\n",
       "      <td>135</td>\n",
       "      <td>4</td>\n",
       "      <td>73</td>\n",
       "    </tr>\n",
       "    <tr>\n",
       "      <th>2</th>\n",
       "      <td>0</td>\n",
       "      <td>[-0.12904441, -0.07724628, -0.09799071, -0.164...</td>\n",
       "      <td>39419</td>\n",
       "      <td>339</td>\n",
       "      <td>4</td>\n",
       "      <td>73</td>\n",
       "    </tr>\n",
       "    <tr>\n",
       "      <th>3</th>\n",
       "      <td>1</td>\n",
       "      <td>[-0.12783332, -0.133868, -0.10101265, -0.18888...</td>\n",
       "      <td>36087</td>\n",
       "      <td>135</td>\n",
       "      <td>4</td>\n",
       "      <td>73</td>\n",
       "    </tr>\n",
       "    <tr>\n",
       "      <th>4</th>\n",
       "      <td>1</td>\n",
       "      <td>[-0.14092924, -0.1258284, -0.10809927, -0.1765...</td>\n",
       "      <td>34132</td>\n",
       "      <td>3</td>\n",
       "      <td>4</td>\n",
       "      <td>73</td>\n",
       "    </tr>\n",
       "  </tbody>\n",
       "</table>\n",
       "</div>"
      ],
      "text/plain": [
       "   discount                                          embedding  partnumber  \\\n",
       "0         0  [-0.13401361, -0.1200429, -0.016117405, -0.167...       32776   \n",
       "1         0  [-0.0949274, -0.107294075, -0.16559914, -0.174...       41431   \n",
       "2         0  [-0.12904441, -0.07724628, -0.09799071, -0.164...       39419   \n",
       "3         1  [-0.12783332, -0.133868, -0.10101265, -0.18888...       36087   \n",
       "4         1  [-0.14092924, -0.1258284, -0.10809927, -0.1765...       34132   \n",
       "\n",
       "   color_id  cod_section  family  \n",
       "0        85            4      73  \n",
       "1       135            4      73  \n",
       "2       339            4      73  \n",
       "3       135            4      73  \n",
       "4         3            4      73  "
      ]
     },
     "execution_count": 48,
     "metadata": {},
     "output_type": "execute_result"
    }
   ],
   "source": [
    "products_data.head()"
   ]
  },
  {
   "cell_type": "markdown",
   "metadata": {},
   "source": [
    "**3. Verificación de Cambios**"
   ]
  },
  {
   "cell_type": "code",
   "execution_count": 49,
   "metadata": {},
   "outputs": [
    {
     "name": "stdout",
     "output_type": "stream",
     "text": [
      "Valores nulos en embedding: 0\n",
      "Valores nulos en cod_section: 0\n",
      "Ejemplo de embeddings después del relleno:\n",
      "0    [-0.13401361, -0.1200429, -0.016117405, -0.167...\n",
      "1    [-0.0949274, -0.107294075, -0.16559914, -0.174...\n",
      "2    [-0.12904441, -0.07724628, -0.09799071, -0.164...\n",
      "3    [-0.12783332, -0.133868, -0.10101265, -0.18888...\n",
      "4    [-0.14092924, -0.1258284, -0.10809927, -0.1765...\n",
      "Name: embedding, dtype: object\n",
      "Distribución de cod_section:\n",
      "cod_section\n",
      "1    18415\n",
      "3     9540\n",
      "4     8969\n",
      "2     6768\n",
      "Name: count, dtype: int64\n"
     ]
    }
   ],
   "source": [
    "# Verificar si hay valores nulos restantes\n",
    "print(f\"Valores nulos en embedding: {products_data['embedding'].isnull().sum()}\")\n",
    "print(f\"Valores nulos en cod_section: {products_data['cod_section'].isnull().sum()}\")\n",
    "\n",
    "# Revisar un ejemplo de los embeddings rellenados\n",
    "print(\"Ejemplo de embeddings después del relleno:\")\n",
    "print(products_data['embedding'].iloc[:5])\n",
    "\n",
    "# Confirmar la distribución de cod_section\n",
    "print(\"Distribución de cod_section:\")\n",
    "print(products_data['cod_section'].value_counts())\n"
   ]
  },
  {
   "cell_type": "code",
   "execution_count": 50,
   "metadata": {},
   "outputs": [
    {
     "data": {
      "text/html": [
       "<div>\n",
       "<style scoped>\n",
       "    .dataframe tbody tr th:only-of-type {\n",
       "        vertical-align: middle;\n",
       "    }\n",
       "\n",
       "    .dataframe tbody tr th {\n",
       "        vertical-align: top;\n",
       "    }\n",
       "\n",
       "    .dataframe thead th {\n",
       "        text-align: right;\n",
       "    }\n",
       "</style>\n",
       "<table border=\"1\" class=\"dataframe\">\n",
       "  <thead>\n",
       "    <tr style=\"text-align: right;\">\n",
       "      <th></th>\n",
       "      <th>discount</th>\n",
       "      <th>embedding</th>\n",
       "      <th>partnumber</th>\n",
       "      <th>color_id</th>\n",
       "      <th>cod_section</th>\n",
       "      <th>family</th>\n",
       "    </tr>\n",
       "  </thead>\n",
       "  <tbody>\n",
       "    <tr>\n",
       "      <th>0</th>\n",
       "      <td>0</td>\n",
       "      <td>[-0.13401361, -0.1200429, -0.016117405, -0.167...</td>\n",
       "      <td>32776</td>\n",
       "      <td>85</td>\n",
       "      <td>4</td>\n",
       "      <td>73</td>\n",
       "    </tr>\n",
       "    <tr>\n",
       "      <th>1</th>\n",
       "      <td>0</td>\n",
       "      <td>[-0.0949274, -0.107294075, -0.16559914, -0.174...</td>\n",
       "      <td>41431</td>\n",
       "      <td>135</td>\n",
       "      <td>4</td>\n",
       "      <td>73</td>\n",
       "    </tr>\n",
       "    <tr>\n",
       "      <th>2</th>\n",
       "      <td>0</td>\n",
       "      <td>[-0.12904441, -0.07724628, -0.09799071, -0.164...</td>\n",
       "      <td>39419</td>\n",
       "      <td>339</td>\n",
       "      <td>4</td>\n",
       "      <td>73</td>\n",
       "    </tr>\n",
       "    <tr>\n",
       "      <th>3</th>\n",
       "      <td>1</td>\n",
       "      <td>[-0.12783332, -0.133868, -0.10101265, -0.18888...</td>\n",
       "      <td>36087</td>\n",
       "      <td>135</td>\n",
       "      <td>4</td>\n",
       "      <td>73</td>\n",
       "    </tr>\n",
       "    <tr>\n",
       "      <th>4</th>\n",
       "      <td>1</td>\n",
       "      <td>[-0.14092924, -0.1258284, -0.10809927, -0.1765...</td>\n",
       "      <td>34132</td>\n",
       "      <td>3</td>\n",
       "      <td>4</td>\n",
       "      <td>73</td>\n",
       "    </tr>\n",
       "  </tbody>\n",
       "</table>\n",
       "</div>"
      ],
      "text/plain": [
       "   discount                                          embedding  partnumber  \\\n",
       "0         0  [-0.13401361, -0.1200429, -0.016117405, -0.167...       32776   \n",
       "1         0  [-0.0949274, -0.107294075, -0.16559914, -0.174...       41431   \n",
       "2         0  [-0.12904441, -0.07724628, -0.09799071, -0.164...       39419   \n",
       "3         1  [-0.12783332, -0.133868, -0.10101265, -0.18888...       36087   \n",
       "4         1  [-0.14092924, -0.1258284, -0.10809927, -0.1765...       34132   \n",
       "\n",
       "   color_id  cod_section  family  \n",
       "0        85            4      73  \n",
       "1       135            4      73  \n",
       "2       339            4      73  \n",
       "3       135            4      73  \n",
       "4         3            4      73  "
      ]
     },
     "execution_count": 50,
     "metadata": {},
     "output_type": "execute_result"
    }
   ],
   "source": [
    "products_data.head()"
   ]
  },
  {
   "cell_type": "markdown",
   "metadata": {},
   "source": [
    "Optimización de Tipos"
   ]
  },
  {
   "cell_type": "code",
   "execution_count": 51,
   "metadata": {},
   "outputs": [
    {
     "name": "stdout",
     "output_type": "stream",
     "text": [
      "Memoria optimizada: 35.75 MB\n"
     ]
    }
   ],
   "source": [
    "# Optimización de tipos\n",
    "products_data['partnumber'] = products_data['partnumber'].astype('int32')\n",
    "products_data['color_id'] = products_data['color_id'].astype('int32')\n",
    "products_data['family'] = products_data['family'].astype('int32')\n",
    "\n",
    "# Confirmar uso de memoria optimizado\n",
    "print(\"Memoria optimizada: {:.2f} MB\".format(products_data.memory_usage(deep=True).sum() / (1024 * 1024)))\n"
   ]
  },
  {
   "cell_type": "code",
   "execution_count": 52,
   "metadata": {},
   "outputs": [
    {
     "data": {
      "text/html": [
       "<div>\n",
       "<style scoped>\n",
       "    .dataframe tbody tr th:only-of-type {\n",
       "        vertical-align: middle;\n",
       "    }\n",
       "\n",
       "    .dataframe tbody tr th {\n",
       "        vertical-align: top;\n",
       "    }\n",
       "\n",
       "    .dataframe thead th {\n",
       "        text-align: right;\n",
       "    }\n",
       "</style>\n",
       "<table border=\"1\" class=\"dataframe\">\n",
       "  <thead>\n",
       "    <tr style=\"text-align: right;\">\n",
       "      <th></th>\n",
       "      <th>discount</th>\n",
       "      <th>embedding</th>\n",
       "      <th>partnumber</th>\n",
       "      <th>color_id</th>\n",
       "      <th>cod_section</th>\n",
       "      <th>family</th>\n",
       "    </tr>\n",
       "  </thead>\n",
       "  <tbody>\n",
       "    <tr>\n",
       "      <th>0</th>\n",
       "      <td>0</td>\n",
       "      <td>[-0.13401361, -0.1200429, -0.016117405, -0.167...</td>\n",
       "      <td>32776</td>\n",
       "      <td>85</td>\n",
       "      <td>4</td>\n",
       "      <td>73</td>\n",
       "    </tr>\n",
       "    <tr>\n",
       "      <th>1</th>\n",
       "      <td>0</td>\n",
       "      <td>[-0.0949274, -0.107294075, -0.16559914, -0.174...</td>\n",
       "      <td>41431</td>\n",
       "      <td>135</td>\n",
       "      <td>4</td>\n",
       "      <td>73</td>\n",
       "    </tr>\n",
       "    <tr>\n",
       "      <th>2</th>\n",
       "      <td>0</td>\n",
       "      <td>[-0.12904441, -0.07724628, -0.09799071, -0.164...</td>\n",
       "      <td>39419</td>\n",
       "      <td>339</td>\n",
       "      <td>4</td>\n",
       "      <td>73</td>\n",
       "    </tr>\n",
       "    <tr>\n",
       "      <th>3</th>\n",
       "      <td>1</td>\n",
       "      <td>[-0.12783332, -0.133868, -0.10101265, -0.18888...</td>\n",
       "      <td>36087</td>\n",
       "      <td>135</td>\n",
       "      <td>4</td>\n",
       "      <td>73</td>\n",
       "    </tr>\n",
       "    <tr>\n",
       "      <th>4</th>\n",
       "      <td>1</td>\n",
       "      <td>[-0.14092924, -0.1258284, -0.10809927, -0.1765...</td>\n",
       "      <td>34132</td>\n",
       "      <td>3</td>\n",
       "      <td>4</td>\n",
       "      <td>73</td>\n",
       "    </tr>\n",
       "  </tbody>\n",
       "</table>\n",
       "</div>"
      ],
      "text/plain": [
       "   discount                                          embedding  partnumber  \\\n",
       "0         0  [-0.13401361, -0.1200429, -0.016117405, -0.167...       32776   \n",
       "1         0  [-0.0949274, -0.107294075, -0.16559914, -0.174...       41431   \n",
       "2         0  [-0.12904441, -0.07724628, -0.09799071, -0.164...       39419   \n",
       "3         1  [-0.12783332, -0.133868, -0.10101265, -0.18888...       36087   \n",
       "4         1  [-0.14092924, -0.1258284, -0.10809927, -0.1765...       34132   \n",
       "\n",
       "   color_id  cod_section  family  \n",
       "0        85            4      73  \n",
       "1       135            4      73  \n",
       "2       339            4      73  \n",
       "3       135            4      73  \n",
       "4         3            4      73  "
      ]
     },
     "execution_count": 52,
     "metadata": {},
     "output_type": "execute_result"
    }
   ],
   "source": [
    "products_data.head()"
   ]
  },
  {
   "cell_type": "markdown",
   "metadata": {},
   "source": [
    "4. Guardado del dataset optimizado."
   ]
  },
  {
   "cell_type": "code",
   "execution_count": 53,
   "metadata": {},
   "outputs": [],
   "source": [
    "# Guardar en formato Pickle\n",
    "products_data.to_pickle('/home/pablost/Hackathon_inditex_data_science/hackathon-inditex-data-recommender/data/processed/new_processed/products_data.pkl')\n"
   ]
  },
  {
   "cell_type": "markdown",
   "metadata": {},
   "source": [
    "---"
   ]
  },
  {
   "cell_type": "code",
   "execution_count": 54,
   "metadata": {},
   "outputs": [
    {
     "name": "stdout",
     "output_type": "stream",
     "text": [
      "Primeras filas del dataset de productos:\n",
      "   discount                                          embedding  partnumber  \\\n",
      "0         0  [-0.13401361, -0.1200429, -0.016117405, -0.167...       32776   \n",
      "1         0  [-0.0949274, -0.107294075, -0.16559914, -0.174...       41431   \n",
      "2         0  [-0.12904441, -0.07724628, -0.09799071, -0.164...       39419   \n",
      "3         1  [-0.12783332, -0.133868, -0.10101265, -0.18888...       36087   \n",
      "4         1  [-0.14092924, -0.1258284, -0.10809927, -0.1765...       34132   \n",
      "\n",
      "   color_id  cod_section  family  popularity  \\\n",
      "0        85            4      73           8   \n",
      "1       135            4      73           7   \n",
      "2       339            4      73          13   \n",
      "3       135            4      73           8   \n",
      "4         3            4      73           6   \n",
      "\n",
      "                                   reduced_embedding  cluster  \\\n",
      "0  [1.2057264, 4.4139466, 0.20042135, -1.7360271,...       17   \n",
      "1  [0.7336314, 5.2660546, 0.45971245, -2.7015095,...       17   \n",
      "2  [1.5594726, 5.369461, 0.9488037, -1.6584145, 0...       17   \n",
      "3  [0.96842235, 5.4791536, 0.29451838, -2.2336957...       17   \n",
      "4  [1.7068892, 5.317778, 0.5276807, -2.311787, -0...       17   \n",
      "\n",
      "                      similar_products discount_category  \n",
      "0   [14863, 35047, 9002, 39419, 10164]        Full Price  \n",
      "1  [33920, 21839, 20083, 28665, 38988]        Full Price  \n",
      "2     [12976, 6752, 20009, 9284, 7604]        Full Price  \n",
      "3  [25108, 10165, 41664, 12219, 34132]        Discounted  \n",
      "4  [37825, 36087, 38383, 12219, 35244]        Discounted  \n",
      "\n",
      "Información del dataset de productos:\n",
      "<class 'pandas.core.frame.DataFrame'>\n",
      "RangeIndex: 43692 entries, 0 to 43691\n",
      "Data columns (total 11 columns):\n",
      " #   Column             Non-Null Count  Dtype \n",
      "---  ------             --------------  ----- \n",
      " 0   discount           43692 non-null  int8  \n",
      " 1   embedding          43692 non-null  object\n",
      " 2   partnumber         43692 non-null  int32 \n",
      " 3   color_id           43692 non-null  int32 \n",
      " 4   cod_section        43692 non-null  int16 \n",
      " 5   family             43692 non-null  int32 \n",
      " 6   popularity         43692 non-null  int32 \n",
      " 7   reduced_embedding  43692 non-null  object\n",
      " 8   cluster            43692 non-null  int32 \n",
      " 9   similar_products   43692 non-null  object\n",
      " 10  discount_category  43692 non-null  object\n",
      "dtypes: int16(1), int32(5), int8(1), object(4)\n",
      "memory usage: 2.3+ MB\n",
      "None\n"
     ]
    }
   ],
   "source": [
    "import pandas as pd\n",
    "import matplotlib.pyplot as plt\n",
    "import seaborn as sns\n",
    "\n",
    "# Ruta del archivo\n",
    "file_path = \"/home/pablost/Hackathon_inditex_data_science/hackathon-inditex-data-recommender/data/processed/new_processed/products_data_enriched.pkl\"\n",
    "\n",
    "# Cargar el dataset de productos\n",
    "products_df = pd.read_pickle(file_path)\n",
    "\n",
    "# Verificar las primeras filas del dataset\n",
    "print(\"Primeras filas del dataset de productos:\")\n",
    "print(products_df.head())\n",
    "\n",
    "# Información general del dataset\n",
    "print(\"\\nInformación del dataset de productos:\")\n",
    "print(products_df.info())"
   ]
  },
  {
   "cell_type": "code",
   "execution_count": 55,
   "metadata": {},
   "outputs": [
    {
     "name": "stdout",
     "output_type": "stream",
     "text": [
      "\n",
      "Distribución de productos con y sin descuento:\n",
      "discount\n",
      "0    42314\n",
      "1     1378\n",
      "Name: count, dtype: int64\n"
     ]
    },
    {
     "data": {
      "image/png": "[encoded data removed]",
      "text/plain": [
       "<Figure size 600x400 with 1 Axes>"
      ]
     },
     "metadata": {},
     "output_type": "display_data"
    },
    {
     "name": "stdout",
     "output_type": "stream",
     "text": [
      "\n",
      "Ejemplo de embeddings de productos:\n",
      "0    [-0.13401361, -0.1200429, -0.016117405, -0.167...\n",
      "1    [-0.0949274, -0.107294075, -0.16559914, -0.174...\n",
      "2    [-0.12904441, -0.07724628, -0.09799071, -0.164...\n",
      "3    [-0.12783332, -0.133868, -0.10101265, -0.18888...\n",
      "4    [-0.14092924, -0.1258284, -0.10809927, -0.1765...\n",
      "Name: embedding, dtype: object\n",
      "Dimensiones únicas de embeddings: [0]\n",
      "\n",
      "Distribución de colores:\n",
      "color_id\n",
      "3      5725\n",
      "64     3271\n",
      "83     2711\n",
      "397    1463\n",
      "85     1371\n",
      "Name: count, dtype: int64\n"
     ]
    },
    {
     "data": {
      "image/png": "[encoded data removed]",
      "text/plain": [
       "<Figure size 1200x600 with 1 Axes>"
      ]
     },
     "metadata": {},
     "output_type": "display_data"
    },
    {
     "name": "stdout",
     "output_type": "stream",
     "text": [
      "\n",
      "Distribución de familias:\n",
      "family\n",
      "73     4817\n",
      "156    3572\n",
      "51     3479\n",
      "53     2559\n",
      "15     1558\n",
      "Name: count, dtype: int64\n"
     ]
    },
    {
     "data": {
      "image/png": "[encoded data removed]",
      "text/plain": [
       "<Figure size 1200x600 with 1 Axes>"
      ]
     },
     "metadata": {},
     "output_type": "display_data"
    },
    {
     "name": "stdout",
     "output_type": "stream",
     "text": [
      "\n",
      "Distribución por sección:\n",
      "cod_section\n",
      "1    18415\n",
      "3     9540\n",
      "4     8969\n",
      "2     6768\n",
      "Name: count, dtype: int64\n"
     ]
    },
    {
     "data": {
      "image/png": "[encoded data removed]",
      "text/plain": [
       "<Figure size 800x400 with 1 Axes>"
      ]
     },
     "metadata": {},
     "output_type": "display_data"
    }
   ],
   "source": [
    "# Distribución de productos con descuento\n",
    "if 'discount' in products_df.columns:\n",
    "    discount_counts = products_df['discount'].value_counts()\n",
    "    print(\"\\nDistribución de productos con y sin descuento:\")\n",
    "    print(discount_counts)\n",
    "    plt.figure(figsize=(6, 4))\n",
    "    sns.barplot(x=discount_counts.index, y=discount_counts.values)\n",
    "    plt.title(\"Distribución de productos con y sin descuento\")\n",
    "    plt.xlabel(\"Descuento\")\n",
    "    plt.ylabel(\"Cantidad\")\n",
    "    plt.xticks([0, 1], [\"No\", \"Sí\"])\n",
    "    plt.show()\n",
    "\n",
    "# Análisis de embeddings de productos\n",
    "if 'embedding' in products_df.columns:\n",
    "    print(\"\\nEjemplo de embeddings de productos:\")\n",
    "    print(products_df['embedding'].head())\n",
    "    # Dimensionalidad de embeddings\n",
    "    embedding_dims = products_df['embedding'].apply(lambda x: len(x) if isinstance(x, list) else 0).unique()\n",
    "    print(\"Dimensiones únicas de embeddings:\", embedding_dims)\n",
    "\n",
    "# Distribución de colores\n",
    "if 'color_id' in products_df.columns:\n",
    "    color_counts = products_df['color_id'].value_counts()\n",
    "    print(\"\\nDistribución de colores:\")\n",
    "    print(color_counts.head())\n",
    "    plt.figure(figsize=(12, 6))\n",
    "    color_counts[:20].plot(kind='bar')\n",
    "    plt.title(\"Distribución de colores (Top 20)\")\n",
    "    plt.xlabel(\"Color ID\")\n",
    "    plt.ylabel(\"Cantidad\")\n",
    "    plt.show()\n",
    "\n",
    "# Distribución de familias\n",
    "if 'family' in products_df.columns:\n",
    "    family_counts = products_df['family'].value_counts()\n",
    "    print(\"\\nDistribución de familias:\")\n",
    "    print(family_counts.head())\n",
    "    plt.figure(figsize=(12, 6))\n",
    "    family_counts[:20].plot(kind='bar')\n",
    "    plt.title(\"Distribución de familias de productos (Top 20)\")\n",
    "    plt.xlabel(\"Familia\")\n",
    "    plt.ylabel(\"Cantidad\")\n",
    "    plt.show()\n",
    "\n",
    "# Distribución por sección\n",
    "if 'cod_section' in products_df.columns:\n",
    "    section_counts = products_df['cod_section'].value_counts()\n",
    "    print(\"\\nDistribución por sección:\")\n",
    "    print(section_counts.head())\n",
    "    plt.figure(figsize=(8, 4))\n",
    "    sns.barplot(x=section_counts.index, y=section_counts.values)\n",
    "    plt.title(\"Distribución por sección\")\n",
    "    plt.xlabel(\"Sección\")\n",
    "    plt.ylabel(\"Cantidad\")\n",
    "    plt.show()\n",
    "\n",
    "# Correlaciones entre variables numéricas\n",
    "numerical_columns = products_df.select_dtypes(include=['float64', 'int64']).columns\n",
    "if not numerical_columns.empty:\n",
    "    print(\"\\nCorrelaciones entre variables numéricas:\")\n",
    "    corr_matrix = products_df[numerical_columns].corr()\n",
    "    print(corr_matrix)\n",
    "    plt.figure(figsize=(10, 8))\n",
    "    sns.heatmap(corr_matrix, annot=True, fmt=\".2f\", cmap=\"coolwarm\")\n",
    "    plt.title(\"Mapa de calor de correlaciones\")\n",
    "    plt.show()\n"
   ]
  },
  {
   "cell_type": "code",
   "execution_count": null,
   "metadata": {},
   "outputs": [
    {
     "name": "stdout",
     "output_type": "stream",
     "text": [
      "\n",
      "Estadísticas descriptivas:\n"
     ]
    }
   ],
   "source": [
    "# Estadísticas descriptivas\n",
    "print(\"\\nEstadísticas descriptivas:\")\n",
    "print(products_df.describe(include='all'))"
   ]
  }
 ],
 "metadata": {
  "kernelspec": {
   "display_name": ".env",
   "language": "python",
   "name": "python3"
  },
  "language_info": {
   "codemirror_mode": {
    "name": "ipython",
    "version": 3
   },
   "file_extension": ".py",
   "mimetype": "text/x-python",
   "name": "python",
   "nbconvert_exporter": "python",
   "pygments_lexer": "ipython3",
   "version": "3.10.12"
  }
 },
 "nbformat": 4,
 "nbformat_minor": 2
}
