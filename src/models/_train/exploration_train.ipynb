{
 "cells": [
  {
   "cell_type": "markdown",
   "metadata": {},
   "source": [
    "# Exploration Train"
   ]
  },
  {
   "cell_type": "code",
   "execution_count": 1,
   "metadata": {},
   "outputs": [
    {
     "name": "stdout",
     "output_type": "stream",
     "text": [
      "<class 'pandas.core.frame.DataFrame'>\n",
      "RangeIndex: 46551445 entries, 0 to 46551444\n",
      "Data columns (total 9 columns):\n",
      " #   Column           Dtype  \n",
      "---  ------           -----  \n",
      " 0   session_id       int64  \n",
      " 1   date             object \n",
      " 2   timestamp_local  object \n",
      " 3   add_to_cart      int64  \n",
      " 4   user_id          float64\n",
      " 5   country          int64  \n",
      " 6   partnumber       int64  \n",
      " 7   device_type      int64  \n",
      " 8   pagetype         float64\n",
      "dtypes: float64(2), int64(5), object(2)\n",
      "memory usage: 3.1+ GB\n",
      "None\n",
      "   session_id        date          timestamp_local  add_to_cart   user_id  \\\n",
      "0          64  2024-06-06  2024-06-06 16:43:17.389            0       NaN   \n",
      "1         117  2024-06-08  2024-06-08 15:11:02.782            0       NaN   \n",
      "2         117  2024-06-08  2024-06-08 15:11:44.797            0       NaN   \n",
      "3         579  2024-06-05  2024-06-05 19:24:48.397            0       NaN   \n",
      "4        1220  2024-06-04  2024-06-04 08:21:13.476            0  480729.0   \n",
      "\n",
      "   country  partnumber  device_type  pagetype  \n",
      "0       29       14327            1      24.0  \n",
      "1       57       38422            1      24.0  \n",
      "2       57       19763            1      24.0  \n",
      "3       29       30253            1      24.0  \n",
      "4       25        1592            1      24.0  \n",
      "session_id                0\n",
      "date                      0\n",
      "timestamp_local           0\n",
      "add_to_cart               0\n",
      "user_id            39694715\n",
      "country                   0\n",
      "partnumber                0\n",
      "device_type               0\n",
      "pagetype               1197\n",
      "dtype: int64\n"
     ]
    }
   ],
   "source": [
    "import pandas as pd\n",
    "\n",
    "# Cargar train.csv\n",
    "train_path = '/home/pablost/Hackathon_inditex_data_science/hackathon-inditex-data-recommender/data/raw/train.csv'\n",
    "train_data = pd.read_csv(train_path)\n",
    "\n",
    "# Exploración inicial\n",
    "print(train_data.info())  # Información general\n",
    "print(train_data.head())  # Primeras filas\n",
    "print(train_data.isnull().sum())  # Valores nulos por columna\n"
   ]
  },
  {
   "cell_type": "markdown",
   "metadata": {},
   "source": [
    "\n",
    "### **Análisis Inicial**\n",
    "1. **Dimensiones:**\n",
    "   - **Filas:** 46,551,445.\n",
    "   - **Columnas:** 9.\n",
    "\n",
    "2. **Columnas Clave:**\n",
    "   - **`add_to_cart`:** Indicador binario (0/1) sobre si el producto fue añadido al carrito.\n",
    "   - **`user_id`:** Tiene **39,694,715 valores nulos (85.3%)**, lo que corresponde a usuarios no logueados.\n",
    "   - **`pagetype`:** Tiene **1,197 valores nulos**, lo que es insignificante comparado con el tamaño del dataset.\n",
    "   - **`date` y `timestamp_local`:** Ambas están en formato `object`, deberían convertirse a `datetime`.\n",
    "   - **Otras columnas (`session_id`, `country`, `partnumber`, `device_type`):** Completas, pero sus tipos pueden ser optimizados.\n",
    "\n",
    "3. **Uso de Memoria:**\n",
    "   - Actual: **3.1+ GB**, lo cual es elevado, pero puede reducirse significativamente con optimizaciones.\n"
   ]
  },
  {
   "cell_type": "markdown",
   "metadata": {},
   "source": [
    "1. Manejo de valores nulos"
   ]
  },
  {
   "cell_type": "code",
   "execution_count": 2,
   "metadata": {},
   "outputs": [],
   "source": [
    "# Rellenar valores nulos en user_id con -1\n",
    "train_data['user_id'] = train_data['user_id'].fillna(-1).astype('int32')\n",
    "\n",
    "# Rellenar valores nulos en pagetype con -1\n",
    "train_data['pagetype'] = train_data['pagetype'].fillna(-1).astype('int16')\n"
   ]
  },
  {
   "cell_type": "markdown",
   "metadata": {},
   "source": [
    "2. Transformación de variables temporales"
   ]
  },
  {
   "cell_type": "code",
   "execution_count": 3,
   "metadata": {},
   "outputs": [],
   "source": [
    "# Convertir date y timestamp_local a datetime\n",
    "train_data['date'] = pd.to_datetime(train_data['date'])\n",
    "train_data['timestamp_local'] = pd.to_datetime(train_data['timestamp_local'])\n"
   ]
  },
  {
   "cell_type": "markdown",
   "metadata": {},
   "source": [
    "3. Optimización de tipos de datos"
   ]
  },
  {
   "cell_type": "code",
   "execution_count": 4,
   "metadata": {},
   "outputs": [
    {
     "name": "stdout",
     "output_type": "stream",
     "text": [
      "<class 'pandas.core.frame.DataFrame'>\n",
      "RangeIndex: 46551445 entries, 0 to 46551444\n",
      "Data columns (total 9 columns):\n",
      " #   Column           Dtype         \n",
      "---  ------           -----         \n",
      " 0   session_id       int32         \n",
      " 1   date             datetime64[ns]\n",
      " 2   timestamp_local  datetime64[ns]\n",
      " 3   add_to_cart      int8          \n",
      " 4   user_id          int32         \n",
      " 5   country          int16         \n",
      " 6   partnumber       int32         \n",
      " 7   device_type      int8          \n",
      " 8   pagetype         int16         \n",
      "dtypes: datetime64[ns](2), int16(2), int32(3), int8(2)\n",
      "memory usage: 1.5 GB\n",
      "None\n"
     ]
    }
   ],
   "source": [
    "# Optimizar tipos de datos\n",
    "train_data['session_id'] = train_data['session_id'].astype('int32')\n",
    "train_data['country'] = train_data['country'].astype('int16')\n",
    "train_data['partnumber'] = train_data['partnumber'].astype('int32')\n",
    "train_data['device_type'] = train_data['device_type'].astype('int8')\n",
    "train_data['add_to_cart'] = train_data['add_to_cart'].astype('int8')\n",
    "\n",
    "# Confirmar cambios\n",
    "print(train_data.info())\n"
   ]
  },
  {
   "cell_type": "markdown",
   "metadata": {},
   "source": [
    "4. Guardado del dataset optimizado"
   ]
  },
  {
   "cell_type": "code",
   "execution_count": 5,
   "metadata": {},
   "outputs": [],
   "source": [
    "train_data.to_csv('/home/pablost/Hackathon_inditex_data_science/hackathon-inditex-data-recommender/data/processed/new_processed/train_data.csv', index=False)\n",
    "train_data.to_pickle('/home/pablost/Hackathon_inditex_data_science/hackathon-inditex-data-recommender/data/processed/new_processed/train_data.pkl')\n"
   ]
  }
 ],
 "metadata": {
  "kernelspec": {
   "display_name": "Python 3",
   "language": "python",
   "name": "python3"
  },
  "language_info": {
   "codemirror_mode": {
    "name": "ipython",
    "version": 3
   },
   "file_extension": ".py",
   "mimetype": "text/x-python",
   "name": "python",
   "nbconvert_exporter": "python",
   "pygments_lexer": "ipython3",
   "version": "3.12.0"
  }
 },
 "nbformat": 4,
 "nbformat_minor": 2
}
