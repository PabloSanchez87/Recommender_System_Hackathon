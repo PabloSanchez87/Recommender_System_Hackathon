{
 "cells": [
  {
   "cell_type": "markdown",
   "metadata": {},
   "source": [
    "# Exploration test\n"
   ]
  },
  {
   "cell_type": "code",
   "execution_count": 1,
   "metadata": {},
   "outputs": [
    {
     "name": "stdout",
     "output_type": "stream",
     "text": [
      "<class 'pandas.core.frame.DataFrame'>\n",
      "RangeIndex: 29275 entries, 0 to 29274\n",
      "Data columns (total 8 columns):\n",
      " #   Column           Non-Null Count  Dtype  \n",
      "---  ------           --------------  -----  \n",
      " 0   session_id       29275 non-null  int64  \n",
      " 1   date             29275 non-null  object \n",
      " 2   timestamp_local  29275 non-null  object \n",
      " 3   user_id          5766 non-null   float64\n",
      " 4   country          29275 non-null  int64  \n",
      " 5   partnumber       29275 non-null  int64  \n",
      " 6   device_type      29275 non-null  int64  \n",
      " 7   pagetype         29275 non-null  float64\n",
      "dtypes: float64(2), int64(4), object(2)\n",
      "memory usage: 1.8+ MB\n",
      "None\n",
      "   session_id        date          timestamp_local  user_id  country  \\\n",
      "0         746  2024-06-15  2024-06-15 18:36:47.390      NaN       57   \n",
      "1         746  2024-06-15  2024-06-15 18:37:04.052      NaN       57   \n",
      "2         746  2024-06-15  2024-06-15 18:37:48.159      NaN       57   \n",
      "3         746  2024-06-15  2024-06-15 18:38:19.899      NaN       57   \n",
      "4         746  2024-06-15  2024-06-15 18:38:46.492      NaN       57   \n",
      "\n",
      "   partnumber  device_type  pagetype  \n",
      "0        1254            1      24.0  \n",
      "1       32544            1      24.0  \n",
      "2       12639            1      24.0  \n",
      "3       18048            1      24.0  \n",
      "4       13295            1      24.0  \n",
      "session_id             0\n",
      "date                   0\n",
      "timestamp_local        0\n",
      "user_id            23509\n",
      "country                0\n",
      "partnumber             0\n",
      "device_type            0\n",
      "pagetype               0\n",
      "dtype: int64\n"
     ]
    }
   ],
   "source": [
    "import pandas as pd\n",
    "\n",
    "# Cargar test.csv\n",
    "test_path = '/home/pablost/Hackathon_inditex_data_science/hackathon-inditex-data-recommender/data/raw/test.csv'\n",
    "test_data = pd.read_csv(test_path)\n",
    "\n",
    "# Exploración inicial\n",
    "print(test_data.info())  # Información general\n",
    "print(test_data.head())  # Primeras filas\n",
    "print(test_data.isnull().sum())  # Valores nulos por columna\n"
   ]
  },
  {
   "cell_type": "markdown",
   "metadata": {},
   "source": [
    "### **Análisis Inicial**\n",
    "1. **Dimensiones:**\n",
    "   - Total de filas: 29,275.\n",
    "   - Total de columnas: 8.\n",
    "\n",
    "2. **Columnas:**\n",
    "   - **`session_id`:** Identificador único de la sesión, no tiene valores nulos.\n",
    "   - **`date` y `timestamp_local`:** Datos temporales sin valores nulos, aunque están en formato `object`.\n",
    "   - **`user_id`:** Tiene **23,509 valores nulos (80.3%)**, lo que corresponde a usuarios no logueados según el contexto.\n",
    "   - **`country`, `partnumber`, `device_type`, `pagetype`:** Completas y con tipos adecuados.\n",
    "\n",
    "3. **Notas clave:**\n",
    "   - `user_id` necesita ser transformado para identificar claramente a usuarios no logueados.\n",
    "   - `date` y `timestamp_local` deberían ser convertidas a un formato datetime para facilitar el análisis temporal.\n",
    "   - Tipos de datos como `session_id`, `country`, `device_type` y `pagetype` pueden ser optimizados.\n"
   ]
  },
  {
   "cell_type": "markdown",
   "metadata": {},
   "source": [
    "---"
   ]
  },
  {
   "cell_type": "markdown",
   "metadata": {},
   "source": [
    "\n",
    "### **Plan de Transformación**\n",
    "\n",
    "1. **Identificar usuarios no logueados:**\n",
    "   - Reemplazar valores nulos en `user_id` con `-1` para indicar usuarios no logueados.\n",
    "\n",
    "2. **Transformar variables temporales:**\n",
    "   - Convertir `date` y `timestamp_local` al tipo `datetime`.\n",
    "\n",
    "3. **Optimizar tipos de datos:**\n",
    "   - Reducir `session_id`, `country`, `device_type`, y `partnumber` a tipos más pequeños (`int32` o `int16`).\n",
    "   - Cambiar `pagetype` a `int16` si no requiere decimales.\n",
    "\n"
   ]
  },
  {
   "cell_type": "markdown",
   "metadata": {},
   "source": [
    "1. Manejo de user_id:"
   ]
  },
  {
   "cell_type": "code",
   "execution_count": 2,
   "metadata": {},
   "outputs": [],
   "source": [
    "# Reemplazar valores nulos en user_id con -1\n",
    "test_data['user_id'] = test_data['user_id'].fillna(-1).astype('int32')\n"
   ]
  },
  {
   "cell_type": "markdown",
   "metadata": {},
   "source": [
    "2. Transformación de variables temporales:"
   ]
  },
  {
   "cell_type": "code",
   "execution_count": 3,
   "metadata": {},
   "outputs": [],
   "source": [
    "# Convertir date y timestamp_local a datetime\n",
    "test_data['date'] = pd.to_datetime(test_data['date'])\n",
    "test_data['timestamp_local'] = pd.to_datetime(test_data['timestamp_local'])\n"
   ]
  },
  {
   "cell_type": "markdown",
   "metadata": {},
   "source": [
    "3. Optimización de tipos de datos:"
   ]
  },
  {
   "cell_type": "code",
   "execution_count": 4,
   "metadata": {},
   "outputs": [
    {
     "name": "stdout",
     "output_type": "stream",
     "text": [
      "<class 'pandas.core.frame.DataFrame'>\n",
      "RangeIndex: 29275 entries, 0 to 29274\n",
      "Data columns (total 8 columns):\n",
      " #   Column           Non-Null Count  Dtype         \n",
      "---  ------           --------------  -----         \n",
      " 0   session_id       29275 non-null  int32         \n",
      " 1   date             29275 non-null  datetime64[ns]\n",
      " 2   timestamp_local  29275 non-null  datetime64[ns]\n",
      " 3   user_id          29275 non-null  int32         \n",
      " 4   country          29275 non-null  int16         \n",
      " 5   partnumber       29275 non-null  int32         \n",
      " 6   device_type      29275 non-null  int8          \n",
      " 7   pagetype         29275 non-null  int16         \n",
      "dtypes: datetime64[ns](2), int16(2), int32(3), int8(1)\n",
      "memory usage: 943.6 KB\n",
      "None\n"
     ]
    }
   ],
   "source": [
    "# Optimizar tipos de datos\n",
    "test_data['session_id'] = test_data['session_id'].astype('int32')\n",
    "test_data['country'] = test_data['country'].astype('int16')\n",
    "test_data['partnumber'] = test_data['partnumber'].astype('int32')\n",
    "test_data['device_type'] = test_data['device_type'].astype('int8')\n",
    "test_data['pagetype'] = test_data['pagetype'].astype('int16')\n",
    "\n",
    "# Confirmar cambios\n",
    "print(test_data.info())"
   ]
  },
  {
   "cell_type": "markdown",
   "metadata": {},
   "source": [
    "4. Guardado del dataset optimizado"
   ]
  },
  {
   "cell_type": "code",
   "execution_count": 5,
   "metadata": {},
   "outputs": [],
   "source": [
    "test_data.to_csv('/home/pablost/Hackathon_inditex_data_science/hackathon-inditex-data-recommender/data/processed/new_processed/test_data.csv', index=False)\n",
    "test_data.to_pickle('/home/pablost/Hackathon_inditex_data_science/hackathon-inditex-data-recommender/data/processed/new_processed/test_data.pkl')"
   ]
  },
  {
   "cell_type": "markdown",
   "metadata": {},
   "source": [
    "---"
   ]
  },
  {
   "cell_type": "code",
   "execution_count": 5,
   "metadata": {},
   "outputs": [
    {
     "name": "stdout",
     "output_type": "stream",
     "text": [
      "    session_id       date         timestamp_local  user_id  country  \\\n",
      "0          746 2024-06-15 2024-06-15 18:36:47.390       -1       57   \n",
      "1          746 2024-06-15 2024-06-15 18:37:04.052       -1       57   \n",
      "2          746 2024-06-15 2024-06-15 18:37:48.159       -1       57   \n",
      "3          746 2024-06-15 2024-06-15 18:38:19.899       -1       57   \n",
      "4          746 2024-06-15 2024-06-15 18:38:46.492       -1       57   \n",
      "5          746 2024-06-15 2024-06-15 18:38:56.264       -1       57   \n",
      "6          746 2024-06-15 2024-06-15 18:39:15.605       -1       57   \n",
      "7         1306 2024-06-15 2024-06-15 13:15:55.471       -1       34   \n",
      "8         1364 2024-06-15 2024-06-15 00:02:16.930       -1       34   \n",
      "9         1377 2024-06-15 2024-06-15 19:08:13.376   259465       25   \n",
      "10        1377 2024-06-15 2024-06-15 19:08:17.288   259465       25   \n",
      "11        1377 2024-06-15 2024-06-15 19:08:18.078   259465       25   \n",
      "12        1377 2024-06-15 2024-06-15 19:09:46.989   259465       25   \n",
      "13        1377 2024-06-15 2024-06-15 19:09:48.136   259465       25   \n",
      "14        2251 2024-06-15 2024-06-15 13:17:36.968   486272       25   \n",
      "15        2344 2024-06-15 2024-06-15 18:43:34.272       -1       34   \n",
      "16        3125 2024-06-15 2024-06-15 02:47:01.996       -1       34   \n",
      "17        3125 2024-06-15 2024-06-15 02:47:31.914       -1       34   \n",
      "18        3125 2024-06-15 2024-06-15 02:47:36.195       -1       34   \n",
      "19        3125 2024-06-15 2024-06-15 02:47:49.662       -1       34   \n",
      "\n",
      "    partnumber  device_type  pagetype  \n",
      "0         1254            1        24  \n",
      "1        32544            1        24  \n",
      "2        12639            1        24  \n",
      "3        18048            1        24  \n",
      "4        13295            1        24  \n",
      "5         9377            1        24  \n",
      "6         9467            1        24  \n",
      "7        27437            1        24  \n",
      "8        19693            1        24  \n",
      "9        42854            1        24  \n",
      "10       10205            1        24  \n",
      "11       42854            1        24  \n",
      "12        3610            1        24  \n",
      "13        6409            1        24  \n",
      "14       11024            1        24  \n",
      "15       20175            3         1  \n",
      "16       11695            1        24  \n",
      "17        4774            1        24  \n",
      "18       19733            1        24  \n",
      "19        4774            1        24  \n"
     ]
    }
   ],
   "source": [
    "import pandas as pd\n",
    "\n",
    "# Cargar el dataset desde el archivo pickle\n",
    "test_data = pd.read_pickle('/home/pablost/Hackathon_inditex_data_science/hackathon-inditex-data-recommender/data/processed/new_processed/test_data.pkl')\n",
    "\n",
    "# Verificar que se cargó correctamente\n",
    "print(test_data.head(20))"
   ]
  },
  {
   "cell_type": "code",
   "execution_count": null,
   "metadata": {},
   "outputs": [],
   "source": []
  }
 ],
 "metadata": {
  "kernelspec": {
   "display_name": ".env",
   "language": "python",
   "name": "python3"
  },
  "language_info": {
   "codemirror_mode": {
    "name": "ipython",
    "version": 3
   },
   "file_extension": ".py",
   "mimetype": "text/x-python",
   "name": "python",
   "nbconvert_exporter": "python",
   "pygments_lexer": "ipython3",
   "version": "3.10.12"
  }
 },
 "nbformat": 4,
 "nbformat_minor": 2
}
