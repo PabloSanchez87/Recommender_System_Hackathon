{
 "cells": [
  {
   "cell_type": "markdown",
   "metadata": {},
   "source": [
    "# Exploration data\n"
   ]
  },
  {
   "cell_type": "code",
   "execution_count": 9,
   "metadata": {},
   "outputs": [
    {
     "name": "stdout",
     "output_type": "stream",
     "text": [
      "Test Data\n",
      "(29275, 8)\n",
      "Index(['session_id', 'date', 'timestamp_local', 'user_id', 'country',\n",
      "       'partnumber', 'device_type', 'pagetype'],\n",
      "      dtype='object')\n",
      "   session_id        date          timestamp_local  user_id  country  \\\n",
      "0         746  2024-06-15  2024-06-15 18:36:47.390      NaN       57   \n",
      "1         746  2024-06-15  2024-06-15 18:37:04.052      NaN       57   \n",
      "2         746  2024-06-15  2024-06-15 18:37:48.159      NaN       57   \n",
      "3         746  2024-06-15  2024-06-15 18:38:19.899      NaN       57   \n",
      "4         746  2024-06-15  2024-06-15 18:38:46.492      NaN       57   \n",
      "\n",
      "   partnumber  device_type  pagetype  \n",
      "0        1254            1      24.0  \n",
      "1       32544            1      24.0  \n",
      "2       12639            1      24.0  \n",
      "3       18048            1      24.0  \n",
      "4       13295            1      24.0  \n",
      "\n",
      "Train Data\n",
      "(46551445, 9)\n",
      "Index(['session_id', 'date', 'timestamp_local', 'add_to_cart', 'user_id',\n",
      "       'country', 'partnumber', 'device_type', 'pagetype'],\n",
      "      dtype='object')\n",
      "   session_id        date          timestamp_local  add_to_cart   user_id  \\\n",
      "0          64  2024-06-06  2024-06-06 16:43:17.389            0       NaN   \n",
      "1         117  2024-06-08  2024-06-08 15:11:02.782            0       NaN   \n",
      "2         117  2024-06-08  2024-06-08 15:11:44.797            0       NaN   \n",
      "3         579  2024-06-05  2024-06-05 19:24:48.397            0       NaN   \n",
      "4        1220  2024-06-04  2024-06-04 08:21:13.476            0  480729.0   \n",
      "\n",
      "   country  partnumber  device_type  pagetype  \n",
      "0       29       14327            1      24.0  \n",
      "1       57       38422            1      24.0  \n",
      "2       57       19763            1      24.0  \n",
      "3       29       30253            1      24.0  \n",
      "4       25        1592            1      24.0  \n"
     ]
    }
   ],
   "source": [
    "import pandas as pd\n",
    "\n",
    "# Cargar archivos CSV\n",
    "test_data = pd.read_csv('/home/pablost/Hackathon_inditex_data_science/hackathon-inditex-data-recommender/data/raw/test.csv')\n",
    "train_data = pd.read_csv('/home/pablost/Hackathon_inditex_data_science/hackathon-inditex-data-recommender/data/raw/train.csv')\n",
    "\n",
    "# Explorar estructura\n",
    "print(\"Test Data\")\n",
    "print(test_data.shape)  # Dimensiones del DataFrame\n",
    "print(test_data.columns)  # Nombres de las columnas\n",
    "print(test_data.head())  # Primeras filas\n",
    "\n",
    "print(\"\\nTrain Data\")\n",
    "print(train_data.shape)\n",
    "print(train_data.columns)\n",
    "print(train_data.head())\n",
    "\n"
   ]
  },
  {
   "cell_type": "code",
   "execution_count": 10,
   "metadata": {},
   "outputs": [
    {
     "name": "stdout",
     "output_type": "stream",
     "text": [
      "<class 'pandas.core.frame.DataFrame'>\n",
      "      discount                                          embedding  partnumber  \\\n",
      "0            0  [-0.13401361, -0.1200429, -0.016117405, -0.167...       32776   \n",
      "1            0  [-0.0949274, -0.107294075, -0.16559914, -0.174...       41431   \n",
      "2            0  [-0.12904441, -0.07724628, -0.09799071, -0.164...       39419   \n",
      "3            1  [-0.12783332, -0.133868, -0.10101265, -0.18888...       36087   \n",
      "4            1  [-0.14092924, -0.1258284, -0.10809927, -0.1765...       34132   \n",
      "...        ...                                                ...         ...   \n",
      "43687        0  [-0.1725829, 0.780391, -0.16265817, -0.1397962...         234   \n",
      "43688        0  [-0.08114546, 0.7171631, 0.2157723, -0.1599884...         235   \n",
      "43689        0  [-0.1517721, 1.640085, -0.1506274, -0.06088442...         236   \n",
      "43690        0  [-0.078192495, 0.012600096, -0.085486665, 0.49...         237   \n",
      "43691        0  [-0.12523538, 0.058919854, -0.14703132, -0.185...         238   \n",
      "\n",
      "       color_id  cod_section  family  \n",
      "0            85          4.0      73  \n",
      "1           135          4.0      73  \n",
      "2           339          4.0      73  \n",
      "3           135          4.0      73  \n",
      "4             3          4.0      73  \n",
      "...         ...          ...     ...  \n",
      "43687       368          2.0     192  \n",
      "43688       152          2.0     138  \n",
      "43689       226          2.0     135  \n",
      "43690       122          2.0      10  \n",
      "43691        85          2.0     207  \n",
      "\n",
      "[43692 rows x 6 columns]\n"
     ]
    }
   ],
   "source": [
    "import pickle\n",
    "\n",
    "# Cargar archivo Pickle\n",
    "with open('/home/pablost/Hackathon_inditex_data_science/hackathon-inditex-data-recommender/data/raw/products.pkl', 'rb') as file:\n",
    "    products_data = pickle.load(file)\n",
    "\n",
    "# Explorar estructura\n",
    "print(type(products_data))  # Tipo de datos\n",
    "if isinstance(products_data, dict):\n",
    "    print(len(products_data))  # Número de elementos\n",
    "    print(list(products_data.keys())[:5])  # Primeras claves\n",
    "    print(products_data[list(products_data.keys())[0]])  # Ejemplo de datos\n",
    "elif isinstance(products_data, list):\n",
    "    print(len(products_data))  # Número de elementos\n",
    "    print(products_data[:5])  # Primeros elementos\n",
    "else:\n",
    "    print(products_data)  # Otra estructura\n"
   ]
  },
  {
   "cell_type": "markdown",
   "metadata": {},
   "source": [
    "---"
   ]
  },
  {
   "cell_type": "markdown",
   "metadata": {},
   "source": [
    "## User_details"
   ]
  },
  {
   "cell_type": "markdown",
   "metadata": {},
   "source": [
    "**1. Exploración de los Datos**"
   ]
  },
  {
   "cell_type": "code",
   "execution_count": 1,
   "metadata": {},
   "outputs": [
    {
     "name": "stdout",
     "output_type": "stream",
     "text": [
      "<class 'pandas.core.frame.DataFrame'>\n",
      "RangeIndex: 557006 entries, 0 to 557005\n",
      "Data columns (total 5 columns):\n",
      " #   Column          Non-Null Count   Dtype \n",
      "---  ------          --------------   ----- \n",
      " 0   user_id         557006 non-null  int64 \n",
      " 1   values.country  557006 non-null  object\n",
      " 2   values.R        557006 non-null  object\n",
      " 3   values.F        557006 non-null  object\n",
      " 4   values.M        557006 non-null  object\n",
      "dtypes: int64(1), object(4)\n",
      "memory usage: 21.2+ MB\n",
      "None\n",
      "   user_id values.country values.R values.F              values.M\n",
      "0   430096           [25]     [18]      [6]  [18.197777777777777]\n",
      "1   134018           [25]     [66]     [32]   [38.86882352941177]\n",
      "2    53750           [25]      [2]     [64]   [38.54178082191778]\n",
      "3   180665           [25]     [22]     [22]  [43.407916666666665]\n",
      "4   134209           [25]      [7]      [2]               [43.46]\n"
     ]
    }
   ],
   "source": [
    "import pandas as pd\n",
    "import json\n",
    "\n",
    "# Cargar archivo JSON\n",
    "with open('/home/pablost/Hackathon_inditex_data_science/hackathon-inditex-data-recommender/data/raw/format_user_details.json', 'r') as file:\n",
    "    user_details = json.load(file)\n",
    "\n",
    "# Convertir a DataFrame para facilitar el análisis\n",
    "user_df = pd.json_normalize(user_details)\n",
    "\n",
    "# Exploración inicial\n",
    "print(user_df.info())  # Información general del DataFrame\n",
    "print(user_df.head())  # Muestra las primeras filas\n",
    "# print(user_df.describe(include='all'))  # Estadísticas generales\n"
   ]
  },
  {
   "cell_type": "markdown",
   "metadata": {},
   "source": [
    "**2. Validaciones Básicas**"
   ]
  },
  {
   "cell_type": "code",
   "execution_count": 2,
   "metadata": {},
   "outputs": [
    {
     "name": "stdout",
     "output_type": "stream",
     "text": [
      "user_id           0\n",
      "values.country    0\n",
      "values.R          0\n",
      "values.F          0\n",
      "values.M          0\n",
      "dtype: int64\n",
      "0\n"
     ]
    }
   ],
   "source": [
    "# Verificar valores nulos\n",
    "print(user_df.isnull().sum())\n",
    "\n",
    "# Verificar duplicados\n",
    "print(user_df.duplicated(subset=['user_id']).sum())\n"
   ]
  },
  {
   "cell_type": "markdown",
   "metadata": {},
   "source": [
    "**3. Limpieza y Transformación**"
   ]
  },
  {
   "cell_type": "code",
   "execution_count": 3,
   "metadata": {},
   "outputs": [
    {
     "name": "stdout",
     "output_type": "stream",
     "text": [
      "<class 'pandas.core.frame.DataFrame'>\n",
      "RangeIndex: 557006 entries, 0 to 557005\n",
      "Data columns (total 5 columns):\n",
      " #   Column   Non-Null Count   Dtype  \n",
      "---  ------   --------------   -----  \n",
      " 0   user_id  557006 non-null  int64  \n",
      " 1   country  557006 non-null  int64  \n",
      " 2   R        557006 non-null  int64  \n",
      " 3   F        557006 non-null  int64  \n",
      " 4   M        557006 non-null  float64\n",
      "dtypes: float64(1), int64(4)\n",
      "memory usage: 21.2 MB\n",
      "None\n",
      "   user_id  country   R   F          M\n",
      "0   430096       25  18   6  18.197778\n",
      "1   134018       25  66  32  38.868824\n",
      "2    53750       25   2  64  38.541781\n",
      "3   180665       25  22  22  43.407917\n",
      "4   134209       25   7   2  43.460000\n"
     ]
    }
   ],
   "source": [
    "# Convertir listas a valores individuales\n",
    "user_df['country'] = user_df['values.country'].apply(lambda x: x[0] if isinstance(x, list) else x)\n",
    "user_df['R'] = user_df['values.R'].apply(lambda x: x[0] if isinstance(x, list) else x)\n",
    "user_df['F'] = user_df['values.F'].apply(lambda x: x[0] if isinstance(x, list) else x)\n",
    "user_df['M'] = user_df['values.M'].apply(lambda x: x[0] if isinstance(x, list) else x)\n",
    "\n",
    "# Eliminar columnas originales\n",
    "user_df = user_df.drop(columns=['values.country', 'values.R', 'values.F', 'values.M'])\n",
    "\n",
    "# Verificar el resultado\n",
    "print(user_df.info())\n",
    "print(user_df.head())\n"
   ]
  },
  {
   "cell_type": "markdown",
   "metadata": {},
   "source": [
    "Normalización de las métricas R, F, M"
   ]
  },
  {
   "cell_type": "code",
   "execution_count": 4,
   "metadata": {},
   "outputs": [
    {
     "name": "stdout",
     "output_type": "stream",
     "text": [
      "   user_id  country         R         F         M\n",
      "0   430096       25  0.016438  0.000558  0.000001\n",
      "1   134018       25  0.060274  0.002976  0.000003\n",
      "2    53750       25  0.001826  0.005951  0.000003\n",
      "3   180665       25  0.020091  0.002046  0.000003\n",
      "4   134209       25  0.006393  0.000186  0.000003\n"
     ]
    }
   ],
   "source": [
    "from sklearn.preprocessing import MinMaxScaler\n",
    "\n",
    "scaler = MinMaxScaler()\n",
    "user_df[['R', 'F', 'M']] = scaler.fit_transform(user_df[['R', 'F', 'M']])\n",
    "\n",
    "print(user_df.head())\n"
   ]
  },
  {
   "cell_type": "markdown",
   "metadata": {},
   "source": [
    "Exploración Estadística:"
   ]
  },
  {
   "cell_type": "code",
   "execution_count": 5,
   "metadata": {},
   "outputs": [
    {
     "data": {
      "image/png": "[encoded data removed]",
      "text/plain": [
       "<Figure size 1000x600 with 4 Axes>"
      ]
     },
     "metadata": {},
     "output_type": "display_data"
    }
   ],
   "source": [
    "import matplotlib.pyplot as plt\n",
    "\n",
    "user_df[['R', 'F', 'M']].hist(bins=20, figsize=(10, 6))\n",
    "plt.show()\n"
   ]
  },
  {
   "cell_type": "markdown",
   "metadata": {},
   "source": [
    "Unicidad de user_id: Asegurémonos de que no haya duplicados."
   ]
  },
  {
   "cell_type": "code",
   "execution_count": 6,
   "metadata": {},
   "outputs": [],
   "source": [
    "assert user_df['user_id'].is_unique, \"Los IDs de usuario no son únicos\"\n"
   ]
  },
  {
   "cell_type": "markdown",
   "metadata": {},
   "source": [
    "Revisión de Valores Fuera de Rango: "
   ]
  },
  {
   "cell_type": "code",
   "execution_count": 10,
   "metadata": {},
   "outputs": [],
   "source": [
    "assert user_df[['R', 'F', 'M']].min().min() >= 0, \"Existen valores negativos\"\n",
    "assert user_df[['R', 'F', 'M']].max().max() <= 1, \"Existen valores mayores a 1\"\n"
   ]
  },
  {
   "cell_type": "markdown",
   "metadata": {},
   "source": [
    "Chequeo General:"
   ]
  },
  {
   "cell_type": "code",
   "execution_count": 8,
   "metadata": {},
   "outputs": [
    {
     "name": "stdout",
     "output_type": "stream",
     "text": [
      "             user_id        country              R              F  \\\n",
      "count  557006.000000  557006.000000  557006.000000  557006.000000   \n",
      "mean   278503.500000      25.129246       0.057873       0.003435   \n",
      "std    160793.926358       2.781777       0.117508       0.005338   \n",
      "min         1.000000       1.000000       0.000000       0.000000   \n",
      "25%    139252.250000      25.000000       0.004566       0.000744   \n",
      "50%    278503.500000      25.000000       0.016438       0.002046   \n",
      "75%    417754.750000      25.000000       0.052968       0.004370   \n",
      "max    557006.000000      93.000000       1.000000       1.000000   \n",
      "\n",
      "                   M  \n",
      "count  557006.000000  \n",
      "mean        0.000026  \n",
      "std         0.002493  \n",
      "min         0.000000  \n",
      "25%         0.000002  \n",
      "50%         0.000003  \n",
      "75%         0.000003  \n",
      "max         1.000000  \n",
      "   user_id  country         R         F         M\n",
      "0   430096       25  0.016438  0.000558  0.000001\n",
      "1   134018       25  0.060274  0.002976  0.000003\n",
      "2    53750       25  0.001826  0.005951  0.000003\n",
      "3   180665       25  0.020091  0.002046  0.000003\n",
      "4   134209       25  0.006393  0.000186  0.000003\n"
     ]
    }
   ],
   "source": [
    "print(user_df.describe())\n",
    "print(user_df.head())\n"
   ]
  },
  {
   "cell_type": "markdown",
   "metadata": {},
   "source": [
    "Optimización de Tipos de Datos"
   ]
  },
  {
   "cell_type": "code",
   "execution_count": 11,
   "metadata": {},
   "outputs": [
    {
     "name": "stdout",
     "output_type": "stream",
     "text": [
      "Tipos actuales:\n",
      "user_id      int64\n",
      "country      int64\n",
      "R          float64\n",
      "F          float64\n",
      "M          float64\n",
      "dtype: object\n",
      "\n",
      "Memoria actual: 21.25 MB\n",
      "\n",
      "Tipos optimizados:\n",
      "user_id      int32\n",
      "country      int32\n",
      "R          float32\n",
      "F          float32\n",
      "M          float32\n",
      "dtype: object\n",
      "\n",
      "Memoria optimizada: 10.62 MB\n"
     ]
    }
   ],
   "source": [
    "# Revisión de tipos actuales\n",
    "print(\"Tipos actuales:\")\n",
    "print(user_df.dtypes)\n",
    "print(\"\\nMemoria actual: {:.2f} MB\".format(user_df.memory_usage(deep=True).sum() / (1024 * 1024)))\n",
    "\n",
    "# Optimización de tipos\n",
    "user_df['user_id'] = user_df['user_id'].astype('int32')\n",
    "user_df['country'] = user_df['country'].astype('int32')\n",
    "user_df['R'] = user_df['R'].astype('float32')\n",
    "user_df['F'] = user_df['F'].astype('float32')\n",
    "user_df['M'] = user_df['M'].astype('float32')\n",
    "\n",
    "# Revisión de tipos optimizados\n",
    "print(\"\\nTipos optimizados:\")\n",
    "print(user_df.dtypes)\n",
    "print(\"\\nMemoria optimizada: {:.2f} MB\".format(user_df.memory_usage(deep=True).sum() / (1024 * 1024)))\n"
   ]
  },
  {
   "cell_type": "markdown",
   "metadata": {},
   "source": [
    "4. Guardado del dataset Optimizado"
   ]
  },
  {
   "cell_type": "code",
   "execution_count": 12,
   "metadata": {},
   "outputs": [],
   "source": [
    "user_df.to_csv('/home/pablost/Hackathon_inditex_data_science/hackathon-inditex-data-recommender/data/processed/new_processed/user_data.csv', index=False)\n"
   ]
  }
 ],
 "metadata": {
  "kernelspec": {
   "display_name": ".env",
   "language": "python",
   "name": "python3"
  },
  "language_info": {
   "codemirror_mode": {
    "name": "ipython",
    "version": 3
   },
   "file_extension": ".py",
   "mimetype": "text/x-python",
   "name": "python",
   "nbconvert_exporter": "python",
   "pygments_lexer": "ipython3",
   "version": "3.10.12"
  }
 },
 "nbformat": 4,
 "nbformat_minor": 2
}
